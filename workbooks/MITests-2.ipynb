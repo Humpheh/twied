{
 "cells": [
  {
   "cell_type": "code",
   "execution_count": 2,
   "metadata": {
    "collapsed": false
   },
   "outputs": [
    {
     "name": "stdout",
     "output_type": "stream",
     "text": [
      "Populating the interactive namespace from numpy and matplotlib\n"
     ]
    }
   ],
   "source": [
    "% pylab inline\n",
    "figsize(10, 8)\n",
    "\n",
    "import sys\n",
    "sys.path.append(\"D:/ds/code\")"
   ]
  },
  {
   "cell_type": "code",
   "execution_count": null,
   "metadata": {
    "collapsed": false
   },
   "outputs": [],
   "source": [
    "from pymongo import MongoClient\n",
    "from Polygon import Polygon\n",
    "from Polygon import Error as PolygonError\n",
    "\n",
    "from geopy.distance import vincenty\n",
    "\n",
    "# connect to mongodb\n",
    "client = MongoClient(\"localhost\", 27017)\n",
    "db = client[\"twitter\"]\n",
    "\n",
    "# get the tweet cursor\n",
    "cursor = db.geotweets.find()\n",
    "\n",
    "real_loc = []\n",
    "inf_loc  = []\n",
    "inf_poly = []\n",
    "distances = []\n",
    "weights = []\n",
    "insides = []\n",
    "usernames = []\n",
    "areas = []\n",
    "\n",
    "totalcount = 0\n",
    "count = 0\n",
    "nocount = 0\n",
    "\n",
    "for doc in cursor:\n",
    "    totalcount += 1\n",
    "    if doc[\"geo\"] is None:\n",
    "        continue\n",
    "\n",
    "    # get the real point\n",
    "    point = (doc[\"geo\"][\"coordinates\"][1], doc[\"geo\"][\"coordinates\"][0])\n",
    "    # get the poly\n",
    "    try:\n",
    "        poly = eval(doc[\"locinf\"][\"mi\"][\"test\"][\"poly\"])\n",
    "    except KeyError:\n",
    "        print(\"Poly not in tweet doc\")\n",
    "        nocount += 1\n",
    "        continue\n",
    "        \n",
    "    centres = []\n",
    "    \n",
    "    p = Polygon()\n",
    "    for i in poly:\n",
    "        p.addContour(i)\n",
    "\n",
    "    try:\n",
    "        center = p.center()\n",
    "    except PolygonError:\n",
    "        nocount += 1\n",
    "        continue\n",
    "\n",
    "    inside = p.isInside(point[0], point[1])\n",
    "    distance = vincenty((point[1], point[0]), (center[1], center[0])).km\n",
    "    \n",
    "    areas.append(p.area())\n",
    "    real_loc.append(point)\n",
    "    inf_loc.append(center)\n",
    "    inf_poly.append(poly)\n",
    "    weights.append(doc[\"locinf\"][\"mi\"][\"test\"][\"weight\"])\n",
    "    distances.append(distance)\n",
    "    insides.append(inside)\n",
    "    usernames.append(doc[\"user\"][\"screen_name\"])\n",
    "\n",
    "    count += 1\n",
    "    if count % 1000 == 0:\n",
    "        print(\"Processed\", count)\n",
    "    #print(\"Inside:\", ('Y' if inside else 'N'), \"- Distance:\", distance)\n",
    "\n",
    "print(\"Mean distance from polygon center:\", sum(distances) / len(distances))\n",
    "print(\"Fraction within polygon:\", sum(insides) / len(insides))\n",
    "print(\"Classified:\", (count-nocount) / count)"
   ]
  },
  {
   "cell_type": "code",
   "execution_count": null,
   "metadata": {
    "collapsed": true
   },
   "outputs": [],
   "source": [
    "# get the count for each user\n",
    "from collections import defaultdict\n",
    "\n",
    "counts = defaultdict(int)\n",
    "for i in usernames:\n",
    "    counts[i] += 1\n",
    "\n",
    "user_dict = counts\n",
    "items = counts.items()\n",
    "items = sorted(items, key=lambda x: -x[1])"
   ]
  },
  {
   "cell_type": "code",
   "execution_count": null,
   "metadata": {
    "collapsed": false
   },
   "outputs": [],
   "source": [
    "f_real = 0\n",
    "f_inf = 1\n",
    "f_dist = 2\n",
    "f_weight = 3\n",
    "f_area = 4\n",
    "f_inside = 5\n",
    "f_username = 6\n",
    "f_usercount = 7\n",
    "\n",
    "dcounts = [counts[c] for c in usernames]\n",
    "data = asarray([real_loc, inf_loc, distances, weights, areas, insides, usernames, dcounts]).T\n",
    "data"
   ]
  },
  {
   "cell_type": "code",
   "execution_count": null,
   "metadata": {
    "collapsed": false
   },
   "outputs": [],
   "source": [
    "def dta(limit):\n",
    "    return data[data[:,f_usercount] < limit]\n",
    "\n",
    "xlabel('Error distance (km)')\n",
    "ylabel('Count')\n",
    "h = hist(data[:,f_dist], bins=100)"
   ]
  },
  {
   "cell_type": "code",
   "execution_count": null,
   "metadata": {
    "collapsed": false
   },
   "outputs": [],
   "source": [
    "def stats(d, title):\n",
    "    print('====', title, '====')\n",
    "    print(\"Max error distance:    %.2fkm\" % max(d[:,f_dist]))\n",
    "    print(\"Min error distance:    %.2fkm\" % min(d[:,f_dist]))\n",
    "    print(\"Mean error distance:   %.2fkm\" % mean(d[:,f_dist]))\n",
    "    print(\"Median error distance: %.2fkm\" % median(d[:,f_dist]))\n",
    "    print(\"\")\n",
    "    \n",
    "stats(data, \"All tweets\")\n",
    "stats(dta(2000), \"Less than 2000 tweets\")\n",
    "stats(dta(100), \"Less than 100 tweets\")"
   ]
  },
  {
   "cell_type": "code",
   "execution_count": null,
   "metadata": {
    "collapsed": false
   },
   "outputs": [],
   "source": [
    "def acck(d, k):\n",
    "    return sum(d <= k) / len(d)\n",
    "\n",
    "figsize(10, 8)\n",
    "\n",
    "tests = [10000, 2000, 1000, 50, 2]\n",
    "for i in tests:\n",
    "    d = dta(i)[:,f_dist]\n",
    "    plot([acck(d, k) for k in range(0, 10000, 10)], label='Max %i tweets' % i)\n",
    "\n",
    "title('Accuracy @ k distance')\n",
    "xlabel('k error (km)')\n",
    "ylabel('Fraction of tweets')\n",
    "legend(loc=4)"
   ]
  },
  {
   "cell_type": "code",
   "execution_count": null,
   "metadata": {
    "collapsed": false
   },
   "outputs": [],
   "source": [
    "title('Error distance for users with less than 2000 tweets in period')\n",
    "xlabel('Error distance (km)')\n",
    "ylabel('Count')\n",
    "h = hist(dta(2000)[:,f_dist], bins=100)"
   ]
  },
  {
   "cell_type": "code",
   "execution_count": null,
   "metadata": {
    "collapsed": false
   },
   "outputs": [],
   "source": [
    "from implementation.multiind.polystacker import plot_area\n",
    "\n",
    "inf_poly_weights = []\n",
    "for i in range(len(weights)):\n",
    "    if user_dict[usernames[i]] > 50:\n",
    "        continue\n",
    "        \n",
    "    if inf_poly[i] is not None and weights[i] is not None:\n",
    "        inf_poly_weights.append([(inf_poly[i][x], weights[i]) for x in range(len(inf_poly[i]))])\n",
    "\n",
    "res = plot_area(inf_poly_weights)"
   ]
  },
  {
   "cell_type": "code",
   "execution_count": 9,
   "metadata": {
    "collapsed": false
   },
   "outputs": [
    {
     "data": {
      "text/plain": [
       "[2, 3, 4]"
      ]
     },
     "execution_count": 9,
     "metadata": {},
     "output_type": "execute_result"
    }
   ],
   "source": [
    "a = [1,2,3]\n",
    "a.append(4)\n",
    "a[1:]"
   ]
  },
  {
   "cell_type": "code",
   "execution_count": null,
   "metadata": {
    "collapsed": false
   },
   "outputs": [],
   "source": [
    "res_m = res[0]# clip(res[0], 0, 1)\n",
    "\n",
    "figsize(20, 6)\n",
    "imshow(res_m, interpolation='none')\n",
    "colorbar(orientation='vertical')"
   ]
  },
  {
   "cell_type": "code",
   "execution_count": null,
   "metadata": {
    "collapsed": false
   },
   "outputs": [],
   "source": [
    "def acck(d, k):\n",
    "    return sum(d <= k) / len(d)\n",
    "\n",
    "figsize(10, 8)\n",
    "\n",
    "tests = [10000, 2000, 1000, 50, 2]\n",
    "for i in tests:\n",
    "    dis = distanceslimited(i)\n",
    "    plot([acck(dis, k) for k in range(0, 10000, 10)], label='Max %i tweets' % i)\n",
    "\n",
    "legend(loc=4)"
   ]
  },
  {
   "cell_type": "code",
   "execution_count": null,
   "metadata": {
    "collapsed": false
   },
   "outputs": [],
   "source": [
    "from mpl_toolkits.basemap import Basemap\n",
    "\n",
    "fig = figure(figsize=(14,7))\n",
    "ax = fig.add_subplot(111, frame_on=False)\n",
    "mp = Basemap(projection='robin', lat_0=0, lon_0=0,\n",
    "              resolution='l', area_thresh=1000.0)\n",
    "\n",
    "for p in inf_loc:\n",
    "    if p is None: \n",
    "        continue\n",
    "    x,y = mp(p[0], p[1])\n",
    "    mp.plot(x, y, '.2', markersize=2, color='green', alpha=0.4)\n",
    "\n",
    "#mp.drawcoastlines()\n",
    "#mp.drawcountries()\n",
    "mp.fillcontinents(color='#CCCCCC')#, zorder=0)\n",
    "mp.drawmapboundary()\n",
    "\n",
    "plt.savefig('map-points.png', dpi=200, alpha=True)"
   ]
  },
  {
   "cell_type": "code",
   "execution_count": null,
   "metadata": {
    "collapsed": false
   },
   "outputs": [],
   "source": [
    "fig = figure(figsize=(14,7))\n",
    "ax = fig.add_subplot(111, frame_on=False)\n",
    "mp = Basemap(projection='robin', lat_0=0, lon_0=0,\n",
    "              resolution='l', area_thresh=1000.0)\n",
    "\n",
    "for p in range(len(inf_loc)):\n",
    "    if real_loc[p] is None or inf_loc[p] is None: \n",
    "        continue\n",
    "        \n",
    "    x1, y1 = mp(real_loc[p][0], real_loc[p][1])\n",
    "    x2, y2 = mp(inf_loc[p][0], inf_loc[p][1])\n",
    "    \n",
    "    mp.plot((x1, x2), (y1, y2), 'b', color='green', alpha=0.1)\n",
    "\n",
    "#mp.drawcoastlines()\n",
    "#mp.drawcountries()\n",
    "mp.fillcontinents(color='#CCCCCC')#, zorder=0)\n",
    "mp.drawmapboundary()\n",
    "\n",
    "plt.savefig('map-lines2.png', dpi=400, alpha=True)"
   ]
  },
  {
   "cell_type": "code",
   "execution_count": null,
   "metadata": {
    "collapsed": false
   },
   "outputs": [],
   "source": [
    "from mpl_toolkits.basemap import Basemap\n",
    "\n",
    "fig = figure(figsize=(14,7))\n",
    "ax = fig.add_subplot(111, frame_on=False)\n",
    "mp = Basemap(projection='robin', lat_0=0, lon_0=0,\n",
    "              resolution='l', area_thresh=1000.0)\n",
    "\n",
    "for p in real_loc:\n",
    "    if p is None: \n",
    "        continue\n",
    "    x,y = mp(p[0], p[1])\n",
    "    mp.plot(x, y, 'o', markersize=2, color='green', alpha=0.4)\n",
    "\n",
    "#mp.drawcoastlines()\n",
    "#mp.drawcountries()\n",
    "mp.fillcontinents(color='#CCCCCC')#, zorder=0)\n",
    "mp.drawmapboundary()\n",
    "\n",
    "plt.savefig('map-points.png', dpi=200, alpha=True)"
   ]
  },
  {
   "cell_type": "code",
   "execution_count": null,
   "metadata": {
    "collapsed": true
   },
   "outputs": [],
   "source": []
  }
 ],
 "metadata": {
  "kernelspec": {
   "display_name": "Python 3",
   "language": "python",
   "name": "python3"
  },
  "language_info": {
   "codemirror_mode": {
    "name": "ipython",
    "version": 3
   },
   "file_extension": ".py",
   "mimetype": "text/x-python",
   "name": "python",
   "nbconvert_exporter": "python",
   "pygments_lexer": "ipython3",
   "version": "3.4.3"
  }
 },
 "nbformat": 4,
 "nbformat_minor": 0
}
