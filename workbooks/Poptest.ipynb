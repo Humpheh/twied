{
 "cells": [
  {
   "cell_type": "code",
   "execution_count": 1,
   "metadata": {
    "collapsed": false
   },
   "outputs": [
    {
     "name": "stdout",
     "output_type": "stream",
     "text": [
      "Populating the interactive namespace from numpy and matplotlib\n"
     ]
    }
   ],
   "source": [
    "% pylab inline\n",
    "figsize(10, 8)\n",
    "\n",
    "import sys\n",
    "sys.path.append(\"D:/ds/code/implementation\")"
   ]
  },
  {
   "cell_type": "code",
   "execution_count": 77,
   "metadata": {
    "collapsed": false
   },
   "outputs": [
    {
     "data": {
      "text/plain": [
       "[<matplotlib.lines.Line2D at 0xfdd3e80>]"
      ]
     },
     "execution_count": 77,
     "metadata": {},
     "output_type": "execute_result"
    },
    {
     "data": {
      "image/png": "[encoded data removed]",
      "text/plain": [
       "<matplotlib.figure.Figure at 0xfdd3a58>"
      ]
     },
     "metadata": {},
     "output_type": "display_data"
    }
   ],
   "source": [
    "points = asarray([(0.4173812, 10), (52.966575, 30)])#, (11436.81, 50)])\n",
    "plot(points[:,0], points[:,1])\n",
    "\n",
    "x1 = 0.4173812\n",
    "y1 = 5\n",
    "x2 = 52.966575\n",
    "y2 = 30\n",
    "\n",
    "a = (y1 - y2) / log(x1 / x2)\n",
    "b = exp(((y2 * log(x1)) - (y1 * log(x2)))/(y1 - y2))\n",
    "\n",
    "ls = a * log(linspace(1, 50, 50) * b)\n",
    "req = lambda x: ceil(a * log(x * b)) if x > 0 else \n",
    "\n",
    "plot(ls)"
   ]
  },
  {
   "cell_type": "code",
   "execution_count": 78,
   "metadata": {
    "collapsed": false
   },
   "outputs": [
    {
     "data": {
      "text/plain": [
       "[1,\n",
       " 7.0,\n",
       " 10.0,\n",
       " 12.0,\n",
       " 14.0,\n",
       " 15.0,\n",
       " 16.0,\n",
       " 17.0,\n",
       " 17.0,\n",
       " 18.0,\n",
       " 19.0,\n",
       " 19.0,\n",
       " 20.0,\n",
       " 20.0,\n",
       " 20.0,\n",
       " 21.0,\n",
       " 21.0,\n",
       " 21.0,\n",
       " 22.0,\n",
       " 22.0,\n",
       " 22.0,\n",
       " 22.0,\n",
       " 23.0,\n",
       " 23.0,\n",
       " 23.0,\n",
       " 23.0,\n",
       " 24.0,\n",
       " 24.0,\n",
       " 24.0,\n",
       " 24.0,\n",
       " 24.0,\n",
       " 24.0,\n",
       " 25.0,\n",
       " 25.0,\n",
       " 25.0,\n",
       " 25.0,\n",
       " 25.0,\n",
       " 25.0,\n",
       " 25.0,\n",
       " 26.0,\n",
       " 26.0,\n",
       " 26.0,\n",
       " 26.0,\n",
       " 26.0,\n",
       " 26.0,\n",
       " 26.0,\n",
       " 26.0,\n",
       " 27.0,\n",
       " 27.0,\n",
       " 27.0,\n",
       " 27.0,\n",
       " 27.0,\n",
       " 27.0,\n",
       " 27.0,\n",
       " 27.0,\n",
       " 27.0,\n",
       " 27.0,\n",
       " 28.0,\n",
       " 28.0,\n",
       " 28.0,\n",
       " 28.0,\n",
       " 28.0,\n",
       " 28.0,\n",
       " 28.0,\n",
       " 28.0,\n",
       " 28.0,\n",
       " 28.0,\n",
       " 28.0,\n",
       " 28.0,\n",
       " 29.0,\n",
       " 29.0,\n",
       " 29.0,\n",
       " 29.0,\n",
       " 29.0,\n",
       " 29.0,\n",
       " 29.0,\n",
       " 29.0,\n",
       " 29.0,\n",
       " 29.0,\n",
       " 29.0,\n",
       " 29.0,\n",
       " 29.0,\n",
       " 29.0,\n",
       " 29.0,\n",
       " 30.0,\n",
       " 30.0,\n",
       " 30.0,\n",
       " 30.0,\n",
       " 30.0,\n",
       " 30.0,\n",
       " 30.0,\n",
       " 30.0,\n",
       " 30.0,\n",
       " 30.0,\n",
       " 30.0,\n",
       " 30.0,\n",
       " 30.0,\n",
       " 30.0,\n",
       " 30.0,\n",
       " 30.0]"
      ]
     },
     "execution_count": 78,
     "metadata": {},
     "output_type": "execute_result"
    }
   ],
   "source": [
    "[req(x) for x in linspace(0, 52, 100)]"
   ]
  }
 ],
 "metadata": {
  "kernelspec": {
   "display_name": "Python 3",
   "language": "python",
   "name": "python3"
  },
  "language_info": {
   "codemirror_mode": {
    "name": "ipython",
    "version": 3
   },
   "file_extension": ".py",
   "mimetype": "text/x-python",
   "name": "python",
   "nbconvert_exporter": "python",
   "pygments_lexer": "ipython3",
   "version": "3.4.4"
  }
 },
 "nbformat": 4,
 "nbformat_minor": 0
}
