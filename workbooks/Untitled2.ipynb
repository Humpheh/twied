{
 "cells": [
  {
   "cell_type": "code",
   "execution_count": 1,
   "metadata": {
    "collapsed": false
   },
   "outputs": [
    {
     "name": "stdout",
     "output_type": "stream",
     "text": [
      "Populating the interactive namespace from numpy and matplotlib\n"
     ]
    }
   ],
   "source": [
    "% pylab inline\n",
    "figsize(10, 8)\n",
    "\n",
    "import sys\n",
    "import pickle\n",
    "\n",
    "sys.path.append(\"D:/ds/code/implementation\")\n",
    "\n",
    "# Get the detected UK events\n",
    "with open('D:/ds/pickles/allevents_uk2.pkl', 'rb') as file:  \n",
    "    docs = pickle.load(file)\n",
    "    \n",
    "# Get the true UK events\n",
    "with open('D:/ds/flooding/floods.pkl', 'rb') as file:\n",
    "    floods = pickle.load(file)"
   ]
  },
  {
   "cell_type": "code",
   "execution_count": 2,
   "metadata": {
    "collapsed": false
   },
   "outputs": [
    {
     "data": {
      "text/plain": [
       "(datetime.datetime(2015, 12, 6, 16, 0, 0, 423000),\n",
       " datetime.datetime(2015, 12, 27, 7, 37, 5, 496000))"
      ]
     },
     "execution_count": 2,
     "metadata": {},
     "output_type": "execute_result"
    }
   ],
   "source": [
    "from datetime import timedelta\n",
    "\n",
    "# get the min and the maximum date of the events\n",
    "tmin = min([d['times']['start'] for d in docs]) - timedelta(days=2) \n",
    "tmax = max([d['times']['finish'] for d in docs])\n",
    "tmin, tmax"
   ]
  },
  {
   "cell_type": "code",
   "execution_count": 3,
   "metadata": {
    "collapsed": false
   },
   "outputs": [
    {
     "name": "stdout",
     "output_type": "stream",
     "text": [
      "Done\n"
     ]
    },
    {
     "data": {
      "text/plain": [
       "964"
      ]
     },
     "execution_count": 3,
     "metadata": {},
     "output_type": "execute_result"
    }
   ],
   "source": [
    "with open('ukpoly.pkl', 'rb') as file:\n",
    "    mp = pickle.load(file)\n",
    "print(\"Done\")\n",
    "\n",
    "docs_bd_uk = []\n",
    "for x in docs:\n",
    "    do = True\n",
    "    for p in x['centres']:\n",
    "        if p is None or not mp.isInside(p[1], p[0]): \n",
    "            do = False\n",
    "            \n",
    "    if do:\n",
    "        docs_bd_uk.append(x)\n",
    "len(docs_bd_uk)"
   ]
  },
  {
   "cell_type": "code",
   "execution_count": 4,
   "metadata": {
    "collapsed": false
   },
   "outputs": [],
   "source": [
    "steps = []\n",
    "tcurr = tmin\n",
    "flood_geo = {}\n",
    "\n",
    "while tcurr < tmax:\n",
    "    tnext = tcurr + timedelta(hours=1)\n",
    "    \n",
    "    curdocs = []\n",
    "    for d in docs_bd_uk:\n",
    "        fint = d['times']['finish']\n",
    "        stat = d['times']['start']\n",
    "        \n",
    "        # In timestep\n",
    "        if stat < tcurr and fint > tcurr:\n",
    "            outdoc = {'centres': d['centres'], 'tweets': []}\n",
    "            for t in d['tweets']:\n",
    "                if t['time'] < tnext:\n",
    "                    outdoc['tweets'].append(t)\n",
    "            curdocs.append(outdoc)\n",
    "    \n",
    "    curflds = []\n",
    "    for f in floods:\n",
    "        if f['starttime'] < tnext and f['starttime'] > tcurr - timedelta(days=2):\n",
    "            curflds.append({'alert': f['alert'], 'code': f['code'], 'coordinates': f['coordinates']})\n",
    "            flood_geo[f['code']] = [f['geometry_data'], f['geometry_type']]\n",
    "        \n",
    "    steps.append([tcurr, curdocs, curflds])        \n",
    "    tcurr = tnext"
   ]
  },
  {
   "cell_type": "code",
   "execution_count": 33,
   "metadata": {
    "collapsed": false
   },
   "outputs": [
    {
     "data": {
      "text/plain": [
       "496"
      ]
     },
     "execution_count": 33,
     "metadata": {},
     "output_type": "execute_result"
    }
   ],
   "source": [
    "len(steps)"
   ]
  },
  {
   "cell_type": "code",
   "execution_count": 5,
   "metadata": {
    "collapsed": false
   },
   "outputs": [
    {
     "name": "stdout",
     "output_type": "stream",
     "text": [
      "Processing: 479\n",
      "http://server.arcgisonline.com/ArcGIS/rest/services/World_Shaded_Relief/MapServer/export?bbox=1087890.2650162876,5936456.2896320885,1205393.050084058,6000235.93555988&bboxSR=5520&imageSR=5520&size=1500,814&dpi=96&format=png32&f=image\n",
      "Processing: 480\n",
      "http://server.arcgisonline.com/ArcGIS/rest/services/World_Shaded_Relief/MapServer/export?bbox=1087890.2650162876,5936456.2896320885,1205393.050084058,6000235.93555988&bboxSR=5520&imageSR=5520&size=1500,814&dpi=96&format=png32&f=image\n",
      "Processing: 481\n",
      "http://server.arcgisonline.com/ArcGIS/rest/services/World_Shaded_Relief/MapServer/export?bbox=1087890.2650162876,5936456.2896320885,1205393.050084058,6000235.93555988&bboxSR=5520&imageSR=5520&size=1500,814&dpi=96&format=png32&f=image\n",
      "Processing: 482\n",
      "http://server.arcgisonline.com/ArcGIS/rest/services/World_Shaded_Relief/MapServer/export?bbox=1087890.2650162876,5936456.2896320885,1205393.050084058,6000235.93555988&bboxSR=5520&imageSR=5520&size=1500,814&dpi=96&format=png32&f=image\n",
      "Processing: 483\n",
      "http://server.arcgisonline.com/ArcGIS/rest/services/World_Shaded_Relief/MapServer/export?bbox=1087890.2650162876,5936456.2896320885,1205393.050084058,6000235.93555988&bboxSR=5520&imageSR=5520&size=1500,814&dpi=96&format=png32&f=image\n",
      "Processing: 484\n",
      "http://server.arcgisonline.com/ArcGIS/rest/services/World_Shaded_Relief/MapServer/export?bbox=1087890.2650162876,5936456.2896320885,1205393.050084058,6000235.93555988&bboxSR=5520&imageSR=5520&size=1500,814&dpi=96&format=png32&f=image\n",
      "Processing: 485\n",
      "http://server.arcgisonline.com/ArcGIS/rest/services/World_Shaded_Relief/MapServer/export?bbox=1087890.2650162876,5936456.2896320885,1205393.050084058,6000235.93555988&bboxSR=5520&imageSR=5520&size=1500,814&dpi=96&format=png32&f=image\n",
      "Processing: 486\n",
      "http://server.arcgisonline.com/ArcGIS/rest/services/World_Shaded_Relief/MapServer/export?bbox=1087890.2650162876,5936456.2896320885,1205393.050084058,6000235.93555988&bboxSR=5520&imageSR=5520&size=1500,814&dpi=96&format=png32&f=image\n",
      "Processing: 487\n",
      "http://server.arcgisonline.com/ArcGIS/rest/services/World_Shaded_Relief/MapServer/export?bbox=1087890.2650162876,5936456.2896320885,1205393.050084058,6000235.93555988&bboxSR=5520&imageSR=5520&size=1500,814&dpi=96&format=png32&f=image\n",
      "Processing: 488\n",
      "http://server.arcgisonline.com/ArcGIS/rest/services/World_Shaded_Relief/MapServer/export?bbox=1087890.2650162876,5936456.2896320885,1205393.050084058,6000235.93555988&bboxSR=5520&imageSR=5520&size=1500,814&dpi=96&format=png32&f=image\n",
      "Processing: 489\n",
      "http://server.arcgisonline.com/ArcGIS/rest/services/World_Shaded_Relief/MapServer/export?bbox=1087890.2650162876,5936456.2896320885,1205393.050084058,6000235.93555988&bboxSR=5520&imageSR=5520&size=1500,814&dpi=96&format=png32&f=image\n",
      "Processing: 490\n",
      "http://server.arcgisonline.com/ArcGIS/rest/services/World_Shaded_Relief/MapServer/export?bbox=1087890.2650162876,5936456.2896320885,1205393.050084058,6000235.93555988&bboxSR=5520&imageSR=5520&size=1500,814&dpi=96&format=png32&f=image\n",
      "Processing: 491\n",
      "http://server.arcgisonline.com/ArcGIS/rest/services/World_Shaded_Relief/MapServer/export?bbox=1087890.2650162876,5936456.2896320885,1205393.050084058,6000235.93555988&bboxSR=5520&imageSR=5520&size=1500,814&dpi=96&format=png32&f=image\n",
      "Processing: 492\n",
      "http://server.arcgisonline.com/ArcGIS/rest/services/World_Shaded_Relief/MapServer/export?bbox=1087890.2650162876,5936456.2896320885,1205393.050084058,6000235.93555988&bboxSR=5520&imageSR=5520&size=1500,814&dpi=96&format=png32&f=image\n",
      "Processing: 493\n",
      "http://server.arcgisonline.com/ArcGIS/rest/services/World_Shaded_Relief/MapServer/export?bbox=1087890.2650162876,5936456.2896320885,1205393.050084058,6000235.93555988&bboxSR=5520&imageSR=5520&size=1500,814&dpi=96&format=png32&f=image\n",
      "Processing: 494\n",
      "http://server.arcgisonline.com/ArcGIS/rest/services/World_Shaded_Relief/MapServer/export?bbox=1087890.2650162876,5936456.2896320885,1205393.050084058,6000235.93555988&bboxSR=5520&imageSR=5520&size=1500,814&dpi=96&format=png32&f=image\n",
      "Processing: 495\n",
      "http://server.arcgisonline.com/ArcGIS/rest/services/World_Shaded_Relief/MapServer/export?bbox=1087890.2650162876,5936456.2896320885,1205393.050084058,6000235.93555988&bboxSR=5520&imageSR=5520&size=1500,814&dpi=96&format=png32&f=image\n"
     ]
    }
   ],
   "source": [
    "from mpl_toolkits.basemap import Basemap\n",
    "from Circles.circles import circle\n",
    "from matplotlib.patches import Polygon as mplPolygon\n",
    "\n",
    "figsize(16, 8)\n",
    "\n",
    "for date_id in range(479, 496):# 100\n",
    "    print(\"Processing:\", date_id)\n",
    "    figure(date_id)\n",
    "    bmp = Basemap(projection='merc', lat_0=53.458736, lon_0=-2.2,\n",
    "        resolution='h', area_thresh = 1000.0,\n",
    "        urcrnrlat=54.05, urcrnrlon=-1.5,\n",
    "        llcrnrlat=53.4, llcrnrlon=-3.2, epsg=5520)\n",
    "\n",
    "    wx = []\n",
    "    wy = []\n",
    "    ax = []\n",
    "    ay = []\n",
    "    for x in steps[date_id][2]:        \n",
    "        try:\n",
    "            x2,y = bmp(x['coordinates'][0], x['coordinates'][1])\n",
    "        except KeyError:\n",
    "            continue\n",
    "\n",
    "        if 'Alert' in x['alert']:\n",
    "            ax.append(x2)\n",
    "            ay.append(y)\n",
    "        else:\n",
    "            wx.append(x2)\n",
    "            wy.append(y)\n",
    "\n",
    "        geodat = eval(flood_geo[x['code']][0])\n",
    "\n",
    "        if flood_geo[x['code']][1] != 'MultiPolygon':\n",
    "            geodat = [geodat]\n",
    "\n",
    "        for o1 in geodat:\n",
    "            for o2 in o1:\n",
    "                xy = []\n",
    "                for i in o2:\n",
    "                    xy.append(bmp(i[0], i[1]))\n",
    "\n",
    "                col = 'red' if 'Warning' in x['alert'] else 'orange'\n",
    "                poly = mplPolygon(xy, facecolor='red' if 'Warning' in x['alert'] else 'orange', alpha=0.8, linewidth=0)\n",
    "                plt.gca().add_patch(poly)\n",
    "\n",
    "    bmp.plot(ax, ay, '.', markersize=10, color='orange', label='Alert Center', alpha=0.8)\n",
    "    bmp.plot(wx, wy, '.', markersize=10, color='red', label='Warning Center', alpha=0.8)\n",
    "\n",
    "    px = []\n",
    "    py = []\n",
    "    for x in steps[date_id][1]:    \n",
    "        for p in x['centres']:\n",
    "            if p is None: \n",
    "                continue\n",
    "\n",
    "            x2,y = bmp(p[1], p[0])\n",
    "            casa = circle(bmp, p[1], p[0], 10)\n",
    "            pol = mplPolygon([c for c in casa], facecolor='green', alpha=0.2, linewidth=0)\n",
    "            plt.gca().add_patch(pol)\n",
    "\n",
    "        for p in x['tweets']:\n",
    "            x2, y = bmp(p['coordinate'][1], p['coordinate'][0])\n",
    "            px.append(x2)\n",
    "            py.append(y)\n",
    "\n",
    "    bmp.scatter(px, py, marker='x', color='teal', label='Tweet')\n",
    "\n",
    "    #bmp.drawcoastlines(color=\"#777777\")\n",
    "    #mp.drawcountries()\n",
    "    #bmp.fillcontinents(color='#CCCCCC', zorder=0)\n",
    "    bmp.drawmapboundary()\n",
    "    #bmp.shadedrelief()\n",
    "    bmp.arcgisimage(service='World_Shaded_Relief', xpixels = 1500, verbose= True) # Elevation/World_Hillshade 1500\n",
    "    #bmp.drawrivers(color='#0000ff')\n",
    "\n",
    "    legend(numpoints=1)\n",
    "\n",
    "    dformat = \"%H:%M %d/%m/%y\"\n",
    "    title(steps[date_id][0].strftime(dformat))\n",
    "    #title('Merseyside, UK (26/12/2015) - Detected Events and Flood Alerts')\n",
    "    tight_layout()\n",
    "    plt.savefig('anim/anim1_' + str(date_id), dpi=100)#, alpha=True)\n",
    "    plt.close()"
   ]
  },
  {
   "cell_type": "code",
   "execution_count": 34,
   "metadata": {
    "collapsed": false
   },
   "outputs": [
    {
     "name": "stdout",
     "output_type": "stream",
     "text": [
      "Processing: 445\n",
      "Processing: 446\n",
      "Processing: 447\n",
      "Processing: 448\n",
      "Processing: 449\n",
      "Processing: 450\n",
      "Processing: 451\n",
      "Processing: 452\n",
      "Processing: 453\n",
      "Processing: 454\n",
      "Processing: 455\n",
      "Processing: 456\n",
      "Processing: 457\n",
      "Processing: 458\n",
      "Processing: 459\n",
      "Processing: 460\n",
      "Processing: 461\n",
      "Processing: 462\n",
      "Processing: 463\n",
      "Processing: 464\n",
      "Processing: 465\n",
      "Processing: 466\n",
      "Processing: 467\n",
      "Processing: 468\n",
      "Processing: 469\n",
      "Processing: 470\n",
      "Processing: 471\n",
      "Processing: 472\n",
      "Processing: 473\n",
      "Processing: 474\n",
      "Processing: 475\n",
      "Processing: 476\n",
      "Processing: 477\n",
      "Processing: 478\n",
      "Processing: 479\n",
      "Processing: 480\n",
      "Processing: 481\n",
      "Processing: 482\n",
      "Processing: 483\n",
      "Processing: 484\n",
      "Processing: 485\n",
      "Processing: 486\n",
      "Processing: 487\n",
      "Processing: 488\n",
      "Processing: 489\n",
      "Processing: 490\n",
      "Processing: 491\n",
      "Processing: 492\n",
      "Processing: 493\n",
      "Processing: 494\n",
      "Processing: 495\n"
     ]
    }
   ],
   "source": [
    "from mpl_toolkits.basemap import Basemap\n",
    "figsize(9, 6)\n",
    "#f, axarr = plt.subplots(1, segs2, sharey=True)\n",
    "\n",
    "#for bm_x in range(segs2):\n",
    "for date_id in range(445, len(steps)):# 100    \n",
    "    print(\"Processing:\", date_id)\n",
    "    f, axarr = plt.subplots(1, 2, sharey=True)\n",
    "    \n",
    "    bmp = Basemap(projection='merc', lat_0=53.458736, lon_0=-2.2,\n",
    "        resolution='i', area_thresh = 1000.0,\n",
    "        urcrnrlat=56, urcrnrlon=2,\n",
    "        llcrnrlat=49.75, llcrnrlon=-6.75, ax=axarr[0]) \n",
    "\n",
    "    wx = []\n",
    "    wy = []\n",
    "    ax = []\n",
    "    ay = []\n",
    "    for x in steps[date_id][2]:\n",
    "        try:\n",
    "            x2,y = bmp(x['coordinates'][0], x['coordinates'][1])\n",
    "        except KeyError:\n",
    "            continue\n",
    "\n",
    "        if 'Alert' in x['alert']:\n",
    "            ax.append(x2)\n",
    "            ay.append(y)\n",
    "        else:\n",
    "            wx.append(x2)\n",
    "            wy.append(y)\n",
    "    \n",
    "    bmp.plot(wx, wy, '.', markersize=12, color='red', alpha=0.5, label='Warning')\n",
    "    bmp.plot(ax, ay, '.', markersize=12, color='orange', alpha=0.5, label='Alert')\n",
    "\n",
    "    bmp.drawcoastlines(color=\"#777777\")\n",
    "    axarr[0].set_title(\"Warnings and Alerts\")\n",
    "    \n",
    "    bmp2 = Basemap(projection='merc', lat_0=53.458736, lon_0=-2.2,\n",
    "        resolution='i', area_thresh = 1000.0,\n",
    "        urcrnrlat=56, urcrnrlon=2,\n",
    "        llcrnrlat=49.75, llcrnrlon=-6.75, ax=axarr[1]) \n",
    "    \n",
    "    px = []\n",
    "    py = []\n",
    "    ms = []\n",
    "    for x in steps[date_id][1]:\n",
    "        for p in x['centres']:\n",
    "            if p is None: \n",
    "                continue\n",
    "\n",
    "            if len(x['tweets']) < 25:\n",
    "                continue\n",
    "\n",
    "            x2,y = bmp2(p[1], p[0])\n",
    "            ms.append(25 + (len(x['tweets'])/len(x['centres'])) ** 1/4)\n",
    "            px.append(x2)\n",
    "            py.append(y)\n",
    "            \n",
    "    bmp2.scatter(px, py, s=ms, marker='.', color='green', alpha=0.5, label='Event')\n",
    "\n",
    "    bmp2.drawcoastlines(color=\"#777777\")\n",
    "    axarr[1].set_title(\"Detected Events\")\n",
    "  \n",
    "    tight_layout()\n",
    "    subplots_adjust(wspace=0, hspace=0, bottom=0, top=0.9)\n",
    "\n",
    "    dformat = \"%H:%M %d/%m/%y\"\n",
    "    suptitle(steps[date_id][0].strftime(dformat))\n",
    "\n",
    "    plt.savefig('anim2/uk-floods_' + str(date_id), dpi=200, alpha=True)\n",
    "    plt.close()"
   ]
  }
 ],
 "metadata": {
  "kernelspec": {
   "display_name": "Python 3",
   "language": "python",
   "name": "python3"
  },
  "language_info": {
   "codemirror_mode": {
    "name": "ipython",
    "version": 3
   },
   "file_extension": ".py",
   "mimetype": "text/x-python",
   "name": "python",
   "nbconvert_exporter": "python",
   "pygments_lexer": "ipython3",
   "version": "3.4.4"
  }
 },
 "nbformat": 4,
 "nbformat_minor": 0
}
