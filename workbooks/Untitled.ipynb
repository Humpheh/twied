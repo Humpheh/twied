{
 "cells": [
  {
   "cell_type": "code",
   "execution_count": 1,
   "metadata": {
    "collapsed": false
   },
   "outputs": [],
   "source": [
    "import sys\n",
    "sys.path.append(\"D:/ds/code/\")\n",
    "sys.path.append(\"D:/ds/code/implementation\")\n",
    "\n",
    "from implementation.multiind.indicators import *"
   ]
  },
  {
   "cell_type": "code",
   "execution_count": 2,
   "metadata": {
    "collapsed": false
   },
   "outputs": [
    {
     "name": "stderr",
     "output_type": "stream",
     "text": [
      "INFO:root:-----------\n",
      "2016-02-21 23:05:06,869 [MainThread ] INFO    - -----------\n",
      "INFO:root:Initialised logging for: C:\\Users\\Humphrey\\Anaconda3\\lib\\site-packages\\ipykernel\\__main__.py 12044\n",
      "2016-02-21 23:05:06,870 [MainThread ] INFO    - Initialised logging for: C:\\Users\\Humphrey\\Anaconda3\\lib\\site-packages\\ipykernel\\__main__.py 12044\n",
      "INFO:root:-----------\n",
      "2016-02-21 23:05:06,871 [MainThread ] INFO    - -----------\n",
      "INFO:root:Connecting to MongoDB...\n",
      "2016-02-21 23:05:06,873 [MainThread ] INFO    - Connecting to MongoDB...\n",
      "INFO:root:Connected to MongoDB.\n",
      "2016-02-21 23:05:06,876 [MainThread ] INFO    - Connected to MongoDB.\n"
     ]
    }
   ],
   "source": [
    "import sys\n",
    "import logging\n",
    "\n",
    "from configparser import NoOptionError\n",
    "\n",
    "from pymongo import MongoClient\n",
    "import twieds\n",
    "\n",
    "config = twieds.setup(\"../implementation/logs/mi_alloc.log\", \"../implementation/settings/locinf.ini\")\n",
    "\n",
    "# connect to the MongoDB\n",
    "logging.info(\"Connecting to MongoDB...\")\n",
    "client = MongoClient(config.get(\"mongo\", \"address\"), config.getint(\"mongo\", \"port\"))\n",
    "logging.info(\"Connected to MongoDB.\")\n",
    "\n",
    "# select the database and collection based off config\n",
    "try:\n",
    "    db = client[config.get(\"mongo\", \"database\")]\n",
    "    col = db[\"geotweets\"]  # config.get(\"mongo\", \"collection\")]\n",
    "except NoOptionError:\n",
    "    logging.critical(\"Cannot connect to MongoDB database and collection. Config incorrect?\")\n",
    "    sys.exit()"
   ]
  },
  {
   "cell_type": "code",
   "execution_count": 3,
   "metadata": {
    "collapsed": true
   },
   "outputs": [],
   "source": [
    "from Polygon import Polygon\n",
    "from Polygon import Error as PolygonError\n",
    "from geopy.distance import vincenty\n",
    "\n",
    "def get_centre(polys):\n",
    "    p = Polygon()\n",
    "    for i in polys:\n",
    "        p.addContour(i[0])\n",
    "\n",
    "    try:\n",
    "        return p.center()\n",
    "    except PolygonError:\n",
    "        return None\n",
    "    \n",
    "def get_distance(centre, real):\n",
    "    return vincenty((centre[1], centre[0]), (real[1], real[0])).km"
   ]
  },
  {
   "cell_type": "code",
   "execution_count": 4,
   "metadata": {
    "collapsed": false
   },
   "outputs": [
    {
     "name": "stderr",
     "output_type": "stream",
     "text": [
      "INFO:urllib3.connectionpool:Starting new HTTP connection (1): api.geonames.org\n",
      "2016-02-21 23:05:09,166 [MainThread ] INFO    - Starting new HTTP connection (1): api.geonames.org\n",
      "DEBUG:urllib3.connectionpool:\"GET /search?q=Greenbelt+MD&orderBy=relevance&style=FULL&username=humph&type=json&fuzzy=0.8&maxRows=5 HTTP/1.1\" 200 None\n",
      "INFO:urllib3.connectionpool:Starting new HTTP connection (1): spotlight.sztaki.hu\n",
      "2016-02-21 23:05:09,430 [MainThread ] INFO    - Starting new HTTP connection (1): spotlight.sztaki.hu\n",
      "DEBUG:urllib3.connectionpool:\"GET /rest/annotate?support=20&text=Greenbelt+MD&confidence=0.2 HTTP/1.1\" 200 None\n",
      "INFO:urllib3.connectionpool:Starting new HTTP connection (1): dbpedia.org\n",
      "2016-02-21 23:05:09,612 [MainThread ] INFO    - Starting new HTTP connection (1): dbpedia.org\n",
      "DEBUG:urllib3.connectionpool:\"GET /data/Greenbelt,_Maryland.json HTTP/1.1\" 200 37143\n",
      "DEBUG:urllib3.connectionpool:\"GET /data/Maryland.json HTTP/1.1\" 200 1091393\n",
      "DEBUG:root:   Message =  2 resources [.#]\n",
      "DEBUG:root:  LocField =  0 geonames []\n",
      "INFO:urllib3.connectionpool:Starting new HTTP connection (1): localhost\n",
      "2016-02-21 23:05:12,652 [MainThread ] INFO    - Starting new HTTP connection (1): localhost\n",
      "DEBUG:urllib3.connectionpool:\"GET /fulltext?format=json&q=Greenbelt+MD&suggest=true HTTP/1.1\" 200 None\n",
      "DEBUG:root:Greenbelt MD =  0 geonames []\n"
     ]
    },
    {
     "name": "stdout",
     "output_type": "stream",
     "text": [
      "Greenbelt MD\n",
      " :"
     ]
    },
    {
     "name": "stderr",
     "output_type": "stream",
     "text": [
      "DEBUG:urllib3.connectionpool:\"GET /fulltext?format=json&q=Greenbelt&suggest=true HTTP/1.1\" 200 None\n",
      "DEBUG:root: Greenbelt =  2 geonames [..]\n",
      "DEBUG:urllib3.connectionpool:\"GET /fulltext?format=json&q=MD&suggest=true HTTP/1.1\" 200 None\n",
      "DEBUG:root:        MD =  10 geonames [..=..]\n"
     ]
    },
    {
     "name": "stdout",
     "output_type": "stream",
     "text": [
      " Greenbelt\n",
      " : MD\n",
      "152 7\n",
      "San Antonio, TX"
     ]
    },
    {
     "name": "stderr",
     "output_type": "stream",
     "text": [
      "DEBUG:urllib3.connectionpool:\"GET /search?q=San+Antonio%2C+TX&orderBy=relevance&style=FULL&username=humph&type=json&fuzzy=0.8&maxRows=5 HTTP/1.1\" 200 None\n",
      "DEBUG:root:  LocField =  1 geonames [.]\n",
      "DEBUG:urllib3.connectionpool:\"GET /fulltext?format=json&q=San+Antonio%2C+TX&suggest=true HTTP/1.1\" 200 None\n",
      "DEBUG:root:San Antonio, TX =  10 geonames [.....]\n"
     ]
    },
    {
     "name": "stdout",
     "output_type": "stream",
     "text": [
      "\n",
      "1"
     ]
    },
    {
     "name": "stderr",
     "output_type": "stream",
     "text": [
      "DEBUG:urllib3.connectionpool:\"GET /search?q=Greenbelt+MD&orderBy=relevance&style=FULL&username=humph&type=json&fuzzy=0.8&maxRows=5 HTTP/1.1\" 200 None\n",
      "DEBUG:urllib3.connectionpool:\"GET /rest/annotate?support=20&text=Greenbelt+MD&confidence=0.2 HTTP/1.1\" 200 None\n",
      "DEBUG:urllib3.connectionpool:\"GET /data/Greenbelt,_Maryland.json HTTP/1.1\" 200 37143\n",
      "DEBUG:urllib3.connectionpool:\"GET /data/Maryland.json HTTP/1.1\" 200 1091393\n",
      "DEBUG:root:   Message =  2 resources [.#]\n",
      "DEBUG:root:  LocField =  0 geonames []\n",
      "DEBUG:urllib3.connectionpool:\"GET /fulltext?format=json&q=Greenbelt+MD&suggest=true HTTP/1.1\" 200 None\n",
      "DEBUG:root:Greenbelt MD =  0 geonames []\n"
     ]
    },
    {
     "name": "stdout",
     "output_type": "stream",
     "text": [
      " 5\n",
      "Greenbelt MD\n",
      " :"
     ]
    },
    {
     "name": "stderr",
     "output_type": "stream",
     "text": [
      "DEBUG:urllib3.connectionpool:\"GET /fulltext?format=json&q=Greenbelt&suggest=true HTTP/1.1\" 200 None\n",
      "DEBUG:root: Greenbelt =  2 geonames [..]\n",
      "DEBUG:urllib3.connectionpool:\"GET /fulltext?format=json&q=MD&suggest=true HTTP/1.1\" 200 None\n",
      "DEBUG:root:        MD =  10 geonames [..=..]\n"
     ]
    },
    {
     "name": "stdout",
     "output_type": "stream",
     "text": [
      " Greenbelt\n",
      " : MD\n",
      "152"
     ]
    },
    {
     "name": "stderr",
     "output_type": "stream",
     "text": [
      "DEBUG:urllib3.connectionpool:\"GET /search?q=Greenbelt+MD&orderBy=relevance&style=FULL&username=humph&type=json&fuzzy=0.8&maxRows=5 HTTP/1.1\" 200 None\n",
      "DEBUG:urllib3.connectionpool:\"GET /rest/annotate?support=20&text=Greenbelt+MD&confidence=0.2 HTTP/1.1\" 200 None\n",
      "DEBUG:urllib3.connectionpool:\"GET /data/Greenbelt,_Maryland.json HTTP/1.1\" 200 37143\n",
      "DEBUG:urllib3.connectionpool:\"GET /data/Maryland.json HTTP/1.1\" 200 1091393\n",
      "DEBUG:root:   Message =  2 resources [.#]\n",
      "DEBUG:root:  LocField =  0 geonames []\n",
      "DEBUG:urllib3.connectionpool:\"GET /fulltext?format=json&q=Greenbelt+MD&suggest=true HTTP/1.1\" 200 None\n",
      "DEBUG:root:Greenbelt MD =  0 geonames []\n"
     ]
    },
    {
     "name": "stdout",
     "output_type": "stream",
     "text": [
      " 7\n",
      "Greenbelt MD\n",
      " :"
     ]
    },
    {
     "name": "stderr",
     "output_type": "stream",
     "text": [
      "DEBUG:urllib3.connectionpool:\"GET /fulltext?format=json&q=Greenbelt&suggest=true HTTP/1.1\" 200 None\n",
      "DEBUG:root: Greenbelt =  2 geonames [..]\n",
      "DEBUG:urllib3.connectionpool:\"GET /fulltext?format=json&q=MD&suggest=true HTTP/1.1\" 200 None\n",
      "DEBUG:root:        MD =  10 geonames [..=..]\n"
     ]
    },
    {
     "name": "stdout",
     "output_type": "stream",
     "text": [
      " Greenbelt\n",
      " : MD\n",
      "152 7\n",
      "Greenbelt MD"
     ]
    },
    {
     "name": "stderr",
     "output_type": "stream",
     "text": [
      "DEBUG:urllib3.connectionpool:\"GET /search?q=Greenbelt+MD&orderBy=relevance&style=FULL&username=humph&type=json&fuzzy=0.8&maxRows=5 HTTP/1.1\" 200 None\n",
      "DEBUG:urllib3.connectionpool:\"GET /rest/annotate?support=20&text=Greenbelt+MD&confidence=0.2 HTTP/1.1\" 200 None\n",
      "DEBUG:urllib3.connectionpool:\"GET /data/Greenbelt,_Maryland.json HTTP/1.1\" 200 37143\n",
      "DEBUG:urllib3.connectionpool:\"GET /data/Maryland.json HTTP/1.1\" 200 1091393\n",
      "DEBUG:root:   Message =  2 resources [.#]\n",
      "DEBUG:root:  LocField =  0 geonames []\n",
      "DEBUG:urllib3.connectionpool:\"GET /fulltext?format=json&q=Greenbelt+MD&suggest=true HTTP/1.1\" 200 None\n",
      "DEBUG:root:Greenbelt MD =  0 geonames []\n"
     ]
    },
    {
     "name": "stdout",
     "output_type": "stream",
     "text": [
      "\n",
      " :"
     ]
    },
    {
     "name": "stderr",
     "output_type": "stream",
     "text": [
      "DEBUG:urllib3.connectionpool:\"GET /fulltext?format=json&q=Greenbelt&suggest=true HTTP/1.1\" 200 None\n",
      "DEBUG:root: Greenbelt =  2 geonames [..]\n",
      "DEBUG:urllib3.connectionpool:\"GET /fulltext?format=json&q=MD&suggest=true HTTP/1.1\" 200 None\n",
      "DEBUG:root:        MD =  10 geonames [..=..]\n"
     ]
    },
    {
     "name": "stdout",
     "output_type": "stream",
     "text": [
      " Greenbelt\n",
      " : MD\n",
      "152 7\n",
      "Greenbelt MD"
     ]
    },
    {
     "name": "stderr",
     "output_type": "stream",
     "text": [
      "DEBUG:urllib3.connectionpool:\"GET /search?q=Greenbelt+MD&orderBy=relevance&style=FULL&username=humph&type=json&fuzzy=0.8&maxRows=5 HTTP/1.1\" 200 None\n",
      "DEBUG:urllib3.connectionpool:\"GET /rest/annotate?support=20&text=Greenbelt+MD&confidence=0.2 HTTP/1.1\" 200 None\n",
      "DEBUG:urllib3.connectionpool:\"GET /data/Greenbelt,_Maryland.json HTTP/1.1\" 200 37143\n",
      "DEBUG:urllib3.connectionpool:\"GET /data/Maryland.json HTTP/1.1\" 200 1091393\n",
      "DEBUG:root:   Message =  2 resources [.#]\n",
      "DEBUG:root:  LocField =  0 geonames []\n",
      "DEBUG:urllib3.connectionpool:\"GET /fulltext?format=json&q=Greenbelt+MD&suggest=true HTTP/1.1\" 200 None\n",
      "DEBUG:root:Greenbelt MD =  0 geonames []\n"
     ]
    },
    {
     "name": "stdout",
     "output_type": "stream",
     "text": [
      "\n",
      " :"
     ]
    },
    {
     "name": "stderr",
     "output_type": "stream",
     "text": [
      "DEBUG:urllib3.connectionpool:\"GET /fulltext?format=json&q=Greenbelt&suggest=true HTTP/1.1\" 200 None\n",
      "DEBUG:root: Greenbelt =  2 geonames [..]\n",
      "DEBUG:urllib3.connectionpool:\"GET /fulltext?format=json&q=MD&suggest=true HTTP/1.1\" 200 None\n",
      "DEBUG:root:        MD =  10 geonames [..=..]\n"
     ]
    },
    {
     "name": "stdout",
     "output_type": "stream",
     "text": [
      " Greenbelt\n",
      " : MD\n",
      "152"
     ]
    },
    {
     "name": "stderr",
     "output_type": "stream",
     "text": [
      "DEBUG:urllib3.connectionpool:\"GET /search?q=Midland%2C+TX&orderBy=relevance&style=FULL&username=humph&type=json&fuzzy=0.8&maxRows=5 HTTP/1.1\" 200 None\n",
      "DEBUG:root:  LocField =  5 geonames [.....]\n",
      "DEBUG:urllib3.connectionpool:\"GET /fulltext?format=json&q=Midland%2C+TX&suggest=true HTTP/1.1\" 200 None\n",
      "DEBUG:root:Midland, TX =  0 geonames []\n"
     ]
    },
    {
     "name": "stdout",
     "output_type": "stream",
     "text": [
      " 7\n",
      "Midland, TX\n",
      ",:"
     ]
    },
    {
     "name": "stderr",
     "output_type": "stream",
     "text": [
      "DEBUG:urllib3.connectionpool:\"GET /fulltext?format=json&q=Midland&suggest=true HTTP/1.1\" 200 None\n",
      "DEBUG:root:   Midland =  10 geonames [....=]\n"
     ]
    },
    {
     "name": "stdout",
     "output_type": "stream",
     "text": [
      " Midland\n",
      ",:"
     ]
    },
    {
     "name": "stderr",
     "output_type": "stream",
     "text": [
      "DEBUG:urllib3.connectionpool:\"GET /fulltext?format=json&q=TX&suggest=true HTTP/1.1\" 200 None\n",
      "DEBUG:root:        TX =  10 geonames [.....]\n",
      "DEBUG:urllib3.connectionpool:\"GET /search?q=Greenbelt+MD&orderBy=relevance&style=FULL&username=humph&type=json&fuzzy=0.8&maxRows=5 HTTP/1.1\" 200 None\n",
      "DEBUG:urllib3.connectionpool:\"GET /rest/annotate?support=20&text=Greenbelt+MD&confidence=0.2 HTTP/1.1\" 200 None\n",
      "DEBUG:urllib3.connectionpool:\"GET /data/Greenbelt,_Maryland.json HTTP/1.1\" 200 37143\n",
      "DEBUG:urllib3.connectionpool:\"GET /data/Maryland.json HTTP/1.1\" 200 1091393\n",
      "DEBUG:root:   Message =  2 resources [.#]\n",
      "DEBUG:root:  LocField =  0 geonames []\n",
      "DEBUG:urllib3.connectionpool:\"GET /fulltext?format=json&q=Greenbelt+MD&suggest=true HTTP/1.1\" 200 None\n",
      "DEBUG:root:Greenbelt MD =  0 geonames []\n"
     ]
    },
    {
     "name": "stdout",
     "output_type": "stream",
     "text": [
      " TX\n",
      "5 12\n",
      "Greenbelt MD\n",
      " :"
     ]
    },
    {
     "name": "stderr",
     "output_type": "stream",
     "text": [
      "DEBUG:urllib3.connectionpool:\"GET /fulltext?format=json&q=Greenbelt&suggest=true HTTP/1.1\" 200 None\n",
      "DEBUG:root: Greenbelt =  2 geonames [..]\n",
      "DEBUG:urllib3.connectionpool:\"GET /fulltext?format=json&q=MD&suggest=true HTTP/1.1\" 200 None\n",
      "DEBUG:root:        MD =  10 geonames [..=..]\n"
     ]
    },
    {
     "name": "stdout",
     "output_type": "stream",
     "text": [
      " Greenbelt\n",
      " : MD\n",
      "152 7\n",
      "Greenbelt MD"
     ]
    },
    {
     "name": "stderr",
     "output_type": "stream",
     "text": [
      "DEBUG:urllib3.connectionpool:\"GET /search?q=Greenbelt+MD&orderBy=relevance&style=FULL&username=humph&type=json&fuzzy=0.8&maxRows=5 HTTP/1.1\" 200 None\n",
      "DEBUG:urllib3.connectionpool:\"GET /rest/annotate?support=20&text=Greenbelt+MD&confidence=0.2 HTTP/1.1\" 200 None\n",
      "DEBUG:urllib3.connectionpool:\"GET /data/Greenbelt,_Maryland.json HTTP/1.1\" 200 37143\n",
      "DEBUG:urllib3.connectionpool:\"GET /data/Maryland.json HTTP/1.1\" 200 1091393\n",
      "DEBUG:root:   Message =  2 resources [.#]\n",
      "DEBUG:root:  LocField =  0 geonames []\n",
      "DEBUG:urllib3.connectionpool:\"GET /fulltext?format=json&q=Greenbelt+MD&suggest=true HTTP/1.1\" 200 None\n",
      "DEBUG:root:Greenbelt MD =  0 geonames []\n"
     ]
    },
    {
     "name": "stdout",
     "output_type": "stream",
     "text": [
      "\n",
      " :"
     ]
    },
    {
     "name": "stderr",
     "output_type": "stream",
     "text": [
      "DEBUG:urllib3.connectionpool:\"GET /fulltext?format=json&q=Greenbelt&suggest=true HTTP/1.1\" 200 None\n",
      "DEBUG:root: Greenbelt =  2 geonames [..]\n",
      "DEBUG:urllib3.connectionpool:\"GET /fulltext?format=json&q=MD&suggest=true HTTP/1.1\" 200 None\n",
      "DEBUG:root:        MD =  10 geonames [..=..]\n"
     ]
    },
    {
     "name": "stdout",
     "output_type": "stream",
     "text": [
      " Greenbelt\n",
      " : MD\n",
      "152 7\n",
      "Greenbelt MD"
     ]
    },
    {
     "name": "stderr",
     "output_type": "stream",
     "text": [
      "DEBUG:urllib3.connectionpool:\"GET /search?q=Greenbelt+MD&orderBy=relevance&style=FULL&username=humph&type=json&fuzzy=0.8&maxRows=5 HTTP/1.1\" 200 None\n",
      "DEBUG:urllib3.connectionpool:\"GET /rest/annotate?support=20&text=Greenbelt+MD&confidence=0.2 HTTP/1.1\" 200 None\n",
      "DEBUG:urllib3.connectionpool:\"GET /data/Greenbelt,_Maryland.json HTTP/1.1\" 200 37143\n",
      "DEBUG:urllib3.connectionpool:\"GET /data/Maryland.json HTTP/1.1\" 200 1091393\n",
      "DEBUG:root:   Message =  2 resources [.#]\n",
      "DEBUG:root:  LocField =  0 geonames []\n",
      "DEBUG:urllib3.connectionpool:\"GET /fulltext?format=json&q=Greenbelt+MD&suggest=true HTTP/1.1\" 200 None\n",
      "DEBUG:root:Greenbelt MD =  0 geonames []\n"
     ]
    },
    {
     "name": "stdout",
     "output_type": "stream",
     "text": [
      "\n",
      " :"
     ]
    },
    {
     "name": "stderr",
     "output_type": "stream",
     "text": [
      "DEBUG:urllib3.connectionpool:\"GET /fulltext?format=json&q=Greenbelt&suggest=true HTTP/1.1\" 200 None\n",
      "DEBUG:root: Greenbelt =  2 geonames [..]\n",
      "DEBUG:urllib3.connectionpool:\"GET /fulltext?format=json&q=MD&suggest=true HTTP/1.1\" 200 None\n",
      "DEBUG:root:        MD =  10 geonames [..=..]\n"
     ]
    },
    {
     "name": "stdout",
     "output_type": "stream",
     "text": [
      " Greenbelt\n",
      " : MD\n",
      "152 7\n",
      "Greenbelt MD"
     ]
    },
    {
     "name": "stderr",
     "output_type": "stream",
     "text": [
      "DEBUG:urllib3.connectionpool:\"GET /search?q=Greenbelt+MD&orderBy=relevance&style=FULL&username=humph&type=json&fuzzy=0.8&maxRows=5 HTTP/1.1\" 200 None\n",
      "DEBUG:urllib3.connectionpool:\"GET /rest/annotate?support=20&text=Greenbelt+MD&confidence=0.2 HTTP/1.1\" 200 None\n",
      "DEBUG:urllib3.connectionpool:\"GET /data/Greenbelt,_Maryland.json HTTP/1.1\" 200 37143\n",
      "DEBUG:urllib3.connectionpool:\"GET /data/Maryland.json HTTP/1.1\" 200 1091393\n",
      "DEBUG:root:   Message =  2 resources [.#]\n",
      "DEBUG:root:  LocField =  0 geonames []\n",
      "DEBUG:urllib3.connectionpool:\"GET /fulltext?format=json&q=Greenbelt+MD&suggest=true HTTP/1.1\" 200 None\n",
      "DEBUG:root:Greenbelt MD =  0 geonames []\n"
     ]
    },
    {
     "name": "stdout",
     "output_type": "stream",
     "text": [
      "\n",
      " :"
     ]
    },
    {
     "name": "stderr",
     "output_type": "stream",
     "text": [
      "DEBUG:urllib3.connectionpool:\"GET /fulltext?format=json&q=Greenbelt&suggest=true HTTP/1.1\" 200 None\n",
      "DEBUG:root: Greenbelt =  2 geonames [..]\n",
      "DEBUG:urllib3.connectionpool:\"GET /fulltext?format=json&q=MD&suggest=true HTTP/1.1\" 200 None\n",
      "DEBUG:root:        MD =  10 geonames [..=..]\n"
     ]
    },
    {
     "name": "stdout",
     "output_type": "stream",
     "text": [
      " Greenbelt\n",
      " : MD\n",
      "152 7\n",
      "Phoenix, AZ"
     ]
    },
    {
     "name": "stderr",
     "output_type": "stream",
     "text": [
      "DEBUG:urllib3.connectionpool:\"GET /search?q=Phoenix%2C+AZ&orderBy=relevance&style=FULL&username=humph&type=json&fuzzy=0.8&maxRows=5 HTTP/1.1\" 200 None\n",
      "DEBUG:root:  LocField =  5 geonames [.....]\n",
      "DEBUG:urllib3.connectionpool:\"GET /fulltext?format=json&q=Phoenix%2C+AZ&suggest=true HTTP/1.1\" 200 None\n",
      "DEBUG:root:Phoenix, AZ =  0 geonames []\n"
     ]
    },
    {
     "name": "stdout",
     "output_type": "stream",
     "text": [
      "\n",
      ",:"
     ]
    },
    {
     "name": "stderr",
     "output_type": "stream",
     "text": [
      "DEBUG:urllib3.connectionpool:\"GET /fulltext?format=json&q=Phoenix&suggest=true HTTP/1.1\" 200 None\n",
      "DEBUG:root:   Phoenix =  10 geonames [.....]\n",
      "DEBUG:urllib3.connectionpool:\"GET /fulltext?format=json&q=AZ&suggest=true HTTP/1.1\" 200 None\n",
      "DEBUG:root:        AZ =  10 geonames [==...]\n"
     ]
    },
    {
     "name": "stdout",
     "output_type": "stream",
     "text": [
      " Phoenix\n",
      ",: AZ\n",
      "5"
     ]
    },
    {
     "name": "stderr",
     "output_type": "stream",
     "text": [
      "DEBUG:urllib3.connectionpool:\"GET /search?q=Greenbelt+MD&orderBy=relevance&style=FULL&username=humph&type=json&fuzzy=0.8&maxRows=5 HTTP/1.1\" 200 None\n",
      "DEBUG:urllib3.connectionpool:\"GET /rest/annotate?support=20&text=Greenbelt+MD&confidence=0.2 HTTP/1.1\" 200 None\n",
      "DEBUG:urllib3.connectionpool:\"GET /data/Greenbelt,_Maryland.json HTTP/1.1\" 200 37143\n",
      "DEBUG:urllib3.connectionpool:\"GET /data/Maryland.json HTTP/1.1\" 200 1091393\n",
      "DEBUG:root:   Message =  2 resources [.#]\n",
      "DEBUG:root:  LocField =  0 geonames []\n",
      "DEBUG:urllib3.connectionpool:\"GET /fulltext?format=json&q=Greenbelt+MD&suggest=true HTTP/1.1\" 200 None\n",
      "DEBUG:root:Greenbelt MD =  0 geonames []\n"
     ]
    },
    {
     "name": "stdout",
     "output_type": "stream",
     "text": [
      " 1035\n",
      "Greenbelt MD\n",
      " :"
     ]
    },
    {
     "name": "stderr",
     "output_type": "stream",
     "text": [
      "DEBUG:urllib3.connectionpool:\"GET /fulltext?format=json&q=Greenbelt&suggest=true HTTP/1.1\" 200 None\n",
      "DEBUG:root: Greenbelt =  2 geonames [..]\n",
      "DEBUG:urllib3.connectionpool:\"GET /fulltext?format=json&q=MD&suggest=true HTTP/1.1\" 200 None\n",
      "DEBUG:root:        MD =  10 geonames [..=..]\n"
     ]
    },
    {
     "name": "stdout",
     "output_type": "stream",
     "text": [
      " Greenbelt\n",
      " : MD\n",
      "152 7\n",
      "Greenbelt MD"
     ]
    },
    {
     "name": "stderr",
     "output_type": "stream",
     "text": [
      "DEBUG:urllib3.connectionpool:\"GET /search?q=Greenbelt+MD&orderBy=relevance&style=FULL&username=humph&type=json&fuzzy=0.8&maxRows=5 HTTP/1.1\" 200 None\n",
      "DEBUG:urllib3.connectionpool:\"GET /rest/annotate?support=20&text=Greenbelt+MD&confidence=0.2 HTTP/1.1\" 200 None\n",
      "DEBUG:urllib3.connectionpool:\"GET /data/Greenbelt,_Maryland.json HTTP/1.1\" 200 37143\n",
      "DEBUG:urllib3.connectionpool:\"GET /data/Maryland.json HTTP/1.1\" 200 1091393\n",
      "DEBUG:root:   Message =  2 resources [.#]\n",
      "DEBUG:root:  LocField =  0 geonames []\n",
      "DEBUG:urllib3.connectionpool:\"GET /fulltext?format=json&q=Greenbelt+MD&suggest=true HTTP/1.1\" 200 None\n",
      "DEBUG:root:Greenbelt MD =  0 geonames []\n"
     ]
    },
    {
     "name": "stdout",
     "output_type": "stream",
     "text": [
      "\n",
      " :"
     ]
    },
    {
     "name": "stderr",
     "output_type": "stream",
     "text": [
      "DEBUG:urllib3.connectionpool:\"GET /fulltext?format=json&q=Greenbelt&suggest=true HTTP/1.1\" 200 None\n",
      "DEBUG:root: Greenbelt =  2 geonames [..]\n",
      "DEBUG:urllib3.connectionpool:\"GET /fulltext?format=json&q=MD&suggest=true HTTP/1.1\" 200 None\n",
      "DEBUG:root:        MD =  10 geonames [..=..]\n"
     ]
    },
    {
     "name": "stdout",
     "output_type": "stream",
     "text": [
      " Greenbelt\n",
      " : MD\n",
      "152"
     ]
    },
    {
     "name": "stderr",
     "output_type": "stream",
     "text": [
      "DEBUG:urllib3.connectionpool:\"GET /search?q=Greenbelt+MD&orderBy=relevance&style=FULL&username=humph&type=json&fuzzy=0.8&maxRows=5 HTTP/1.1\" 200 None\n",
      "DEBUG:urllib3.connectionpool:\"GET /rest/annotate?support=20&text=Greenbelt+MD&confidence=0.2 HTTP/1.1\" 200 None\n",
      "DEBUG:urllib3.connectionpool:\"GET /data/Greenbelt,_Maryland.json HTTP/1.1\" 200 37143\n",
      "DEBUG:urllib3.connectionpool:\"GET /data/Maryland.json HTTP/1.1\" 200 1091393\n",
      "DEBUG:root:   Message =  2 resources [.#]\n",
      "DEBUG:root:  LocField =  0 geonames []\n",
      "DEBUG:urllib3.connectionpool:\"GET /fulltext?format=json&q=Greenbelt+MD&suggest=true HTTP/1.1\" 200 None\n",
      "DEBUG:root:Greenbelt MD =  0 geonames []\n"
     ]
    },
    {
     "name": "stdout",
     "output_type": "stream",
     "text": [
      " 7\n",
      "Greenbelt MD\n",
      " :"
     ]
    },
    {
     "name": "stderr",
     "output_type": "stream",
     "text": [
      "DEBUG:urllib3.connectionpool:\"GET /fulltext?format=json&q=Greenbelt&suggest=true HTTP/1.1\" 200 None\n",
      "DEBUG:root: Greenbelt =  2 geonames [..]\n",
      "DEBUG:urllib3.connectionpool:\"GET /fulltext?format=json&q=MD&suggest=true HTTP/1.1\" 200 None\n",
      "DEBUG:root:        MD =  10 geonames [..=..]\n"
     ]
    },
    {
     "name": "stdout",
     "output_type": "stream",
     "text": [
      " Greenbelt\n",
      " : MD\n",
      "152"
     ]
    },
    {
     "name": "stderr",
     "output_type": "stream",
     "text": [
      "DEBUG:urllib3.connectionpool:\"GET /search?q=Greenbelt+MD&orderBy=relevance&style=FULL&username=humph&type=json&fuzzy=0.8&maxRows=5 HTTP/1.1\" 200 None\n",
      "DEBUG:urllib3.connectionpool:\"GET /rest/annotate?support=20&text=Greenbelt+MD&confidence=0.2 HTTP/1.1\" 200 None\n",
      "DEBUG:urllib3.connectionpool:\"GET /data/Greenbelt,_Maryland.json HTTP/1.1\" 200 37143\n",
      "DEBUG:urllib3.connectionpool:\"GET /data/Maryland.json HTTP/1.1\" 200 1091393\n",
      "DEBUG:root:   Message =  2 resources [.#]\n",
      "DEBUG:root:  LocField =  0 geonames []\n",
      "DEBUG:urllib3.connectionpool:\"GET /fulltext?format=json&q=Greenbelt+MD&suggest=true HTTP/1.1\" 200 None\n",
      "DEBUG:root:Greenbelt MD =  0 geonames []\n"
     ]
    },
    {
     "name": "stdout",
     "output_type": "stream",
     "text": [
      " 7\n",
      "Greenbelt MD\n",
      " :"
     ]
    },
    {
     "name": "stderr",
     "output_type": "stream",
     "text": [
      "DEBUG:urllib3.connectionpool:\"GET /fulltext?format=json&q=Greenbelt&suggest=true HTTP/1.1\" 200 None\n",
      "DEBUG:root: Greenbelt =  2 geonames [..]\n",
      "DEBUG:urllib3.connectionpool:\"GET /fulltext?format=json&q=MD&suggest=true HTTP/1.1\" 200 None\n",
      "DEBUG:root:        MD =  10 geonames [..=..]\n"
     ]
    },
    {
     "name": "stdout",
     "output_type": "stream",
     "text": [
      " Greenbelt\n",
      " : MD\n",
      "152"
     ]
    },
    {
     "name": "stderr",
     "output_type": "stream",
     "text": [
      "DEBUG:urllib3.connectionpool:\"GET /search?q=Greenbelt+MD&orderBy=relevance&style=FULL&username=humph&type=json&fuzzy=0.8&maxRows=5 HTTP/1.1\" 200 None\n",
      "DEBUG:urllib3.connectionpool:\"GET /rest/annotate?support=20&text=Greenbelt+MD&confidence=0.2 HTTP/1.1\" 200 None\n",
      "DEBUG:urllib3.connectionpool:\"GET /data/Greenbelt,_Maryland.json HTTP/1.1\" 200 37143\n",
      "DEBUG:urllib3.connectionpool:\"GET /data/Maryland.json HTTP/1.1\" 200 1091393\n",
      "DEBUG:root:   Message =  2 resources [.#]\n",
      "DEBUG:root:  LocField =  0 geonames []\n",
      "DEBUG:urllib3.connectionpool:\"GET /fulltext?format=json&q=Greenbelt+MD&suggest=true HTTP/1.1\" 200 None\n",
      "DEBUG:root:Greenbelt MD =  0 geonames []\n"
     ]
    },
    {
     "name": "stdout",
     "output_type": "stream",
     "text": [
      " 7\n",
      "Greenbelt MD\n",
      " :"
     ]
    },
    {
     "name": "stderr",
     "output_type": "stream",
     "text": [
      "DEBUG:urllib3.connectionpool:\"GET /fulltext?format=json&q=Greenbelt&suggest=true HTTP/1.1\" 200 None\n",
      "DEBUG:root: Greenbelt =  2 geonames [..]\n"
     ]
    },
    {
     "name": "stdout",
     "output_type": "stream",
     "text": [
      " Greenbelt\n",
      " :"
     ]
    },
    {
     "name": "stderr",
     "output_type": "stream",
     "text": [
      "DEBUG:urllib3.connectionpool:\"GET /fulltext?format=json&q=MD&suggest=true HTTP/1.1\" 200 None\n",
      "DEBUG:root:        MD =  10 geonames [..=..]\n"
     ]
    },
    {
     "name": "stdout",
     "output_type": "stream",
     "text": [
      " MD\n",
      "152 7\n",
      "Greenbelt MD"
     ]
    },
    {
     "name": "stderr",
     "output_type": "stream",
     "text": [
      "DEBUG:urllib3.connectionpool:\"GET /search?q=Greenbelt+MD&orderBy=relevance&style=FULL&username=humph&type=json&fuzzy=0.8&maxRows=5 HTTP/1.1\" 200 None\n",
      "DEBUG:urllib3.connectionpool:\"GET /rest/annotate?support=20&text=Greenbelt+MD&confidence=0.2 HTTP/1.1\" 200 None\n",
      "DEBUG:urllib3.connectionpool:\"GET /data/Greenbelt,_Maryland.json HTTP/1.1\" 200 37143\n",
      "DEBUG:urllib3.connectionpool:\"GET /data/Maryland.json HTTP/1.1\" 200 1091393\n",
      "DEBUG:root:   Message =  2 resources [.#]\n",
      "DEBUG:root:  LocField =  0 geonames []\n",
      "DEBUG:urllib3.connectionpool:\"GET /fulltext?format=json&q=Greenbelt+MD&suggest=true HTTP/1.1\" 200 None\n",
      "DEBUG:root:Greenbelt MD =  0 geonames []\n"
     ]
    },
    {
     "name": "stdout",
     "output_type": "stream",
     "text": [
      "\n",
      " :"
     ]
    },
    {
     "name": "stderr",
     "output_type": "stream",
     "text": [
      "DEBUG:urllib3.connectionpool:\"GET /fulltext?format=json&q=Greenbelt&suggest=true HTTP/1.1\" 200 None\n",
      "DEBUG:root: Greenbelt =  2 geonames [..]\n",
      "DEBUG:urllib3.connectionpool:\"GET /fulltext?format=json&q=MD&suggest=true HTTP/1.1\" 200 None\n",
      "DEBUG:root:        MD =  10 geonames [..=..]\n"
     ]
    },
    {
     "name": "stdout",
     "output_type": "stream",
     "text": [
      " Greenbelt\n",
      " : MD\n",
      "152 7\n",
      "Greenbelt MD"
     ]
    },
    {
     "name": "stderr",
     "output_type": "stream",
     "text": [
      "DEBUG:urllib3.connectionpool:\"GET /search?q=Greenbelt+MD&orderBy=relevance&style=FULL&username=humph&type=json&fuzzy=0.8&maxRows=5 HTTP/1.1\" 200 None\n",
      "DEBUG:urllib3.connectionpool:\"GET /rest/annotate?support=20&text=Greenbelt+MD&confidence=0.2 HTTP/1.1\" 200 None\n",
      "DEBUG:urllib3.connectionpool:\"GET /data/Greenbelt,_Maryland.json HTTP/1.1\" 200 37143\n",
      "DEBUG:urllib3.connectionpool:\"GET /data/Maryland.json HTTP/1.1\" 200 1091393\n",
      "DEBUG:root:   Message =  2 resources [.#]\n",
      "DEBUG:root:  LocField =  0 geonames []\n",
      "DEBUG:urllib3.connectionpool:\"GET /fulltext?format=json&q=Greenbelt+MD&suggest=true HTTP/1.1\" 200 None\n",
      "DEBUG:root:Greenbelt MD =  0 geonames []\n"
     ]
    },
    {
     "name": "stdout",
     "output_type": "stream",
     "text": [
      "\n",
      " :"
     ]
    },
    {
     "name": "stderr",
     "output_type": "stream",
     "text": [
      "DEBUG:urllib3.connectionpool:\"GET /fulltext?format=json&q=Greenbelt&suggest=true HTTP/1.1\" 200 None\n",
      "DEBUG:root: Greenbelt =  2 geonames [..]\n",
      "DEBUG:urllib3.connectionpool:\"GET /fulltext?format=json&q=MD&suggest=true HTTP/1.1\" 200 None\n",
      "DEBUG:root:        MD =  10 geonames [..=..]\n"
     ]
    },
    {
     "name": "stdout",
     "output_type": "stream",
     "text": [
      " Greenbelt\n",
      " : MD\n",
      "152 7\n",
      "Greenbelt MD"
     ]
    },
    {
     "name": "stderr",
     "output_type": "stream",
     "text": [
      "DEBUG:urllib3.connectionpool:\"GET /search?q=Greenbelt+MD&orderBy=relevance&style=FULL&username=humph&type=json&fuzzy=0.8&maxRows=5 HTTP/1.1\" 200 None\n",
      "DEBUG:urllib3.connectionpool:\"GET /rest/annotate?support=20&text=Greenbelt+MD&confidence=0.2 HTTP/1.1\" 200 None\n",
      "DEBUG:urllib3.connectionpool:\"GET /data/Greenbelt,_Maryland.json HTTP/1.1\" 200 37143\n",
      "DEBUG:urllib3.connectionpool:\"GET /data/Maryland.json HTTP/1.1\" 200 1091393\n",
      "DEBUG:root:   Message =  2 resources [.#]\n",
      "DEBUG:root:  LocField =  0 geonames []\n",
      "DEBUG:urllib3.connectionpool:\"GET /fulltext?format=json&q=Greenbelt+MD&suggest=true HTTP/1.1\" 200 None\n",
      "DEBUG:root:Greenbelt MD =  0 geonames []\n"
     ]
    },
    {
     "name": "stdout",
     "output_type": "stream",
     "text": [
      "\n",
      " :"
     ]
    },
    {
     "name": "stderr",
     "output_type": "stream",
     "text": [
      "DEBUG:urllib3.connectionpool:\"GET /fulltext?format=json&q=Greenbelt&suggest=true HTTP/1.1\" 200 None\n",
      "DEBUG:root: Greenbelt =  2 geonames [..]\n",
      "DEBUG:urllib3.connectionpool:\"GET /fulltext?format=json&q=MD&suggest=true HTTP/1.1\" 200 None\n",
      "DEBUG:root:        MD =  10 geonames [..=..]\n"
     ]
    },
    {
     "name": "stdout",
     "output_type": "stream",
     "text": [
      " Greenbelt\n",
      " : MD\n",
      "152 7\n",
      "Greenbelt MD"
     ]
    },
    {
     "name": "stderr",
     "output_type": "stream",
     "text": [
      "DEBUG:urllib3.connectionpool:\"GET /search?q=Greenbelt+MD&orderBy=relevance&style=FULL&username=humph&type=json&fuzzy=0.8&maxRows=5 HTTP/1.1\" 200 None\n",
      "DEBUG:urllib3.connectionpool:\"GET /rest/annotate?support=20&text=Greenbelt+MD&confidence=0.2 HTTP/1.1\" 200 None\n",
      "DEBUG:urllib3.connectionpool:\"GET /data/Greenbelt,_Maryland.json HTTP/1.1\" 200 37143\n",
      "DEBUG:urllib3.connectionpool:\"GET /data/Maryland.json HTTP/1.1\" 200 1091393\n",
      "DEBUG:root:   Message =  2 resources [.#]\n",
      "DEBUG:root:  LocField =  0 geonames []\n",
      "DEBUG:urllib3.connectionpool:\"GET /fulltext?format=json&q=Greenbelt+MD&suggest=true HTTP/1.1\" 200 None\n",
      "DEBUG:root:Greenbelt MD =  0 geonames []\n"
     ]
    },
    {
     "name": "stdout",
     "output_type": "stream",
     "text": [
      "\n",
      " :"
     ]
    },
    {
     "name": "stderr",
     "output_type": "stream",
     "text": [
      "DEBUG:urllib3.connectionpool:\"GET /fulltext?format=json&q=Greenbelt&suggest=true HTTP/1.1\" 200 None\n",
      "DEBUG:root: Greenbelt =  2 geonames [..]\n",
      "DEBUG:urllib3.connectionpool:\"GET /fulltext?format=json&q=MD&suggest=true HTTP/1.1\" 200 None\n",
      "DEBUG:root:        MD =  10 geonames [..=..]\n"
     ]
    },
    {
     "name": "stdout",
     "output_type": "stream",
     "text": [
      " Greenbelt\n",
      " : MD\n",
      "152"
     ]
    },
    {
     "name": "stderr",
     "output_type": "stream",
     "text": [
      "DEBUG:urllib3.connectionpool:\"GET /search?q=Greenbelt+MD&orderBy=relevance&style=FULL&username=humph&type=json&fuzzy=0.8&maxRows=5 HTTP/1.1\" 200 None\n",
      "DEBUG:urllib3.connectionpool:\"GET /rest/annotate?support=20&text=Greenbelt+MD&confidence=0.2 HTTP/1.1\" 200 None\n",
      "DEBUG:urllib3.connectionpool:\"GET /data/Greenbelt,_Maryland.json HTTP/1.1\" 200 37143\n",
      "DEBUG:urllib3.connectionpool:\"GET /data/Maryland.json HTTP/1.1\" 200 1091393\n",
      "DEBUG:root:   Message =  2 resources [.#]\n",
      "DEBUG:root:  LocField =  0 geonames []\n",
      "DEBUG:urllib3.connectionpool:\"GET /fulltext?format=json&q=Greenbelt+MD&suggest=true HTTP/1.1\" 200 None\n",
      "DEBUG:root:Greenbelt MD =  0 geonames []\n"
     ]
    },
    {
     "name": "stdout",
     "output_type": "stream",
     "text": [
      " 7\n",
      "Greenbelt MD\n",
      " :"
     ]
    },
    {
     "name": "stderr",
     "output_type": "stream",
     "text": [
      "DEBUG:urllib3.connectionpool:\"GET /fulltext?format=json&q=Greenbelt&suggest=true HTTP/1.1\" 200 None\n",
      "DEBUG:root: Greenbelt =  2 geonames [..]\n",
      "DEBUG:urllib3.connectionpool:\"GET /fulltext?format=json&q=MD&suggest=true HTTP/1.1\" 200 None\n",
      "DEBUG:root:        MD =  10 geonames [..=..]\n"
     ]
    },
    {
     "name": "stdout",
     "output_type": "stream",
     "text": [
      " Greenbelt\n",
      " : MD\n",
      "152"
     ]
    },
    {
     "name": "stderr",
     "output_type": "stream",
     "text": [
      "DEBUG:urllib3.connectionpool:\"GET /search?q=Greenbelt+MD&orderBy=relevance&style=FULL&username=humph&type=json&fuzzy=0.8&maxRows=5 HTTP/1.1\" 200 None\n",
      "DEBUG:urllib3.connectionpool:\"GET /rest/annotate?support=20&text=Greenbelt+MD&confidence=0.2 HTTP/1.1\" 200 None\n",
      "DEBUG:urllib3.connectionpool:\"GET /data/Greenbelt,_Maryland.json HTTP/1.1\" 200 37143\n",
      "DEBUG:urllib3.connectionpool:\"GET /data/Maryland.json HTTP/1.1\" 200 1091393\n",
      "DEBUG:root:   Message =  2 resources [.#]\n",
      "DEBUG:root:  LocField =  0 geonames []\n",
      "DEBUG:urllib3.connectionpool:\"GET /fulltext?format=json&q=Greenbelt+MD&suggest=true HTTP/1.1\" 200 None\n",
      "DEBUG:root:Greenbelt MD =  0 geonames []\n"
     ]
    },
    {
     "name": "stdout",
     "output_type": "stream",
     "text": [
      " 7\n",
      "Greenbelt MD\n",
      " :"
     ]
    },
    {
     "name": "stderr",
     "output_type": "stream",
     "text": [
      "DEBUG:urllib3.connectionpool:\"GET /fulltext?format=json&q=Greenbelt&suggest=true HTTP/1.1\" 200 None\n",
      "DEBUG:root: Greenbelt =  2 geonames [..]\n",
      "DEBUG:urllib3.connectionpool:\"GET /fulltext?format=json&q=MD&suggest=true HTTP/1.1\" 200 None\n",
      "DEBUG:root:        MD =  10 geonames [..=..]\n"
     ]
    },
    {
     "name": "stdout",
     "output_type": "stream",
     "text": [
      " Greenbelt\n",
      " : MD\n",
      "152 7\n",
      "Greenbelt MD"
     ]
    },
    {
     "name": "stderr",
     "output_type": "stream",
     "text": [
      "DEBUG:urllib3.connectionpool:\"GET /search?q=Greenbelt+MD&orderBy=relevance&style=FULL&username=humph&type=json&fuzzy=0.8&maxRows=5 HTTP/1.1\" 200 None\n",
      "DEBUG:urllib3.connectionpool:\"GET /rest/annotate?support=20&text=Greenbelt+MD&confidence=0.2 HTTP/1.1\" 200 None\n",
      "DEBUG:urllib3.connectionpool:\"GET /data/Greenbelt,_Maryland.json HTTP/1.1\" 200 37143\n",
      "DEBUG:urllib3.connectionpool:\"GET /data/Maryland.json HTTP/1.1\" 200 1091393\n",
      "DEBUG:root:   Message =  2 resources [.#]\n",
      "DEBUG:root:  LocField =  0 geonames []\n",
      "DEBUG:urllib3.connectionpool:\"GET /fulltext?format=json&q=Greenbelt+MD&suggest=true HTTP/1.1\" 200 None\n",
      "DEBUG:root:Greenbelt MD =  0 geonames []\n"
     ]
    },
    {
     "name": "stdout",
     "output_type": "stream",
     "text": [
      "\n",
      " :"
     ]
    },
    {
     "name": "stderr",
     "output_type": "stream",
     "text": [
      "DEBUG:urllib3.connectionpool:\"GET /fulltext?format=json&q=Greenbelt&suggest=true HTTP/1.1\" 200 None\n",
      "DEBUG:root: Greenbelt =  2 geonames [..]\n",
      "DEBUG:urllib3.connectionpool:\"GET /fulltext?format=json&q=MD&suggest=true HTTP/1.1\" 200 None\n",
      "DEBUG:root:        MD =  10 geonames [..=..]\n"
     ]
    },
    {
     "name": "stdout",
     "output_type": "stream",
     "text": [
      " Greenbelt\n",
      " : MD\n",
      "152 7\n",
      "Greenbelt MD"
     ]
    },
    {
     "name": "stderr",
     "output_type": "stream",
     "text": [
      "DEBUG:urllib3.connectionpool:\"GET /search?q=Greenbelt+MD&orderBy=relevance&style=FULL&username=humph&type=json&fuzzy=0.8&maxRows=5 HTTP/1.1\" 200 None\n",
      "DEBUG:urllib3.connectionpool:\"GET /rest/annotate?support=20&text=Greenbelt+MD&confidence=0.2 HTTP/1.1\" 200 None\n",
      "DEBUG:urllib3.connectionpool:\"GET /data/Greenbelt,_Maryland.json HTTP/1.1\" 200 37143\n",
      "DEBUG:urllib3.connectionpool:\"GET /data/Maryland.json HTTP/1.1\" 200 1091393\n",
      "DEBUG:root:   Message =  2 resources [.#]\n",
      "DEBUG:root:  LocField =  0 geonames []\n",
      "DEBUG:urllib3.connectionpool:\"GET /fulltext?format=json&q=Greenbelt+MD&suggest=true HTTP/1.1\" 200 None\n",
      "DEBUG:root:Greenbelt MD =  0 geonames []\n"
     ]
    },
    {
     "name": "stdout",
     "output_type": "stream",
     "text": [
      "\n",
      " :"
     ]
    },
    {
     "name": "stderr",
     "output_type": "stream",
     "text": [
      "DEBUG:urllib3.connectionpool:\"GET /fulltext?format=json&q=Greenbelt&suggest=true HTTP/1.1\" 200 None\n",
      "DEBUG:root: Greenbelt =  2 geonames [..]\n",
      "DEBUG:urllib3.connectionpool:\"GET /fulltext?format=json&q=MD&suggest=true HTTP/1.1\" 200 None\n",
      "DEBUG:root:        MD =  10 geonames [..=..]\n"
     ]
    },
    {
     "name": "stdout",
     "output_type": "stream",
     "text": [
      " Greenbelt\n",
      " : MD\n",
      "152 7\n",
      "Greenbelt MD"
     ]
    },
    {
     "name": "stderr",
     "output_type": "stream",
     "text": [
      "DEBUG:urllib3.connectionpool:\"GET /search?q=Greenbelt+MD&orderBy=relevance&style=FULL&username=humph&type=json&fuzzy=0.8&maxRows=5 HTTP/1.1\" 200 None\n",
      "DEBUG:urllib3.connectionpool:\"GET /rest/annotate?support=20&text=Greenbelt+MD&confidence=0.2 HTTP/1.1\" 200 None\n",
      "DEBUG:urllib3.connectionpool:\"GET /data/Greenbelt,_Maryland.json HTTP/1.1\" 200 37143\n",
      "DEBUG:urllib3.connectionpool:\"GET /data/Maryland.json HTTP/1.1\" 200 1091393\n",
      "DEBUG:root:   Message =  2 resources [.#]\n",
      "DEBUG:root:  LocField =  0 geonames []\n",
      "DEBUG:urllib3.connectionpool:\"GET /fulltext?format=json&q=Greenbelt+MD&suggest=true HTTP/1.1\" 200 None\n",
      "DEBUG:root:Greenbelt MD =  0 geonames []\n"
     ]
    },
    {
     "name": "stdout",
     "output_type": "stream",
     "text": [
      "\n",
      " :"
     ]
    },
    {
     "name": "stderr",
     "output_type": "stream",
     "text": [
      "DEBUG:urllib3.connectionpool:\"GET /fulltext?format=json&q=Greenbelt&suggest=true HTTP/1.1\" 200 None\n",
      "DEBUG:root: Greenbelt =  2 geonames [..]\n",
      "DEBUG:urllib3.connectionpool:\"GET /fulltext?format=json&q=MD&suggest=true HTTP/1.1\" 200 None\n",
      "DEBUG:root:        MD =  10 geonames [..=..]\n"
     ]
    },
    {
     "name": "stdout",
     "output_type": "stream",
     "text": [
      " Greenbelt\n",
      " : MD\n",
      "152 7\n",
      "Florida, USA"
     ]
    },
    {
     "name": "stderr",
     "output_type": "stream",
     "text": [
      "DEBUG:urllib3.connectionpool:\"GET /search?q=Florida%2C+USA&orderBy=relevance&style=FULL&username=humph&type=json&fuzzy=0.8&maxRows=5 HTTP/1.1\" 200 None\n",
      "DEBUG:root:  LocField =  5 geonames [=....]\n",
      "DEBUG:urllib3.connectionpool:\"GET /fulltext?format=json&q=Florida%2C+USA&suggest=true HTTP/1.1\" 200 None\n",
      "DEBUG:root:Florida, USA =  0 geonames []\n"
     ]
    },
    {
     "name": "stdout",
     "output_type": "stream",
     "text": [
      "\n",
      ",:"
     ]
    },
    {
     "name": "stderr",
     "output_type": "stream",
     "text": [
      "DEBUG:urllib3.connectionpool:\"GET /fulltext?format=json&q=Florida&suggest=true HTTP/1.1\" 200 None\n",
      "DEBUG:root:   Florida =  10 geonames [.==..]\n"
     ]
    },
    {
     "name": "stdout",
     "output_type": "stream",
     "text": [
      " Florida\n",
      ",:"
     ]
    },
    {
     "name": "stderr",
     "output_type": "stream",
     "text": [
      "DEBUG:urllib3.connectionpool:\"GET /fulltext?format=json&q=USA&suggest=true HTTP/1.1\" 200 None\n",
      "DEBUG:root:       USA =  10 geonames [.....]\n"
     ]
    },
    {
     "name": "stdout",
     "output_type": "stream",
     "text": [
      " USA\n",
      "1281 1287\n",
      "Florida, USA"
     ]
    },
    {
     "name": "stderr",
     "output_type": "stream",
     "text": [
      "DEBUG:urllib3.connectionpool:\"GET /search?q=Florida%2C+USA&orderBy=relevance&style=FULL&username=humph&type=json&fuzzy=0.8&maxRows=5 HTTP/1.1\" 200 None\n",
      "DEBUG:root:  LocField =  5 geonames [=....]\n",
      "DEBUG:urllib3.connectionpool:\"GET /fulltext?format=json&q=Florida%2C+USA&suggest=true HTTP/1.1\" 200 None\n",
      "DEBUG:root:Florida, USA =  0 geonames []\n"
     ]
    },
    {
     "name": "stdout",
     "output_type": "stream",
     "text": [
      "\n",
      ",:"
     ]
    },
    {
     "name": "stderr",
     "output_type": "stream",
     "text": [
      "DEBUG:urllib3.connectionpool:\"GET /fulltext?format=json&q=Florida&suggest=true HTTP/1.1\" 200 None\n",
      "DEBUG:root:   Florida =  10 geonames [.==..]\n"
     ]
    },
    {
     "name": "stdout",
     "output_type": "stream",
     "text": [
      " Florida\n",
      ",:"
     ]
    },
    {
     "name": "stderr",
     "output_type": "stream",
     "text": [
      "DEBUG:urllib3.connectionpool:\"GET /fulltext?format=json&q=USA&suggest=true HTTP/1.1\" 200 None\n",
      "DEBUG:root:       USA =  10 geonames [.....]\n"
     ]
    },
    {
     "name": "stdout",
     "output_type": "stream",
     "text": [
      " USA\n",
      "1281 1287\n",
      "Alabama"
     ]
    },
    {
     "name": "stderr",
     "output_type": "stream",
     "text": [
      "DEBUG:urllib3.connectionpool:\"GET /search?q=Alabama&orderBy=relevance&style=FULL&username=humph&type=json&fuzzy=0.8&maxRows=5 HTTP/1.1\" 200 None\n",
      "DEBUG:root:  LocField =  5 geonames [=....]\n",
      "DEBUG:urllib3.connectionpool:\"GET /fulltext?format=json&q=Alabama&suggest=true HTTP/1.1\" 200 None\n",
      "DEBUG:root:   Alabama =  10 geonames [=.=..]\n"
     ]
    },
    {
     "name": "stdout",
     "output_type": "stream",
     "text": [
      "\n",
      "93"
     ]
    },
    {
     "name": "stderr",
     "output_type": "stream",
     "text": [
      "DEBUG:urllib3.connectionpool:\"GET /search?q=Greenbelt+MD&orderBy=relevance&style=FULL&username=humph&type=json&fuzzy=0.8&maxRows=5 HTTP/1.1\" 200 None\n",
      "DEBUG:urllib3.connectionpool:\"GET /rest/annotate?support=20&text=Greenbelt+MD&confidence=0.2 HTTP/1.1\" 200 None\n",
      "DEBUG:urllib3.connectionpool:\"GET /data/Greenbelt,_Maryland.json HTTP/1.1\" 200 37143\n",
      "DEBUG:urllib3.connectionpool:\"GET /data/Maryland.json HTTP/1.1\" 200 1091393\n",
      "DEBUG:root:   Message =  2 resources [.#]\n",
      "DEBUG:root:  LocField =  0 geonames []\n",
      "DEBUG:urllib3.connectionpool:\"GET /fulltext?format=json&q=Greenbelt+MD&suggest=true HTTP/1.1\" 200 None\n",
      "DEBUG:root:Greenbelt MD =  0 geonames []\n"
     ]
    },
    {
     "name": "stdout",
     "output_type": "stream",
     "text": [
      " 181\n",
      "Greenbelt MD\n",
      " :"
     ]
    },
    {
     "name": "stderr",
     "output_type": "stream",
     "text": [
      "DEBUG:urllib3.connectionpool:\"GET /fulltext?format=json&q=Greenbelt&suggest=true HTTP/1.1\" 200 None\n",
      "DEBUG:root: Greenbelt =  2 geonames [..]\n",
      "DEBUG:urllib3.connectionpool:\"GET /fulltext?format=json&q=MD&suggest=true HTTP/1.1\" 200 None\n",
      "DEBUG:root:        MD =  10 geonames [..=..]\n"
     ]
    },
    {
     "name": "stdout",
     "output_type": "stream",
     "text": [
      " Greenbelt\n",
      " : MD\n",
      "152"
     ]
    },
    {
     "name": "stderr",
     "output_type": "stream",
     "text": [
      "DEBUG:urllib3.connectionpool:\"GET /search?q=Greenbelt+MD&orderBy=relevance&style=FULL&username=humph&type=json&fuzzy=0.8&maxRows=5 HTTP/1.1\" 200 None\n",
      "DEBUG:urllib3.connectionpool:\"GET /rest/annotate?support=20&text=Greenbelt+MD&confidence=0.2 HTTP/1.1\" 200 None\n",
      "DEBUG:urllib3.connectionpool:\"GET /data/Greenbelt,_Maryland.json HTTP/1.1\" 200 37143\n",
      "DEBUG:urllib3.connectionpool:\"GET /data/Maryland.json HTTP/1.1\" 200 1091393\n",
      "DEBUG:root:   Message =  2 resources [.#]\n",
      "DEBUG:root:  LocField =  0 geonames []\n",
      "DEBUG:urllib3.connectionpool:\"GET /fulltext?format=json&q=Greenbelt+MD&suggest=true HTTP/1.1\" 200 None\n",
      "DEBUG:root:Greenbelt MD =  0 geonames []\n"
     ]
    },
    {
     "name": "stdout",
     "output_type": "stream",
     "text": [
      " 7\n",
      "Greenbelt MD\n",
      " :"
     ]
    },
    {
     "name": "stderr",
     "output_type": "stream",
     "text": [
      "DEBUG:urllib3.connectionpool:\"GET /fulltext?format=json&q=Greenbelt&suggest=true HTTP/1.1\" 200 None\n",
      "DEBUG:root: Greenbelt =  2 geonames [..]\n",
      "DEBUG:urllib3.connectionpool:\"GET /fulltext?format=json&q=MD&suggest=true HTTP/1.1\" 200 None\n",
      "DEBUG:root:        MD =  10 geonames [..=..]\n"
     ]
    },
    {
     "name": "stdout",
     "output_type": "stream",
     "text": [
      " Greenbelt\n",
      " : MD\n",
      "152 7\n",
      "Greenbelt MD"
     ]
    },
    {
     "name": "stderr",
     "output_type": "stream",
     "text": [
      "DEBUG:urllib3.connectionpool:\"GET /search?q=Greenbelt+MD&orderBy=relevance&style=FULL&username=humph&type=json&fuzzy=0.8&maxRows=5 HTTP/1.1\" 200 None\n",
      "DEBUG:urllib3.connectionpool:\"GET /rest/annotate?support=20&text=Greenbelt+MD&confidence=0.2 HTTP/1.1\" 200 None\n",
      "DEBUG:urllib3.connectionpool:\"GET /data/Greenbelt,_Maryland.json HTTP/1.1\" 200 37143\n",
      "DEBUG:urllib3.connectionpool:\"GET /data/Maryland.json HTTP/1.1\" 200 1091393\n",
      "DEBUG:root:   Message =  2 resources [.#]\n",
      "DEBUG:root:  LocField =  0 geonames []\n",
      "DEBUG:urllib3.connectionpool:\"GET /fulltext?format=json&q=Greenbelt+MD&suggest=true HTTP/1.1\" 200 None\n",
      "DEBUG:root:Greenbelt MD =  0 geonames []\n"
     ]
    },
    {
     "name": "stdout",
     "output_type": "stream",
     "text": [
      "\n",
      " :"
     ]
    },
    {
     "name": "stderr",
     "output_type": "stream",
     "text": [
      "DEBUG:urllib3.connectionpool:\"GET /fulltext?format=json&q=Greenbelt&suggest=true HTTP/1.1\" 200 None\n",
      "DEBUG:root: Greenbelt =  2 geonames [..]\n",
      "DEBUG:urllib3.connectionpool:\"GET /fulltext?format=json&q=MD&suggest=true HTTP/1.1\" 200 None\n",
      "DEBUG:root:        MD =  10 geonames [..=..]\n"
     ]
    },
    {
     "name": "stdout",
     "output_type": "stream",
     "text": [
      " Greenbelt\n",
      " : MD\n",
      "152"
     ]
    },
    {
     "name": "stderr",
     "output_type": "stream",
     "text": [
      "DEBUG:urllib3.connectionpool:\"GET /search?q=Greenbelt+MD&orderBy=relevance&style=FULL&username=humph&type=json&fuzzy=0.8&maxRows=5 HTTP/1.1\" 200 None\n",
      "DEBUG:urllib3.connectionpool:\"GET /rest/annotate?support=20&text=Greenbelt+MD&confidence=0.2 HTTP/1.1\" 200 None\n",
      "DEBUG:urllib3.connectionpool:\"GET /data/Greenbelt,_Maryland.json HTTP/1.1\" 200 37143\n",
      "DEBUG:urllib3.connectionpool:\"GET /data/Maryland.json HTTP/1.1\" 200 1091393\n",
      "DEBUG:root:   Message =  2 resources [.#]\n",
      "DEBUG:root:  LocField =  0 geonames []\n",
      "DEBUG:urllib3.connectionpool:\"GET /fulltext?format=json&q=Greenbelt+MD&suggest=true HTTP/1.1\" 200 None\n",
      "DEBUG:root:Greenbelt MD =  0 geonames []\n"
     ]
    },
    {
     "name": "stdout",
     "output_type": "stream",
     "text": [
      " 7\n",
      "Greenbelt MD\n",
      " :"
     ]
    },
    {
     "name": "stderr",
     "output_type": "stream",
     "text": [
      "DEBUG:urllib3.connectionpool:\"GET /fulltext?format=json&q=Greenbelt&suggest=true HTTP/1.1\" 200 None\n",
      "DEBUG:root: Greenbelt =  2 geonames [..]\n",
      "DEBUG:urllib3.connectionpool:\"GET /fulltext?format=json&q=MD&suggest=true HTTP/1.1\" 200 None\n",
      "DEBUG:root:        MD =  10 geonames [..=..]\n"
     ]
    },
    {
     "name": "stdout",
     "output_type": "stream",
     "text": [
      " Greenbelt\n",
      " : MD\n",
      "152 7\n",
      "Greenbelt MD"
     ]
    },
    {
     "name": "stderr",
     "output_type": "stream",
     "text": [
      "DEBUG:urllib3.connectionpool:\"GET /search?q=Greenbelt+MD&orderBy=relevance&style=FULL&username=humph&type=json&fuzzy=0.8&maxRows=5 HTTP/1.1\" 200 None\n",
      "DEBUG:urllib3.connectionpool:\"GET /rest/annotate?support=20&text=Greenbelt+MD&confidence=0.2 HTTP/1.1\" 200 None\n",
      "DEBUG:urllib3.connectionpool:\"GET /data/Greenbelt,_Maryland.json HTTP/1.1\" 200 37143\n",
      "DEBUG:urllib3.connectionpool:\"GET /data/Maryland.json HTTP/1.1\" 200 1091393\n",
      "DEBUG:root:   Message =  2 resources [.#]\n",
      "DEBUG:root:  LocField =  0 geonames []\n",
      "DEBUG:urllib3.connectionpool:\"GET /fulltext?format=json&q=Greenbelt+MD&suggest=true HTTP/1.1\" 200 None\n",
      "DEBUG:root:Greenbelt MD =  0 geonames []\n"
     ]
    },
    {
     "name": "stdout",
     "output_type": "stream",
     "text": [
      "\n",
      " :"
     ]
    },
    {
     "name": "stderr",
     "output_type": "stream",
     "text": [
      "DEBUG:urllib3.connectionpool:\"GET /fulltext?format=json&q=Greenbelt&suggest=true HTTP/1.1\" 200 None\n",
      "DEBUG:root: Greenbelt =  2 geonames [..]\n",
      "DEBUG:urllib3.connectionpool:\"GET /fulltext?format=json&q=MD&suggest=true HTTP/1.1\" 200 None\n",
      "DEBUG:root:        MD =  10 geonames [..=..]\n"
     ]
    },
    {
     "name": "stdout",
     "output_type": "stream",
     "text": [
      " Greenbelt\n",
      " : MD\n",
      "152 7\n",
      "Greenbelt MD"
     ]
    },
    {
     "name": "stderr",
     "output_type": "stream",
     "text": [
      "DEBUG:urllib3.connectionpool:\"GET /search?q=Greenbelt+MD&orderBy=relevance&style=FULL&username=humph&type=json&fuzzy=0.8&maxRows=5 HTTP/1.1\" 200 None\n",
      "DEBUG:urllib3.connectionpool:\"GET /rest/annotate?support=20&text=Greenbelt+MD&confidence=0.2 HTTP/1.1\" 200 None\n",
      "DEBUG:urllib3.connectionpool:\"GET /data/Greenbelt,_Maryland.json HTTP/1.1\" 200 37143\n",
      "DEBUG:urllib3.connectionpool:\"GET /data/Maryland.json HTTP/1.1\" 200 1091393\n",
      "DEBUG:root:   Message =  2 resources [.#]\n",
      "DEBUG:root:  LocField =  0 geonames []\n",
      "DEBUG:urllib3.connectionpool:\"GET /fulltext?format=json&q=Greenbelt+MD&suggest=true HTTP/1.1\" 200 None\n",
      "DEBUG:root:Greenbelt MD =  0 geonames []\n"
     ]
    },
    {
     "name": "stdout",
     "output_type": "stream",
     "text": [
      "\n",
      " :"
     ]
    },
    {
     "name": "stderr",
     "output_type": "stream",
     "text": [
      "DEBUG:urllib3.connectionpool:\"GET /fulltext?format=json&q=Greenbelt&suggest=true HTTP/1.1\" 200 None\n",
      "DEBUG:root: Greenbelt =  2 geonames [..]\n",
      "DEBUG:urllib3.connectionpool:\"GET /fulltext?format=json&q=MD&suggest=true HTTP/1.1\" 200 None\n",
      "DEBUG:root:        MD =  10 geonames [..=..]\n"
     ]
    },
    {
     "name": "stdout",
     "output_type": "stream",
     "text": [
      " Greenbelt\n",
      " : MD\n",
      "152 7\n",
      "Greenbelt MD"
     ]
    },
    {
     "name": "stderr",
     "output_type": "stream",
     "text": [
      "DEBUG:urllib3.connectionpool:\"GET /search?q=Greenbelt+MD&orderBy=relevance&style=FULL&username=humph&type=json&fuzzy=0.8&maxRows=5 HTTP/1.1\" 200 None\n",
      "DEBUG:urllib3.connectionpool:\"GET /rest/annotate?support=20&text=Greenbelt+MD&confidence=0.2 HTTP/1.1\" 200 None\n",
      "DEBUG:urllib3.connectionpool:\"GET /data/Greenbelt,_Maryland.json HTTP/1.1\" 200 37143\n",
      "DEBUG:urllib3.connectionpool:\"GET /data/Maryland.json HTTP/1.1\" 200 1091393\n",
      "DEBUG:root:   Message =  2 resources [.#]\n",
      "DEBUG:root:  LocField =  0 geonames []\n",
      "DEBUG:urllib3.connectionpool:\"GET /fulltext?format=json&q=Greenbelt+MD&suggest=true HTTP/1.1\" 200 None\n",
      "DEBUG:root:Greenbelt MD =  0 geonames []\n"
     ]
    },
    {
     "name": "stdout",
     "output_type": "stream",
     "text": [
      "\n",
      " :"
     ]
    },
    {
     "name": "stderr",
     "output_type": "stream",
     "text": [
      "DEBUG:urllib3.connectionpool:\"GET /fulltext?format=json&q=Greenbelt&suggest=true HTTP/1.1\" 200 None\n",
      "DEBUG:root: Greenbelt =  2 geonames [..]\n",
      "DEBUG:urllib3.connectionpool:\"GET /fulltext?format=json&q=MD&suggest=true HTTP/1.1\" 200 None\n",
      "DEBUG:root:        MD =  10 geonames [..=..]\n"
     ]
    },
    {
     "name": "stdout",
     "output_type": "stream",
     "text": [
      " Greenbelt\n",
      " : MD\n",
      "152 7\n",
      "Greenbelt MD"
     ]
    },
    {
     "name": "stderr",
     "output_type": "stream",
     "text": [
      "DEBUG:urllib3.connectionpool:\"GET /search?q=Greenbelt+MD&orderBy=relevance&style=FULL&username=humph&type=json&fuzzy=0.8&maxRows=5 HTTP/1.1\" 200 None\n",
      "DEBUG:urllib3.connectionpool:\"GET /rest/annotate?support=20&text=Greenbelt+MD&confidence=0.2 HTTP/1.1\" 200 None\n",
      "DEBUG:urllib3.connectionpool:\"GET /data/Greenbelt,_Maryland.json HTTP/1.1\" 200 37143\n",
      "DEBUG:urllib3.connectionpool:\"GET /data/Maryland.json HTTP/1.1\" 200 1091393\n",
      "DEBUG:root:   Message =  2 resources [.#]\n",
      "DEBUG:root:  LocField =  0 geonames []\n",
      "DEBUG:urllib3.connectionpool:\"GET /fulltext?format=json&q=Greenbelt+MD&suggest=true HTTP/1.1\" 200 None\n",
      "DEBUG:root:Greenbelt MD =  0 geonames []\n"
     ]
    },
    {
     "name": "stdout",
     "output_type": "stream",
     "text": [
      "\n",
      " :"
     ]
    },
    {
     "name": "stderr",
     "output_type": "stream",
     "text": [
      "DEBUG:urllib3.connectionpool:\"GET /fulltext?format=json&q=Greenbelt&suggest=true HTTP/1.1\" 200 None\n",
      "DEBUG:root: Greenbelt =  2 geonames [..]\n",
      "DEBUG:urllib3.connectionpool:\"GET /fulltext?format=json&q=MD&suggest=true HTTP/1.1\" 200 None\n",
      "DEBUG:root:        MD =  10 geonames [..=..]\n"
     ]
    },
    {
     "name": "stdout",
     "output_type": "stream",
     "text": [
      " Greenbelt\n",
      " : MD\n",
      "152 7\n",
      "Greenbelt MD"
     ]
    },
    {
     "name": "stderr",
     "output_type": "stream",
     "text": [
      "DEBUG:urllib3.connectionpool:\"GET /search?q=Greenbelt+MD&orderBy=relevance&style=FULL&username=humph&type=json&fuzzy=0.8&maxRows=5 HTTP/1.1\" 200 None\n",
      "DEBUG:urllib3.connectionpool:\"GET /rest/annotate?support=20&text=Greenbelt+MD&confidence=0.2 HTTP/1.1\" 200 None\n",
      "DEBUG:urllib3.connectionpool:\"GET /data/Greenbelt,_Maryland.json HTTP/1.1\" 200 37143\n",
      "DEBUG:urllib3.connectionpool:\"GET /data/Maryland.json HTTP/1.1\" 200 1091393\n",
      "DEBUG:root:   Message =  2 resources [.#]\n",
      "DEBUG:root:  LocField =  0 geonames []\n",
      "DEBUG:urllib3.connectionpool:\"GET /fulltext?format=json&q=Greenbelt+MD&suggest=true HTTP/1.1\" 200 None\n",
      "DEBUG:root:Greenbelt MD =  0 geonames []\n"
     ]
    },
    {
     "name": "stdout",
     "output_type": "stream",
     "text": [
      "\n",
      " :"
     ]
    },
    {
     "name": "stderr",
     "output_type": "stream",
     "text": [
      "DEBUG:urllib3.connectionpool:\"GET /fulltext?format=json&q=Greenbelt&suggest=true HTTP/1.1\" 200 None\n",
      "DEBUG:root: Greenbelt =  2 geonames [..]\n",
      "DEBUG:urllib3.connectionpool:\"GET /fulltext?format=json&q=MD&suggest=true HTTP/1.1\" 200 None\n",
      "DEBUG:root:        MD =  10 geonames [..=..]\n"
     ]
    },
    {
     "name": "stdout",
     "output_type": "stream",
     "text": [
      " Greenbelt\n",
      " : MD\n",
      "152"
     ]
    },
    {
     "name": "stderr",
     "output_type": "stream",
     "text": [
      "DEBUG:urllib3.connectionpool:\"GET /search?q=Greenbelt+MD&orderBy=relevance&style=FULL&username=humph&type=json&fuzzy=0.8&maxRows=5 HTTP/1.1\" 200 None\n",
      "DEBUG:urllib3.connectionpool:\"GET /rest/annotate?support=20&text=Greenbelt+MD&confidence=0.2 HTTP/1.1\" 200 None\n",
      "DEBUG:urllib3.connectionpool:\"GET /data/Greenbelt,_Maryland.json HTTP/1.1\" 200 37143\n",
      "DEBUG:urllib3.connectionpool:\"GET /data/Maryland.json HTTP/1.1\" 200 1091393\n",
      "DEBUG:root:   Message =  2 resources [.#]\n",
      "DEBUG:root:  LocField =  0 geonames []\n",
      "DEBUG:urllib3.connectionpool:\"GET /fulltext?format=json&q=Greenbelt+MD&suggest=true HTTP/1.1\" 200 None\n",
      "DEBUG:root:Greenbelt MD =  0 geonames []\n"
     ]
    },
    {
     "name": "stdout",
     "output_type": "stream",
     "text": [
      " 7\n",
      "Greenbelt MD\n",
      " :"
     ]
    },
    {
     "name": "stderr",
     "output_type": "stream",
     "text": [
      "DEBUG:urllib3.connectionpool:\"GET /fulltext?format=json&q=Greenbelt&suggest=true HTTP/1.1\" 200 None\n",
      "DEBUG:root: Greenbelt =  2 geonames [..]\n",
      "DEBUG:urllib3.connectionpool:\"GET /fulltext?format=json&q=MD&suggest=true HTTP/1.1\" 200 None\n",
      "DEBUG:root:        MD =  10 geonames [..=..]\n"
     ]
    },
    {
     "name": "stdout",
     "output_type": "stream",
     "text": [
      " Greenbelt\n",
      " : MD\n",
      "152 7\n",
      "Greenbelt MD"
     ]
    },
    {
     "name": "stderr",
     "output_type": "stream",
     "text": [
      "DEBUG:urllib3.connectionpool:\"GET /search?q=Greenbelt+MD&orderBy=relevance&style=FULL&username=humph&type=json&fuzzy=0.8&maxRows=5 HTTP/1.1\" 200 None\n",
      "DEBUG:urllib3.connectionpool:\"GET /rest/annotate?support=20&text=Greenbelt+MD&confidence=0.2 HTTP/1.1\" 200 None\n",
      "DEBUG:urllib3.connectionpool:\"GET /data/Greenbelt,_Maryland.json HTTP/1.1\" 200 37143\n",
      "DEBUG:urllib3.connectionpool:\"GET /data/Maryland.json HTTP/1.1\" 200 1091393\n",
      "DEBUG:root:   Message =  2 resources [.#]\n",
      "DEBUG:root:  LocField =  0 geonames []\n",
      "DEBUG:urllib3.connectionpool:\"GET /fulltext?format=json&q=Greenbelt+MD&suggest=true HTTP/1.1\" 200 None\n",
      "DEBUG:root:Greenbelt MD =  0 geonames []\n"
     ]
    },
    {
     "name": "stdout",
     "output_type": "stream",
     "text": [
      "\n",
      " :"
     ]
    },
    {
     "name": "stderr",
     "output_type": "stream",
     "text": [
      "DEBUG:urllib3.connectionpool:\"GET /fulltext?format=json&q=Greenbelt&suggest=true HTTP/1.1\" 200 None\n",
      "DEBUG:root: Greenbelt =  2 geonames [..]\n",
      "DEBUG:urllib3.connectionpool:\"GET /fulltext?format=json&q=MD&suggest=true HTTP/1.1\" 200 None\n",
      "DEBUG:root:        MD =  10 geonames [..=..]\n"
     ]
    },
    {
     "name": "stdout",
     "output_type": "stream",
     "text": [
      " Greenbelt\n",
      " : MD\n",
      "152 7\n",
      "Greenbelt MD"
     ]
    },
    {
     "name": "stderr",
     "output_type": "stream",
     "text": [
      "DEBUG:urllib3.connectionpool:\"GET /search?q=Greenbelt+MD&orderBy=relevance&style=FULL&username=humph&type=json&fuzzy=0.8&maxRows=5 HTTP/1.1\" 200 None\n",
      "DEBUG:urllib3.connectionpool:\"GET /rest/annotate?support=20&text=Greenbelt+MD&confidence=0.2 HTTP/1.1\" 200 None\n",
      "DEBUG:urllib3.connectionpool:\"GET /data/Greenbelt,_Maryland.json HTTP/1.1\" 200 37143\n",
      "DEBUG:urllib3.connectionpool:\"GET /data/Maryland.json HTTP/1.1\" 200 1091393\n",
      "DEBUG:root:   Message =  2 resources [.#]\n",
      "DEBUG:root:  LocField =  0 geonames []\n",
      "DEBUG:urllib3.connectionpool:\"GET /fulltext?format=json&q=Greenbelt+MD&suggest=true HTTP/1.1\" 200 None\n",
      "DEBUG:root:Greenbelt MD =  0 geonames []\n"
     ]
    },
    {
     "name": "stdout",
     "output_type": "stream",
     "text": [
      "\n",
      " :"
     ]
    },
    {
     "name": "stderr",
     "output_type": "stream",
     "text": [
      "DEBUG:urllib3.connectionpool:\"GET /fulltext?format=json&q=Greenbelt&suggest=true HTTP/1.1\" 200 None\n",
      "DEBUG:root: Greenbelt =  2 geonames [..]\n",
      "DEBUG:urllib3.connectionpool:\"GET /fulltext?format=json&q=MD&suggest=true HTTP/1.1\" 200 None\n",
      "DEBUG:root:        MD =  10 geonames [..=..]\n"
     ]
    },
    {
     "name": "stdout",
     "output_type": "stream",
     "text": [
      " Greenbelt\n",
      " : MD\n",
      "152 7\n",
      "Greenbelt MD"
     ]
    },
    {
     "name": "stderr",
     "output_type": "stream",
     "text": [
      "DEBUG:urllib3.connectionpool:\"GET /search?q=Greenbelt+MD&orderBy=relevance&style=FULL&username=humph&type=json&fuzzy=0.8&maxRows=5 HTTP/1.1\" 200 None\n",
      "DEBUG:urllib3.connectionpool:\"GET /rest/annotate?support=20&text=Greenbelt+MD&confidence=0.2 HTTP/1.1\" 200 None\n",
      "DEBUG:urllib3.connectionpool:\"GET /data/Greenbelt,_Maryland.json HTTP/1.1\" 200 37143\n",
      "DEBUG:urllib3.connectionpool:\"GET /data/Maryland.json HTTP/1.1\" 200 1091393\n",
      "DEBUG:root:   Message =  2 resources [.#]\n",
      "DEBUG:root:  LocField =  0 geonames []\n",
      "DEBUG:urllib3.connectionpool:\"GET /fulltext?format=json&q=Greenbelt+MD&suggest=true HTTP/1.1\" 200 None\n",
      "DEBUG:root:Greenbelt MD =  0 geonames []\n"
     ]
    },
    {
     "name": "stdout",
     "output_type": "stream",
     "text": [
      "\n",
      " :"
     ]
    },
    {
     "name": "stderr",
     "output_type": "stream",
     "text": [
      "DEBUG:urllib3.connectionpool:\"GET /fulltext?format=json&q=Greenbelt&suggest=true HTTP/1.1\" 200 None\n",
      "DEBUG:root: Greenbelt =  2 geonames [..]\n",
      "DEBUG:urllib3.connectionpool:\"GET /fulltext?format=json&q=MD&suggest=true HTTP/1.1\" 200 None\n",
      "DEBUG:root:        MD =  10 geonames [..=..]\n"
     ]
    },
    {
     "name": "stdout",
     "output_type": "stream",
     "text": [
      " Greenbelt\n",
      " : MD\n",
      "152"
     ]
    },
    {
     "name": "stderr",
     "output_type": "stream",
     "text": [
      "DEBUG:urllib3.connectionpool:\"GET /search?q=Greenbelt+MD&orderBy=relevance&style=FULL&username=humph&type=json&fuzzy=0.8&maxRows=5 HTTP/1.1\" 200 None\n",
      "DEBUG:urllib3.connectionpool:\"GET /rest/annotate?support=20&text=Greenbelt+MD&confidence=0.2 HTTP/1.1\" 200 None\n",
      "DEBUG:urllib3.connectionpool:\"GET /data/Greenbelt,_Maryland.json HTTP/1.1\" 200 37143\n",
      "DEBUG:urllib3.connectionpool:\"GET /data/Maryland.json HTTP/1.1\" 200 1091393\n",
      "DEBUG:root:   Message =  2 resources [.#]\n",
      "DEBUG:root:  LocField =  0 geonames []\n",
      "DEBUG:urllib3.connectionpool:\"GET /fulltext?format=json&q=Greenbelt+MD&suggest=true HTTP/1.1\" 200 None\n",
      "DEBUG:root:Greenbelt MD =  0 geonames []\n"
     ]
    },
    {
     "name": "stdout",
     "output_type": "stream",
     "text": [
      " 7\n",
      "Greenbelt MD\n",
      " :"
     ]
    },
    {
     "name": "stderr",
     "output_type": "stream",
     "text": [
      "DEBUG:urllib3.connectionpool:\"GET /fulltext?format=json&q=Greenbelt&suggest=true HTTP/1.1\" 200 None\n",
      "DEBUG:root: Greenbelt =  2 geonames [..]\n",
      "DEBUG:urllib3.connectionpool:\"GET /fulltext?format=json&q=MD&suggest=true HTTP/1.1\" 200 None\n",
      "DEBUG:root:        MD =  10 geonames [..=..]\n"
     ]
    },
    {
     "name": "stdout",
     "output_type": "stream",
     "text": [
      " Greenbelt\n",
      " : MD\n",
      "152 7\n",
      "Greenbelt MD"
     ]
    },
    {
     "name": "stderr",
     "output_type": "stream",
     "text": [
      "DEBUG:urllib3.connectionpool:\"GET /search?q=Greenbelt+MD&orderBy=relevance&style=FULL&username=humph&type=json&fuzzy=0.8&maxRows=5 HTTP/1.1\" 200 None\n",
      "DEBUG:urllib3.connectionpool:\"GET /rest/annotate?support=20&text=Greenbelt+MD&confidence=0.2 HTTP/1.1\" 200 None\n",
      "DEBUG:urllib3.connectionpool:\"GET /data/Greenbelt,_Maryland.json HTTP/1.1\" 200 37143\n",
      "DEBUG:urllib3.connectionpool:\"GET /data/Maryland.json HTTP/1.1\" 200 1091393\n",
      "DEBUG:root:   Message =  2 resources [.#]\n",
      "DEBUG:root:  LocField =  0 geonames []\n",
      "DEBUG:urllib3.connectionpool:\"GET /fulltext?format=json&q=Greenbelt+MD&suggest=true HTTP/1.1\" 200 None\n",
      "DEBUG:root:Greenbelt MD =  0 geonames []\n"
     ]
    },
    {
     "name": "stdout",
     "output_type": "stream",
     "text": [
      "\n",
      " :"
     ]
    },
    {
     "name": "stderr",
     "output_type": "stream",
     "text": [
      "DEBUG:urllib3.connectionpool:\"GET /fulltext?format=json&q=Greenbelt&suggest=true HTTP/1.1\" 200 None\n",
      "DEBUG:root: Greenbelt =  2 geonames [..]\n",
      "DEBUG:urllib3.connectionpool:\"GET /fulltext?format=json&q=MD&suggest=true HTTP/1.1\" 200 None\n",
      "DEBUG:root:        MD =  10 geonames [..=..]\n"
     ]
    },
    {
     "name": "stdout",
     "output_type": "stream",
     "text": [
      " Greenbelt\n",
      " : MD\n",
      "152"
     ]
    },
    {
     "name": "stderr",
     "output_type": "stream",
     "text": [
      "DEBUG:urllib3.connectionpool:\"GET /search?q=Greenbelt+MD&orderBy=relevance&style=FULL&username=humph&type=json&fuzzy=0.8&maxRows=5 HTTP/1.1\" 200 None\n",
      "DEBUG:urllib3.connectionpool:\"GET /rest/annotate?support=20&text=Greenbelt+MD&confidence=0.2 HTTP/1.1\" 200 None\n",
      "DEBUG:urllib3.connectionpool:\"GET /data/Greenbelt,_Maryland.json HTTP/1.1\" 200 37143\n",
      "DEBUG:urllib3.connectionpool:\"GET /data/Maryland.json HTTP/1.1\" 200 1091393\n",
      "DEBUG:root:   Message =  2 resources [.#]\n",
      "DEBUG:root:  LocField =  0 geonames []\n",
      "DEBUG:urllib3.connectionpool:\"GET /fulltext?format=json&q=Greenbelt+MD&suggest=true HTTP/1.1\" 200 None\n",
      "DEBUG:root:Greenbelt MD =  0 geonames []\n"
     ]
    },
    {
     "name": "stdout",
     "output_type": "stream",
     "text": [
      " 7\n",
      "Greenbelt MD\n",
      " :"
     ]
    },
    {
     "name": "stderr",
     "output_type": "stream",
     "text": [
      "DEBUG:urllib3.connectionpool:\"GET /fulltext?format=json&q=Greenbelt&suggest=true HTTP/1.1\" 200 None\n",
      "DEBUG:root: Greenbelt =  2 geonames [..]\n",
      "DEBUG:urllib3.connectionpool:\"GET /fulltext?format=json&q=MD&suggest=true HTTP/1.1\" 200 None\n",
      "DEBUG:root:        MD =  10 geonames [..=..]\n"
     ]
    },
    {
     "name": "stdout",
     "output_type": "stream",
     "text": [
      " Greenbelt\n",
      " : MD\n",
      "152 7\n",
      "Greenbelt MD"
     ]
    },
    {
     "name": "stderr",
     "output_type": "stream",
     "text": [
      "DEBUG:urllib3.connectionpool:\"GET /search?q=Greenbelt+MD&orderBy=relevance&style=FULL&username=humph&type=json&fuzzy=0.8&maxRows=5 HTTP/1.1\" 200 None\n",
      "DEBUG:urllib3.connectionpool:\"GET /rest/annotate?support=20&text=Greenbelt+MD&confidence=0.2 HTTP/1.1\" 200 None\n",
      "DEBUG:urllib3.connectionpool:\"GET /data/Greenbelt,_Maryland.json HTTP/1.1\" 200 37143\n",
      "DEBUG:urllib3.connectionpool:\"GET /data/Maryland.json HTTP/1.1\" 200 1091393\n",
      "DEBUG:root:   Message =  2 resources [.#]\n",
      "DEBUG:root:  LocField =  0 geonames []\n",
      "DEBUG:urllib3.connectionpool:\"GET /fulltext?format=json&q=Greenbelt+MD&suggest=true HTTP/1.1\" 200 None\n",
      "DEBUG:root:Greenbelt MD =  0 geonames []\n"
     ]
    },
    {
     "name": "stdout",
     "output_type": "stream",
     "text": [
      "\n",
      " :"
     ]
    },
    {
     "name": "stderr",
     "output_type": "stream",
     "text": [
      "DEBUG:urllib3.connectionpool:\"GET /fulltext?format=json&q=Greenbelt&suggest=true HTTP/1.1\" 200 None\n",
      "DEBUG:root: Greenbelt =  2 geonames [..]\n",
      "DEBUG:urllib3.connectionpool:\"GET /fulltext?format=json&q=MD&suggest=true HTTP/1.1\" 200 None\n",
      "DEBUG:root:        MD =  10 geonames [..=..]\n"
     ]
    },
    {
     "name": "stdout",
     "output_type": "stream",
     "text": [
      " Greenbelt\n",
      " : MD\n",
      "152"
     ]
    },
    {
     "name": "stderr",
     "output_type": "stream",
     "text": [
      "DEBUG:urllib3.connectionpool:\"GET /search?q=Greenbelt+MD&orderBy=relevance&style=FULL&username=humph&type=json&fuzzy=0.8&maxRows=5 HTTP/1.1\" 200 None\n",
      "DEBUG:urllib3.connectionpool:\"GET /rest/annotate?support=20&text=Greenbelt+MD&confidence=0.2 HTTP/1.1\" 200 None\n",
      "DEBUG:urllib3.connectionpool:\"GET /data/Greenbelt,_Maryland.json HTTP/1.1\" 200 37143\n",
      "DEBUG:urllib3.connectionpool:\"GET /data/Maryland.json HTTP/1.1\" 200 1091393\n",
      "DEBUG:root:   Message =  2 resources [.#]\n",
      "DEBUG:root:  LocField =  0 geonames []\n",
      "DEBUG:urllib3.connectionpool:\"GET /fulltext?format=json&q=Greenbelt+MD&suggest=true HTTP/1.1\" 200 None\n",
      "DEBUG:root:Greenbelt MD =  0 geonames []\n"
     ]
    },
    {
     "name": "stdout",
     "output_type": "stream",
     "text": [
      " 7\n",
      "Greenbelt MD\n",
      " :"
     ]
    },
    {
     "name": "stderr",
     "output_type": "stream",
     "text": [
      "DEBUG:urllib3.connectionpool:\"GET /fulltext?format=json&q=Greenbelt&suggest=true HTTP/1.1\" 200 None\n",
      "DEBUG:root: Greenbelt =  2 geonames [..]\n",
      "DEBUG:urllib3.connectionpool:\"GET /fulltext?format=json&q=MD&suggest=true HTTP/1.1\" 200 None\n",
      "DEBUG:root:        MD =  10 geonames [..=..]\n"
     ]
    },
    {
     "name": "stdout",
     "output_type": "stream",
     "text": [
      " Greenbelt\n",
      " : MD\n",
      "152 7\n",
      "Greenbelt MD"
     ]
    },
    {
     "name": "stderr",
     "output_type": "stream",
     "text": [
      "DEBUG:urllib3.connectionpool:\"GET /search?q=Greenbelt+MD&orderBy=relevance&style=FULL&username=humph&type=json&fuzzy=0.8&maxRows=5 HTTP/1.1\" 200 None\n",
      "DEBUG:urllib3.connectionpool:\"GET /rest/annotate?support=20&text=Greenbelt+MD&confidence=0.2 HTTP/1.1\" 200 None\n",
      "DEBUG:urllib3.connectionpool:\"GET /data/Greenbelt,_Maryland.json HTTP/1.1\" 200 37143\n",
      "DEBUG:urllib3.connectionpool:\"GET /data/Maryland.json HTTP/1.1\" 200 1091393\n",
      "DEBUG:root:   Message =  2 resources [.#]\n",
      "DEBUG:root:  LocField =  0 geonames []\n",
      "DEBUG:urllib3.connectionpool:\"GET /fulltext?format=json&q=Greenbelt+MD&suggest=true HTTP/1.1\" 200 None\n",
      "DEBUG:root:Greenbelt MD =  0 geonames []\n"
     ]
    },
    {
     "name": "stdout",
     "output_type": "stream",
     "text": [
      "\n",
      " :"
     ]
    },
    {
     "name": "stderr",
     "output_type": "stream",
     "text": [
      "DEBUG:urllib3.connectionpool:\"GET /fulltext?format=json&q=Greenbelt&suggest=true HTTP/1.1\" 200 None\n",
      "DEBUG:root: Greenbelt =  2 geonames [..]\n",
      "DEBUG:urllib3.connectionpool:\"GET /fulltext?format=json&q=MD&suggest=true HTTP/1.1\" 200 None\n",
      "DEBUG:root:        MD =  10 geonames [..=..]\n"
     ]
    },
    {
     "name": "stdout",
     "output_type": "stream",
     "text": [
      " Greenbelt\n",
      " : MD\n",
      "152"
     ]
    },
    {
     "name": "stderr",
     "output_type": "stream",
     "text": [
      "DEBUG:urllib3.connectionpool:\"GET /search?q=Greenbelt+MD&orderBy=relevance&style=FULL&username=humph&type=json&fuzzy=0.8&maxRows=5 HTTP/1.1\" 200 None\n",
      "DEBUG:urllib3.connectionpool:\"GET /rest/annotate?support=20&text=Greenbelt+MD&confidence=0.2 HTTP/1.1\" 200 None\n",
      "DEBUG:urllib3.connectionpool:\"GET /data/Greenbelt,_Maryland.json HTTP/1.1\" 200 37143\n",
      "DEBUG:urllib3.connectionpool:\"GET /data/Maryland.json HTTP/1.1\" 200 1091393\n",
      "DEBUG:root:   Message =  2 resources [.#]\n",
      "DEBUG:root:  LocField =  0 geonames []\n",
      "DEBUG:urllib3.connectionpool:\"GET /fulltext?format=json&q=Greenbelt+MD&suggest=true HTTP/1.1\" 200 None\n",
      "DEBUG:root:Greenbelt MD =  0 geonames []\n"
     ]
    },
    {
     "name": "stdout",
     "output_type": "stream",
     "text": [
      " 7\n",
      "Greenbelt MD\n",
      " :"
     ]
    },
    {
     "name": "stderr",
     "output_type": "stream",
     "text": [
      "DEBUG:urllib3.connectionpool:\"GET /fulltext?format=json&q=Greenbelt&suggest=true HTTP/1.1\" 200 None\n",
      "DEBUG:root: Greenbelt =  2 geonames [..]\n",
      "DEBUG:urllib3.connectionpool:\"GET /fulltext?format=json&q=MD&suggest=true HTTP/1.1\" 200 None\n",
      "DEBUG:root:        MD =  10 geonames [..=..]\n"
     ]
    },
    {
     "name": "stdout",
     "output_type": "stream",
     "text": [
      " Greenbelt\n",
      " : MD\n",
      "152"
     ]
    },
    {
     "name": "stderr",
     "output_type": "stream",
     "text": [
      "DEBUG:urllib3.connectionpool:\"GET /search?q=Greenbelt+MD&orderBy=relevance&style=FULL&username=humph&type=json&fuzzy=0.8&maxRows=5 HTTP/1.1\" 200 None\n",
      "DEBUG:urllib3.connectionpool:\"GET /rest/annotate?support=20&text=Greenbelt+MD&confidence=0.2 HTTP/1.1\" 200 None\n",
      "DEBUG:urllib3.connectionpool:\"GET /data/Greenbelt,_Maryland.json HTTP/1.1\" 200 37143\n",
      "DEBUG:urllib3.connectionpool:\"GET /data/Maryland.json HTTP/1.1\" 200 1091393\n",
      "DEBUG:root:   Message =  2 resources [.#]\n",
      "DEBUG:root:  LocField =  0 geonames []\n",
      "DEBUG:urllib3.connectionpool:\"GET /fulltext?format=json&q=Greenbelt+MD&suggest=true HTTP/1.1\" 200 None\n",
      "DEBUG:root:Greenbelt MD =  0 geonames []\n"
     ]
    },
    {
     "name": "stdout",
     "output_type": "stream",
     "text": [
      " 7\n",
      "Greenbelt MD\n",
      " :"
     ]
    },
    {
     "name": "stderr",
     "output_type": "stream",
     "text": [
      "DEBUG:urllib3.connectionpool:\"GET /fulltext?format=json&q=Greenbelt&suggest=true HTTP/1.1\" 200 None\n",
      "DEBUG:root: Greenbelt =  2 geonames [..]\n",
      "DEBUG:urllib3.connectionpool:\"GET /fulltext?format=json&q=MD&suggest=true HTTP/1.1\" 200 None\n",
      "DEBUG:root:        MD =  10 geonames [..=..]\n"
     ]
    },
    {
     "name": "stdout",
     "output_type": "stream",
     "text": [
      " Greenbelt\n",
      " : MD\n",
      "152 7\n",
      "Greenbelt MD"
     ]
    },
    {
     "name": "stderr",
     "output_type": "stream",
     "text": [
      "DEBUG:urllib3.connectionpool:\"GET /search?q=Greenbelt+MD&orderBy=relevance&style=FULL&username=humph&type=json&fuzzy=0.8&maxRows=5 HTTP/1.1\" 200 None\n",
      "DEBUG:urllib3.connectionpool:\"GET /rest/annotate?support=20&text=Greenbelt+MD&confidence=0.2 HTTP/1.1\" 200 None\n",
      "DEBUG:urllib3.connectionpool:\"GET /data/Greenbelt,_Maryland.json HTTP/1.1\" 200 37143\n",
      "DEBUG:urllib3.connectionpool:\"GET /data/Maryland.json HTTP/1.1\" 200 1091393\n",
      "DEBUG:root:   Message =  2 resources [.#]\n",
      "DEBUG:root:  LocField =  0 geonames []\n",
      "DEBUG:urllib3.connectionpool:\"GET /fulltext?format=json&q=Greenbelt+MD&suggest=true HTTP/1.1\" 200 None\n",
      "DEBUG:root:Greenbelt MD =  0 geonames []\n"
     ]
    },
    {
     "name": "stdout",
     "output_type": "stream",
     "text": [
      "\n",
      " :"
     ]
    },
    {
     "name": "stderr",
     "output_type": "stream",
     "text": [
      "DEBUG:urllib3.connectionpool:\"GET /fulltext?format=json&q=Greenbelt&suggest=true HTTP/1.1\" 200 None\n",
      "DEBUG:root: Greenbelt =  2 geonames [..]\n",
      "DEBUG:urllib3.connectionpool:\"GET /fulltext?format=json&q=MD&suggest=true HTTP/1.1\" 200 None\n",
      "DEBUG:root:        MD =  10 geonames [..=..]\n"
     ]
    },
    {
     "name": "stdout",
     "output_type": "stream",
     "text": [
      " Greenbelt\n",
      " : MD\n",
      "152"
     ]
    },
    {
     "name": "stderr",
     "output_type": "stream",
     "text": [
      "DEBUG:urllib3.connectionpool:\"GET /search?q=Greenbelt+MD&orderBy=relevance&style=FULL&username=humph&type=json&fuzzy=0.8&maxRows=5 HTTP/1.1\" 200 None\n",
      "DEBUG:urllib3.connectionpool:\"GET /rest/annotate?support=20&text=Greenbelt+MD&confidence=0.2 HTTP/1.1\" 200 None\n",
      "DEBUG:urllib3.connectionpool:\"GET /data/Greenbelt,_Maryland.json HTTP/1.1\" 200 37143\n",
      "DEBUG:urllib3.connectionpool:\"GET /data/Maryland.json HTTP/1.1\" 200 1091393\n",
      "DEBUG:root:   Message =  2 resources [.#]\n",
      "DEBUG:root:  LocField =  0 geonames []\n",
      "DEBUG:urllib3.connectionpool:\"GET /fulltext?format=json&q=Greenbelt+MD&suggest=true HTTP/1.1\" 200 None\n",
      "DEBUG:root:Greenbelt MD =  0 geonames []\n"
     ]
    },
    {
     "name": "stdout",
     "output_type": "stream",
     "text": [
      " 7\n",
      "Greenbelt MD\n",
      " :"
     ]
    },
    {
     "name": "stderr",
     "output_type": "stream",
     "text": [
      "DEBUG:urllib3.connectionpool:\"GET /fulltext?format=json&q=Greenbelt&suggest=true HTTP/1.1\" 200 None\n",
      "DEBUG:root: Greenbelt =  2 geonames [..]\n",
      "DEBUG:urllib3.connectionpool:\"GET /fulltext?format=json&q=MD&suggest=true HTTP/1.1\" 200 None\n",
      "DEBUG:root:        MD =  10 geonames [..=..]\n"
     ]
    },
    {
     "name": "stdout",
     "output_type": "stream",
     "text": [
      " Greenbelt\n",
      " : MD\n",
      "152 7\n",
      "Greenbelt MD"
     ]
    },
    {
     "name": "stderr",
     "output_type": "stream",
     "text": [
      "DEBUG:urllib3.connectionpool:\"GET /search?q=Greenbelt+MD&orderBy=relevance&style=FULL&username=humph&type=json&fuzzy=0.8&maxRows=5 HTTP/1.1\" 200 None\n",
      "DEBUG:urllib3.connectionpool:\"GET /rest/annotate?support=20&text=Greenbelt+MD&confidence=0.2 HTTP/1.1\" 200 None\n",
      "DEBUG:urllib3.connectionpool:\"GET /data/Greenbelt,_Maryland.json HTTP/1.1\" 200 37143\n",
      "DEBUG:urllib3.connectionpool:\"GET /data/Maryland.json HTTP/1.1\" 200 1091393\n",
      "DEBUG:root:   Message =  2 resources [.#]\n",
      "DEBUG:root:  LocField =  0 geonames []\n",
      "DEBUG:urllib3.connectionpool:\"GET /fulltext?format=json&q=Greenbelt+MD&suggest=true HTTP/1.1\" 200 None\n",
      "DEBUG:root:Greenbelt MD =  0 geonames []\n"
     ]
    },
    {
     "name": "stdout",
     "output_type": "stream",
     "text": [
      "\n",
      " :"
     ]
    },
    {
     "name": "stderr",
     "output_type": "stream",
     "text": [
      "DEBUG:urllib3.connectionpool:\"GET /fulltext?format=json&q=Greenbelt&suggest=true HTTP/1.1\" 200 None\n",
      "DEBUG:root: Greenbelt =  2 geonames [..]\n",
      "DEBUG:urllib3.connectionpool:\"GET /fulltext?format=json&q=MD&suggest=true HTTP/1.1\" 200 None\n",
      "DEBUG:root:        MD =  10 geonames [..=..]\n"
     ]
    },
    {
     "name": "stdout",
     "output_type": "stream",
     "text": [
      " Greenbelt\n",
      " : MD\n",
      "152 7\n",
      "Greenbelt MD"
     ]
    },
    {
     "name": "stderr",
     "output_type": "stream",
     "text": [
      "DEBUG:urllib3.connectionpool:\"GET /search?q=Greenbelt+MD&orderBy=relevance&style=FULL&username=humph&type=json&fuzzy=0.8&maxRows=5 HTTP/1.1\" 200 None\n",
      "DEBUG:urllib3.connectionpool:\"GET /rest/annotate?support=20&text=Greenbelt+MD&confidence=0.2 HTTP/1.1\" 200 None\n",
      "DEBUG:urllib3.connectionpool:\"GET /data/Greenbelt,_Maryland.json HTTP/1.1\" 200 37143\n",
      "DEBUG:urllib3.connectionpool:\"GET /data/Maryland.json HTTP/1.1\" 200 1091393\n",
      "DEBUG:root:   Message =  2 resources [.#]\n",
      "DEBUG:root:  LocField =  0 geonames []\n",
      "DEBUG:urllib3.connectionpool:\"GET /fulltext?format=json&q=Greenbelt+MD&suggest=true HTTP/1.1\" 200 None\n",
      "DEBUG:root:Greenbelt MD =  0 geonames []\n"
     ]
    },
    {
     "name": "stdout",
     "output_type": "stream",
     "text": [
      "\n",
      " :"
     ]
    },
    {
     "name": "stderr",
     "output_type": "stream",
     "text": [
      "DEBUG:urllib3.connectionpool:\"GET /fulltext?format=json&q=Greenbelt&suggest=true HTTP/1.1\" 200 None\n",
      "DEBUG:root: Greenbelt =  2 geonames [..]\n",
      "DEBUG:urllib3.connectionpool:\"GET /fulltext?format=json&q=MD&suggest=true HTTP/1.1\" 200 None\n",
      "DEBUG:root:        MD =  10 geonames [..=..]\n"
     ]
    },
    {
     "name": "stdout",
     "output_type": "stream",
     "text": [
      " Greenbelt\n",
      " : MD\n",
      "152 7\n",
      "Greenbelt MD"
     ]
    },
    {
     "name": "stderr",
     "output_type": "stream",
     "text": [
      "DEBUG:urllib3.connectionpool:\"GET /search?q=Greenbelt+MD&orderBy=relevance&style=FULL&username=humph&type=json&fuzzy=0.8&maxRows=5 HTTP/1.1\" 200 None\n",
      "DEBUG:urllib3.connectionpool:\"GET /rest/annotate?support=20&text=Greenbelt+MD&confidence=0.2 HTTP/1.1\" 200 None\n",
      "DEBUG:urllib3.connectionpool:\"GET /data/Greenbelt,_Maryland.json HTTP/1.1\" 200 37143\n",
      "DEBUG:urllib3.connectionpool:\"GET /data/Maryland.json HTTP/1.1\" 200 1091393\n",
      "DEBUG:root:   Message =  2 resources [.#]\n",
      "DEBUG:root:  LocField =  0 geonames []\n",
      "DEBUG:urllib3.connectionpool:\"GET /fulltext?format=json&q=Greenbelt+MD&suggest=true HTTP/1.1\" 200 None\n",
      "DEBUG:root:Greenbelt MD =  0 geonames []\n"
     ]
    },
    {
     "name": "stdout",
     "output_type": "stream",
     "text": [
      "\n",
      " :"
     ]
    },
    {
     "name": "stderr",
     "output_type": "stream",
     "text": [
      "DEBUG:urllib3.connectionpool:\"GET /fulltext?format=json&q=Greenbelt&suggest=true HTTP/1.1\" 200 None\n",
      "DEBUG:root: Greenbelt =  2 geonames [..]\n",
      "DEBUG:urllib3.connectionpool:\"GET /fulltext?format=json&q=MD&suggest=true HTTP/1.1\" 200 None\n",
      "DEBUG:root:        MD =  10 geonames [..=..]\n"
     ]
    },
    {
     "name": "stdout",
     "output_type": "stream",
     "text": [
      " Greenbelt\n",
      " : MD\n",
      "152 7\n",
      "Greenbelt MD"
     ]
    },
    {
     "name": "stderr",
     "output_type": "stream",
     "text": [
      "DEBUG:urllib3.connectionpool:\"GET /search?q=Greenbelt+MD&orderBy=relevance&style=FULL&username=humph&type=json&fuzzy=0.8&maxRows=5 HTTP/1.1\" 200 None\n",
      "DEBUG:urllib3.connectionpool:\"GET /rest/annotate?support=20&text=Greenbelt+MD&confidence=0.2 HTTP/1.1\" 200 None\n",
      "DEBUG:urllib3.connectionpool:\"GET /data/Greenbelt,_Maryland.json HTTP/1.1\" 200 37143\n",
      "DEBUG:urllib3.connectionpool:\"GET /data/Maryland.json HTTP/1.1\" 200 1091393\n",
      "DEBUG:root:   Message =  2 resources [.#]\n",
      "DEBUG:root:  LocField =  0 geonames []\n",
      "DEBUG:urllib3.connectionpool:\"GET /fulltext?format=json&q=Greenbelt+MD&suggest=true HTTP/1.1\" 200 None\n",
      "DEBUG:root:Greenbelt MD =  0 geonames []\n"
     ]
    },
    {
     "name": "stdout",
     "output_type": "stream",
     "text": [
      "\n",
      " :"
     ]
    },
    {
     "name": "stderr",
     "output_type": "stream",
     "text": [
      "DEBUG:urllib3.connectionpool:\"GET /fulltext?format=json&q=Greenbelt&suggest=true HTTP/1.1\" 200 None\n",
      "DEBUG:root: Greenbelt =  2 geonames [..]\n",
      "DEBUG:urllib3.connectionpool:\"GET /fulltext?format=json&q=MD&suggest=true HTTP/1.1\" 200 None\n",
      "DEBUG:root:        MD =  10 geonames [..=..]\n"
     ]
    },
    {
     "name": "stdout",
     "output_type": "stream",
     "text": [
      " Greenbelt\n",
      " : MD\n",
      "152"
     ]
    },
    {
     "name": "stderr",
     "output_type": "stream",
     "text": [
      "DEBUG:urllib3.connectionpool:\"GET /search?q=Greenbelt+MD&orderBy=relevance&style=FULL&username=humph&type=json&fuzzy=0.8&maxRows=5 HTTP/1.1\" 200 None\n",
      "DEBUG:urllib3.connectionpool:\"GET /rest/annotate?support=20&text=Greenbelt+MD&confidence=0.2 HTTP/1.1\" 200 None\n",
      "INFO:urllib3.connectionpool:Resetting dropped connection: dbpedia.org\n",
      "2016-02-21 23:07:50,111 [MainThread ] INFO    - Resetting dropped connection: dbpedia.org\n",
      "DEBUG:urllib3.connectionpool:\"GET /data/Greenbelt,_Maryland.json HTTP/1.1\" 200 37143\n",
      "DEBUG:urllib3.connectionpool:\"GET /data/Maryland.json HTTP/1.1\" 200 1091393\n",
      "DEBUG:root:   Message =  2 resources [.#]\n",
      "DEBUG:root:  LocField =  0 geonames []\n",
      "DEBUG:urllib3.connectionpool:\"GET /fulltext?format=json&q=Greenbelt+MD&suggest=true HTTP/1.1\" 200 None\n",
      "DEBUG:root:Greenbelt MD =  0 geonames []\n"
     ]
    },
    {
     "name": "stdout",
     "output_type": "stream",
     "text": [
      " 7\n",
      "Greenbelt MD\n",
      " :"
     ]
    },
    {
     "name": "stderr",
     "output_type": "stream",
     "text": [
      "DEBUG:urllib3.connectionpool:\"GET /fulltext?format=json&q=Greenbelt&suggest=true HTTP/1.1\" 200 None\n",
      "DEBUG:root: Greenbelt =  2 geonames [..]\n",
      "DEBUG:urllib3.connectionpool:\"GET /fulltext?format=json&q=MD&suggest=true HTTP/1.1\" 200 None\n",
      "DEBUG:root:        MD =  10 geonames [..=..]\n"
     ]
    },
    {
     "name": "stdout",
     "output_type": "stream",
     "text": [
      " Greenbelt\n",
      " : MD\n",
      "152"
     ]
    },
    {
     "name": "stderr",
     "output_type": "stream",
     "text": [
      "DEBUG:urllib3.connectionpool:\"GET /search?q=Greenbelt+MD&orderBy=relevance&style=FULL&username=humph&type=json&fuzzy=0.8&maxRows=5 HTTP/1.1\" 200 None\n",
      "DEBUG:urllib3.connectionpool:\"GET /rest/annotate?support=20&text=Greenbelt+MD&confidence=0.2 HTTP/1.1\" 200 None\n",
      "DEBUG:urllib3.connectionpool:\"GET /data/Greenbelt,_Maryland.json HTTP/1.1\" 200 37143\n",
      "DEBUG:urllib3.connectionpool:\"GET /data/Maryland.json HTTP/1.1\" 200 1091393\n",
      "DEBUG:root:   Message =  2 resources [.#]\n",
      "DEBUG:root:  LocField =  0 geonames []\n",
      "DEBUG:urllib3.connectionpool:\"GET /fulltext?format=json&q=Greenbelt+MD&suggest=true HTTP/1.1\" 200 None\n",
      "DEBUG:root:Greenbelt MD =  0 geonames []\n"
     ]
    },
    {
     "name": "stdout",
     "output_type": "stream",
     "text": [
      " 7\n",
      "Greenbelt MD\n",
      " :"
     ]
    },
    {
     "name": "stderr",
     "output_type": "stream",
     "text": [
      "DEBUG:urllib3.connectionpool:\"GET /fulltext?format=json&q=Greenbelt&suggest=true HTTP/1.1\" 200 None\n",
      "DEBUG:root: Greenbelt =  2 geonames [..]\n",
      "DEBUG:urllib3.connectionpool:\"GET /fulltext?format=json&q=MD&suggest=true HTTP/1.1\" 200 None\n",
      "DEBUG:root:        MD =  10 geonames [..=..]\n"
     ]
    },
    {
     "name": "stdout",
     "output_type": "stream",
     "text": [
      " Greenbelt\n",
      " : MD\n",
      "152 7\n",
      "Greenbelt MD"
     ]
    },
    {
     "name": "stderr",
     "output_type": "stream",
     "text": [
      "DEBUG:urllib3.connectionpool:\"GET /search?q=Greenbelt+MD&orderBy=relevance&style=FULL&username=humph&type=json&fuzzy=0.8&maxRows=5 HTTP/1.1\" 200 None\n",
      "DEBUG:urllib3.connectionpool:\"GET /rest/annotate?support=20&text=Greenbelt+MD&confidence=0.2 HTTP/1.1\" 200 None\n",
      "DEBUG:urllib3.connectionpool:\"GET /data/Greenbelt,_Maryland.json HTTP/1.1\" 200 37143\n",
      "DEBUG:urllib3.connectionpool:\"GET /data/Maryland.json HTTP/1.1\" 200 1091393\n",
      "DEBUG:root:   Message =  2 resources [.#]\n",
      "DEBUG:root:  LocField =  0 geonames []\n",
      "DEBUG:urllib3.connectionpool:\"GET /fulltext?format=json&q=Greenbelt+MD&suggest=true HTTP/1.1\" 200 None\n",
      "DEBUG:root:Greenbelt MD =  0 geonames []\n"
     ]
    },
    {
     "name": "stdout",
     "output_type": "stream",
     "text": [
      "\n",
      " :"
     ]
    },
    {
     "name": "stderr",
     "output_type": "stream",
     "text": [
      "DEBUG:urllib3.connectionpool:\"GET /fulltext?format=json&q=Greenbelt&suggest=true HTTP/1.1\" 200 None\n",
      "DEBUG:root: Greenbelt =  2 geonames [..]\n",
      "DEBUG:urllib3.connectionpool:\"GET /fulltext?format=json&q=MD&suggest=true HTTP/1.1\" 200 None\n",
      "DEBUG:root:        MD =  10 geonames [..=..]\n"
     ]
    },
    {
     "name": "stdout",
     "output_type": "stream",
     "text": [
      " Greenbelt\n",
      " : MD\n",
      "152"
     ]
    },
    {
     "name": "stderr",
     "output_type": "stream",
     "text": [
      "DEBUG:urllib3.connectionpool:\"GET /search?q=Greenbelt+MD&orderBy=relevance&style=FULL&username=humph&type=json&fuzzy=0.8&maxRows=5 HTTP/1.1\" 200 None\n",
      "DEBUG:urllib3.connectionpool:\"GET /rest/annotate?support=20&text=Greenbelt+MD&confidence=0.2 HTTP/1.1\" 200 None\n",
      "DEBUG:urllib3.connectionpool:\"GET /data/Greenbelt,_Maryland.json HTTP/1.1\" 200 37143\n",
      "DEBUG:urllib3.connectionpool:\"GET /data/Maryland.json HTTP/1.1\" 200 1091393\n",
      "DEBUG:root:   Message =  2 resources [.#]\n",
      "DEBUG:root:  LocField =  0 geonames []\n",
      "DEBUG:urllib3.connectionpool:\"GET /fulltext?format=json&q=Greenbelt+MD&suggest=true HTTP/1.1\" 200 None\n",
      "DEBUG:root:Greenbelt MD =  0 geonames []\n"
     ]
    },
    {
     "name": "stdout",
     "output_type": "stream",
     "text": [
      " 7\n",
      "Greenbelt MD\n",
      " :"
     ]
    },
    {
     "name": "stderr",
     "output_type": "stream",
     "text": [
      "DEBUG:urllib3.connectionpool:\"GET /fulltext?format=json&q=Greenbelt&suggest=true HTTP/1.1\" 200 None\n",
      "DEBUG:root: Greenbelt =  2 geonames [..]\n",
      "DEBUG:urllib3.connectionpool:\"GET /fulltext?format=json&q=MD&suggest=true HTTP/1.1\" 200 None\n",
      "DEBUG:root:        MD =  10 geonames [..=..]\n"
     ]
    },
    {
     "name": "stdout",
     "output_type": "stream",
     "text": [
      " Greenbelt\n",
      " : MD\n",
      "152 7\n",
      "Greenbelt MD"
     ]
    },
    {
     "name": "stderr",
     "output_type": "stream",
     "text": [
      "DEBUG:urllib3.connectionpool:\"GET /search?q=Greenbelt+MD&orderBy=relevance&style=FULL&username=humph&type=json&fuzzy=0.8&maxRows=5 HTTP/1.1\" 200 None\n",
      "DEBUG:urllib3.connectionpool:\"GET /rest/annotate?support=20&text=Greenbelt+MD&confidence=0.2 HTTP/1.1\" 200 None\n",
      "DEBUG:urllib3.connectionpool:\"GET /data/Greenbelt,_Maryland.json HTTP/1.1\" 200 37143\n",
      "DEBUG:urllib3.connectionpool:\"GET /data/Maryland.json HTTP/1.1\" 200 1091393\n",
      "DEBUG:root:   Message =  2 resources [.#]\n",
      "DEBUG:root:  LocField =  0 geonames []\n",
      "DEBUG:urllib3.connectionpool:\"GET /fulltext?format=json&q=Greenbelt+MD&suggest=true HTTP/1.1\" 200 None\n",
      "DEBUG:root:Greenbelt MD =  0 geonames []\n"
     ]
    },
    {
     "name": "stdout",
     "output_type": "stream",
     "text": [
      "\n",
      " :"
     ]
    },
    {
     "name": "stderr",
     "output_type": "stream",
     "text": [
      "DEBUG:urllib3.connectionpool:\"GET /fulltext?format=json&q=Greenbelt&suggest=true HTTP/1.1\" 200 None\n",
      "DEBUG:root: Greenbelt =  2 geonames [..]\n",
      "DEBUG:urllib3.connectionpool:\"GET /fulltext?format=json&q=MD&suggest=true HTTP/1.1\" 200 None\n",
      "DEBUG:root:        MD =  10 geonames [..=..]\n"
     ]
    },
    {
     "name": "stdout",
     "output_type": "stream",
     "text": [
      " Greenbelt\n",
      " : MD\n",
      "152"
     ]
    },
    {
     "name": "stderr",
     "output_type": "stream",
     "text": [
      "DEBUG:urllib3.connectionpool:\"GET /search?q=Greenbelt+MD&orderBy=relevance&style=FULL&username=humph&type=json&fuzzy=0.8&maxRows=5 HTTP/1.1\" 200 None\n",
      "DEBUG:urllib3.connectionpool:\"GET /rest/annotate?support=20&text=Greenbelt+MD&confidence=0.2 HTTP/1.1\" 200 None\n",
      "DEBUG:urllib3.connectionpool:\"GET /data/Greenbelt,_Maryland.json HTTP/1.1\" 200 37143\n",
      "DEBUG:urllib3.connectionpool:\"GET /data/Maryland.json HTTP/1.1\" 200 1091393\n",
      "DEBUG:root:   Message =  2 resources [.#]\n",
      "DEBUG:root:  LocField =  0 geonames []\n",
      "DEBUG:urllib3.connectionpool:\"GET /fulltext?format=json&q=Greenbelt+MD&suggest=true HTTP/1.1\" 200 None\n",
      "DEBUG:root:Greenbelt MD =  0 geonames []\n"
     ]
    },
    {
     "name": "stdout",
     "output_type": "stream",
     "text": [
      " 7\n",
      "Greenbelt MD\n",
      " :"
     ]
    },
    {
     "name": "stderr",
     "output_type": "stream",
     "text": [
      "DEBUG:urllib3.connectionpool:\"GET /fulltext?format=json&q=Greenbelt&suggest=true HTTP/1.1\" 200 None\n",
      "DEBUG:root: Greenbelt =  2 geonames [..]\n",
      "DEBUG:urllib3.connectionpool:\"GET /fulltext?format=json&q=MD&suggest=true HTTP/1.1\" 200 None\n",
      "DEBUG:root:        MD =  10 geonames [..=..]\n"
     ]
    },
    {
     "name": "stdout",
     "output_type": "stream",
     "text": [
      " Greenbelt\n",
      " : MD\n",
      "152 7\n",
      "Greenbelt MD"
     ]
    },
    {
     "name": "stderr",
     "output_type": "stream",
     "text": [
      "DEBUG:urllib3.connectionpool:\"GET /search?q=Greenbelt+MD&orderBy=relevance&style=FULL&username=humph&type=json&fuzzy=0.8&maxRows=5 HTTP/1.1\" 200 None\n",
      "DEBUG:urllib3.connectionpool:\"GET /rest/annotate?support=20&text=Greenbelt+MD&confidence=0.2 HTTP/1.1\" 200 None\n",
      "DEBUG:urllib3.connectionpool:\"GET /data/Greenbelt,_Maryland.json HTTP/1.1\" 200 37143\n",
      "DEBUG:urllib3.connectionpool:\"GET /data/Maryland.json HTTP/1.1\" 200 1091393\n",
      "DEBUG:root:   Message =  2 resources [.#]\n",
      "DEBUG:root:  LocField =  0 geonames []\n",
      "DEBUG:urllib3.connectionpool:\"GET /fulltext?format=json&q=Greenbelt+MD&suggest=true HTTP/1.1\" 200 None\n",
      "DEBUG:root:Greenbelt MD =  0 geonames []\n"
     ]
    },
    {
     "name": "stdout",
     "output_type": "stream",
     "text": [
      "\n",
      " :"
     ]
    },
    {
     "name": "stderr",
     "output_type": "stream",
     "text": [
      "DEBUG:urllib3.connectionpool:\"GET /fulltext?format=json&q=Greenbelt&suggest=true HTTP/1.1\" 200 None\n",
      "DEBUG:root: Greenbelt =  2 geonames [..]\n",
      "DEBUG:urllib3.connectionpool:\"GET /fulltext?format=json&q=MD&suggest=true HTTP/1.1\" 200 None\n",
      "DEBUG:root:        MD =  10 geonames [..=..]\n"
     ]
    },
    {
     "name": "stdout",
     "output_type": "stream",
     "text": [
      " Greenbelt\n",
      " : MD\n",
      "152"
     ]
    },
    {
     "name": "stderr",
     "output_type": "stream",
     "text": [
      "DEBUG:urllib3.connectionpool:\"GET /search?q=Greenbelt+MD&orderBy=relevance&style=FULL&username=humph&type=json&fuzzy=0.8&maxRows=5 HTTP/1.1\" 200 None\n",
      "DEBUG:urllib3.connectionpool:\"GET /rest/annotate?support=20&text=Greenbelt+MD&confidence=0.2 HTTP/1.1\" 200 None\n",
      "DEBUG:urllib3.connectionpool:\"GET /data/Greenbelt,_Maryland.json HTTP/1.1\" 200 37143\n",
      "DEBUG:urllib3.connectionpool:\"GET /data/Maryland.json HTTP/1.1\" 200 1091393\n",
      "DEBUG:root:   Message =  2 resources [.#]\n",
      "DEBUG:root:  LocField =  0 geonames []\n",
      "DEBUG:urllib3.connectionpool:\"GET /fulltext?format=json&q=Greenbelt+MD&suggest=true HTTP/1.1\" 200 None\n",
      "DEBUG:root:Greenbelt MD =  0 geonames []\n"
     ]
    },
    {
     "name": "stdout",
     "output_type": "stream",
     "text": [
      " 7\n",
      "Greenbelt MD\n",
      " :"
     ]
    },
    {
     "name": "stderr",
     "output_type": "stream",
     "text": [
      "DEBUG:urllib3.connectionpool:\"GET /fulltext?format=json&q=Greenbelt&suggest=true HTTP/1.1\" 200 None\n",
      "DEBUG:root: Greenbelt =  2 geonames [..]\n",
      "DEBUG:urllib3.connectionpool:\"GET /fulltext?format=json&q=MD&suggest=true HTTP/1.1\" 200 None\n",
      "DEBUG:root:        MD =  10 geonames [..=..]\n"
     ]
    },
    {
     "name": "stdout",
     "output_type": "stream",
     "text": [
      " Greenbelt\n",
      " : MD\n",
      "152 7\n",
      "Greenbelt MD"
     ]
    },
    {
     "name": "stderr",
     "output_type": "stream",
     "text": [
      "DEBUG:urllib3.connectionpool:\"GET /search?q=Greenbelt+MD&orderBy=relevance&style=FULL&username=humph&type=json&fuzzy=0.8&maxRows=5 HTTP/1.1\" 200 None\n",
      "DEBUG:urllib3.connectionpool:\"GET /rest/annotate?support=20&text=Greenbelt+MD&confidence=0.2 HTTP/1.1\" 200 None\n",
      "DEBUG:urllib3.connectionpool:\"GET /data/Greenbelt,_Maryland.json HTTP/1.1\" 200 37143\n",
      "DEBUG:urllib3.connectionpool:\"GET /data/Maryland.json HTTP/1.1\" 200 1091393\n",
      "DEBUG:root:   Message =  2 resources [.#]\n",
      "DEBUG:root:  LocField =  0 geonames []\n",
      "DEBUG:urllib3.connectionpool:\"GET /fulltext?format=json&q=Greenbelt+MD&suggest=true HTTP/1.1\" 200 None\n",
      "DEBUG:root:Greenbelt MD =  0 geonames []\n"
     ]
    },
    {
     "name": "stdout",
     "output_type": "stream",
     "text": [
      "\n",
      " :"
     ]
    },
    {
     "name": "stderr",
     "output_type": "stream",
     "text": [
      "DEBUG:urllib3.connectionpool:\"GET /fulltext?format=json&q=Greenbelt&suggest=true HTTP/1.1\" 200 None\n",
      "DEBUG:root: Greenbelt =  2 geonames [..]\n",
      "DEBUG:urllib3.connectionpool:\"GET /fulltext?format=json&q=MD&suggest=true HTTP/1.1\" 200 None\n",
      "DEBUG:root:        MD =  10 geonames [..=..]\n"
     ]
    },
    {
     "name": "stdout",
     "output_type": "stream",
     "text": [
      " Greenbelt\n",
      " : MD\n",
      "152 7\n",
      "Greenbelt MD"
     ]
    },
    {
     "name": "stderr",
     "output_type": "stream",
     "text": [
      "DEBUG:urllib3.connectionpool:\"GET /search?q=Greenbelt+MD&orderBy=relevance&style=FULL&username=humph&type=json&fuzzy=0.8&maxRows=5 HTTP/1.1\" 200 None\n",
      "DEBUG:urllib3.connectionpool:\"GET /rest/annotate?support=20&text=Greenbelt+MD&confidence=0.2 HTTP/1.1\" 200 None\n",
      "DEBUG:urllib3.connectionpool:\"GET /data/Greenbelt,_Maryland.json HTTP/1.1\" 200 37143\n",
      "DEBUG:urllib3.connectionpool:\"GET /data/Maryland.json HTTP/1.1\" 200 1091393\n",
      "DEBUG:root:   Message =  2 resources [.#]\n",
      "DEBUG:root:  LocField =  0 geonames []\n",
      "DEBUG:urllib3.connectionpool:\"GET /fulltext?format=json&q=Greenbelt+MD&suggest=true HTTP/1.1\" 200 None\n",
      "DEBUG:root:Greenbelt MD =  0 geonames []\n"
     ]
    },
    {
     "name": "stdout",
     "output_type": "stream",
     "text": [
      "\n",
      " :"
     ]
    },
    {
     "name": "stderr",
     "output_type": "stream",
     "text": [
      "DEBUG:urllib3.connectionpool:\"GET /fulltext?format=json&q=Greenbelt&suggest=true HTTP/1.1\" 200 None\n",
      "DEBUG:root: Greenbelt =  2 geonames [..]\n",
      "DEBUG:urllib3.connectionpool:\"GET /fulltext?format=json&q=MD&suggest=true HTTP/1.1\" 200 None\n",
      "DEBUG:root:        MD =  10 geonames [..=..]\n"
     ]
    },
    {
     "name": "stdout",
     "output_type": "stream",
     "text": [
      " Greenbelt\n",
      " : MD\n",
      "152 7\n",
      "Greenbelt MD"
     ]
    },
    {
     "name": "stderr",
     "output_type": "stream",
     "text": [
      "DEBUG:urllib3.connectionpool:\"GET /search?q=Greenbelt+MD&orderBy=relevance&style=FULL&username=humph&type=json&fuzzy=0.8&maxRows=5 HTTP/1.1\" 200 None\n",
      "DEBUG:urllib3.connectionpool:\"GET /rest/annotate?support=20&text=Greenbelt+MD&confidence=0.2 HTTP/1.1\" 200 None\n",
      "DEBUG:urllib3.connectionpool:\"GET /data/Greenbelt,_Maryland.json HTTP/1.1\" 200 37143\n",
      "DEBUG:urllib3.connectionpool:\"GET /data/Maryland.json HTTP/1.1\" 200 1091393\n",
      "DEBUG:root:   Message =  2 resources [.#]\n",
      "DEBUG:root:  LocField =  0 geonames []\n",
      "DEBUG:urllib3.connectionpool:\"GET /fulltext?format=json&q=Greenbelt+MD&suggest=true HTTP/1.1\" 200 None\n",
      "DEBUG:root:Greenbelt MD =  0 geonames []\n"
     ]
    },
    {
     "name": "stdout",
     "output_type": "stream",
     "text": [
      "\n",
      " :"
     ]
    },
    {
     "name": "stderr",
     "output_type": "stream",
     "text": [
      "DEBUG:urllib3.connectionpool:\"GET /fulltext?format=json&q=Greenbelt&suggest=true HTTP/1.1\" 200 None\n",
      "DEBUG:root: Greenbelt =  2 geonames [..]\n",
      "DEBUG:urllib3.connectionpool:\"GET /fulltext?format=json&q=MD&suggest=true HTTP/1.1\" 200 None\n",
      "DEBUG:root:        MD =  10 geonames [..=..]\n"
     ]
    },
    {
     "name": "stdout",
     "output_type": "stream",
     "text": [
      " Greenbelt\n",
      " : MD\n",
      "152 7\n",
      "Greenbelt MD"
     ]
    },
    {
     "name": "stderr",
     "output_type": "stream",
     "text": [
      "DEBUG:urllib3.connectionpool:\"GET /search?q=Greenbelt+MD&orderBy=relevance&style=FULL&username=humph&type=json&fuzzy=0.8&maxRows=5 HTTP/1.1\" 200 None\n",
      "DEBUG:urllib3.connectionpool:\"GET /rest/annotate?support=20&text=Greenbelt+MD&confidence=0.2 HTTP/1.1\" 200 None\n",
      "DEBUG:urllib3.connectionpool:\"GET /data/Greenbelt,_Maryland.json HTTP/1.1\" 200 37143\n",
      "DEBUG:urllib3.connectionpool:\"GET /data/Maryland.json HTTP/1.1\" 200 1091393\n",
      "DEBUG:root:   Message =  2 resources [.#]\n",
      "DEBUG:root:  LocField =  0 geonames []\n",
      "DEBUG:urllib3.connectionpool:\"GET /fulltext?format=json&q=Greenbelt+MD&suggest=true HTTP/1.1\" 200 None\n",
      "DEBUG:root:Greenbelt MD =  0 geonames []\n"
     ]
    },
    {
     "name": "stdout",
     "output_type": "stream",
     "text": [
      "\n",
      " :"
     ]
    },
    {
     "name": "stderr",
     "output_type": "stream",
     "text": [
      "DEBUG:urllib3.connectionpool:\"GET /fulltext?format=json&q=Greenbelt&suggest=true HTTP/1.1\" 200 None\n",
      "DEBUG:root: Greenbelt =  2 geonames [..]\n",
      "DEBUG:urllib3.connectionpool:\"GET /fulltext?format=json&q=MD&suggest=true HTTP/1.1\" 200 None\n",
      "DEBUG:root:        MD =  10 geonames [..=..]\n"
     ]
    },
    {
     "name": "stdout",
     "output_type": "stream",
     "text": [
      " Greenbelt\n",
      " : MD\n",
      "152 7\n",
      "Greenbelt MD"
     ]
    },
    {
     "name": "stderr",
     "output_type": "stream",
     "text": [
      "DEBUG:urllib3.connectionpool:\"GET /search?q=Greenbelt+MD&orderBy=relevance&style=FULL&username=humph&type=json&fuzzy=0.8&maxRows=5 HTTP/1.1\" 200 None\n",
      "DEBUG:urllib3.connectionpool:\"GET /rest/annotate?support=20&text=Greenbelt+MD&confidence=0.2 HTTP/1.1\" 200 None\n",
      "DEBUG:urllib3.connectionpool:\"GET /data/Greenbelt,_Maryland.json HTTP/1.1\" 200 37143\n",
      "DEBUG:urllib3.connectionpool:\"GET /data/Maryland.json HTTP/1.1\" 200 1091393\n",
      "DEBUG:root:   Message =  2 resources [.#]\n",
      "DEBUG:root:  LocField =  0 geonames []\n",
      "DEBUG:urllib3.connectionpool:\"GET /fulltext?format=json&q=Greenbelt+MD&suggest=true HTTP/1.1\" 200 None\n",
      "DEBUG:root:Greenbelt MD =  0 geonames []\n"
     ]
    },
    {
     "name": "stdout",
     "output_type": "stream",
     "text": [
      "\n",
      " :"
     ]
    },
    {
     "name": "stderr",
     "output_type": "stream",
     "text": [
      "DEBUG:urllib3.connectionpool:\"GET /fulltext?format=json&q=Greenbelt&suggest=true HTTP/1.1\" 200 None\n",
      "DEBUG:root: Greenbelt =  2 geonames [..]\n",
      "DEBUG:urllib3.connectionpool:\"GET /fulltext?format=json&q=MD&suggest=true HTTP/1.1\" 200 None\n",
      "DEBUG:root:        MD =  10 geonames [..=..]\n"
     ]
    },
    {
     "name": "stdout",
     "output_type": "stream",
     "text": [
      " Greenbelt\n",
      " : MD\n",
      "152 7\n",
      "Greenbelt MD"
     ]
    },
    {
     "name": "stderr",
     "output_type": "stream",
     "text": [
      "DEBUG:urllib3.connectionpool:\"GET /search?q=Greenbelt+MD&orderBy=relevance&style=FULL&username=humph&type=json&fuzzy=0.8&maxRows=5 HTTP/1.1\" 200 None\n",
      "DEBUG:urllib3.connectionpool:\"GET /rest/annotate?support=20&text=Greenbelt+MD&confidence=0.2 HTTP/1.1\" 200 None\n",
      "DEBUG:urllib3.connectionpool:\"GET /data/Greenbelt,_Maryland.json HTTP/1.1\" 200 37143\n",
      "DEBUG:urllib3.connectionpool:\"GET /data/Maryland.json HTTP/1.1\" 200 1091393\n",
      "DEBUG:root:   Message =  2 resources [.#]\n",
      "DEBUG:root:  LocField =  0 geonames []\n",
      "DEBUG:urllib3.connectionpool:\"GET /fulltext?format=json&q=Greenbelt+MD&suggest=true HTTP/1.1\" 200 None\n",
      "DEBUG:root:Greenbelt MD =  0 geonames []\n"
     ]
    },
    {
     "name": "stdout",
     "output_type": "stream",
     "text": [
      "\n",
      " :"
     ]
    },
    {
     "name": "stderr",
     "output_type": "stream",
     "text": [
      "DEBUG:urllib3.connectionpool:\"GET /fulltext?format=json&q=Greenbelt&suggest=true HTTP/1.1\" 200 None\n",
      "DEBUG:root: Greenbelt =  2 geonames [..]\n",
      "DEBUG:urllib3.connectionpool:\"GET /fulltext?format=json&q=MD&suggest=true HTTP/1.1\" 200 None\n",
      "DEBUG:root:        MD =  10 geonames [..=..]\n"
     ]
    },
    {
     "name": "stdout",
     "output_type": "stream",
     "text": [
      " Greenbelt\n",
      " : MD\n",
      "152 7\n",
      "Greenbelt MD"
     ]
    },
    {
     "name": "stderr",
     "output_type": "stream",
     "text": [
      "DEBUG:urllib3.connectionpool:\"GET /search?q=Greenbelt+MD&orderBy=relevance&style=FULL&username=humph&type=json&fuzzy=0.8&maxRows=5 HTTP/1.1\" 200 None\n",
      "DEBUG:urllib3.connectionpool:\"GET /rest/annotate?support=20&text=Greenbelt+MD&confidence=0.2 HTTP/1.1\" 200 None\n",
      "DEBUG:urllib3.connectionpool:\"GET /data/Greenbelt,_Maryland.json HTTP/1.1\" 200 37143\n",
      "DEBUG:urllib3.connectionpool:\"GET /data/Maryland.json HTTP/1.1\" 200 1091393\n",
      "DEBUG:root:   Message =  2 resources [.#]\n",
      "DEBUG:root:  LocField =  0 geonames []\n",
      "DEBUG:urllib3.connectionpool:\"GET /fulltext?format=json&q=Greenbelt+MD&suggest=true HTTP/1.1\" 200 None\n",
      "DEBUG:root:Greenbelt MD =  0 geonames []\n"
     ]
    },
    {
     "name": "stdout",
     "output_type": "stream",
     "text": [
      "\n",
      " :"
     ]
    },
    {
     "name": "stderr",
     "output_type": "stream",
     "text": [
      "DEBUG:urllib3.connectionpool:\"GET /fulltext?format=json&q=Greenbelt&suggest=true HTTP/1.1\" 200 None\n",
      "DEBUG:root: Greenbelt =  2 geonames [..]\n",
      "DEBUG:urllib3.connectionpool:\"GET /fulltext?format=json&q=MD&suggest=true HTTP/1.1\" 200 None\n",
      "DEBUG:root:        MD =  10 geonames [..=..]\n"
     ]
    },
    {
     "name": "stdout",
     "output_type": "stream",
     "text": [
      " Greenbelt\n",
      " : MD\n",
      "152 7\n",
      "Greenbelt MD"
     ]
    },
    {
     "name": "stderr",
     "output_type": "stream",
     "text": [
      "DEBUG:urllib3.connectionpool:\"GET /search?q=Greenbelt+MD&orderBy=relevance&style=FULL&username=humph&type=json&fuzzy=0.8&maxRows=5 HTTP/1.1\" 200 None\n",
      "DEBUG:urllib3.connectionpool:\"GET /rest/annotate?support=20&text=Greenbelt+MD&confidence=0.2 HTTP/1.1\" 200 None\n",
      "DEBUG:urllib3.connectionpool:\"GET /data/Greenbelt,_Maryland.json HTTP/1.1\" 200 37143\n",
      "DEBUG:urllib3.connectionpool:\"GET /data/Maryland.json HTTP/1.1\" 200 1091393\n",
      "DEBUG:root:   Message =  2 resources [.#]\n",
      "DEBUG:root:  LocField =  0 geonames []\n",
      "DEBUG:urllib3.connectionpool:\"GET /fulltext?format=json&q=Greenbelt+MD&suggest=true HTTP/1.1\" 200 None\n",
      "DEBUG:root:Greenbelt MD =  0 geonames []\n"
     ]
    },
    {
     "name": "stdout",
     "output_type": "stream",
     "text": [
      "\n",
      " :"
     ]
    },
    {
     "name": "stderr",
     "output_type": "stream",
     "text": [
      "DEBUG:urllib3.connectionpool:\"GET /fulltext?format=json&q=Greenbelt&suggest=true HTTP/1.1\" 200 None\n",
      "DEBUG:root: Greenbelt =  2 geonames [..]\n",
      "DEBUG:urllib3.connectionpool:\"GET /fulltext?format=json&q=MD&suggest=true HTTP/1.1\" 200 None\n",
      "DEBUG:root:        MD =  10 geonames [..=..]\n"
     ]
    },
    {
     "name": "stdout",
     "output_type": "stream",
     "text": [
      " Greenbelt\n",
      " : MD\n",
      "152 7\n",
      "Greenbelt MD"
     ]
    },
    {
     "name": "stderr",
     "output_type": "stream",
     "text": [
      "DEBUG:urllib3.connectionpool:\"GET /search?q=Greenbelt+MD&orderBy=relevance&style=FULL&username=humph&type=json&fuzzy=0.8&maxRows=5 HTTP/1.1\" 200 None\n",
      "DEBUG:urllib3.connectionpool:\"GET /rest/annotate?support=20&text=Greenbelt+MD&confidence=0.2 HTTP/1.1\" 200 None\n",
      "DEBUG:urllib3.connectionpool:\"GET /data/Greenbelt,_Maryland.json HTTP/1.1\" 200 37143\n",
      "DEBUG:urllib3.connectionpool:\"GET /data/Maryland.json HTTP/1.1\" 200 1091393\n",
      "DEBUG:root:   Message =  2 resources [.#]\n",
      "DEBUG:root:  LocField =  0 geonames []\n",
      "DEBUG:urllib3.connectionpool:\"GET /fulltext?format=json&q=Greenbelt+MD&suggest=true HTTP/1.1\" 200 None\n",
      "DEBUG:root:Greenbelt MD =  0 geonames []\n"
     ]
    },
    {
     "name": "stdout",
     "output_type": "stream",
     "text": [
      "\n",
      " :"
     ]
    },
    {
     "name": "stderr",
     "output_type": "stream",
     "text": [
      "DEBUG:urllib3.connectionpool:\"GET /fulltext?format=json&q=Greenbelt&suggest=true HTTP/1.1\" 200 None\n",
      "DEBUG:root: Greenbelt =  2 geonames [..]\n",
      "DEBUG:urllib3.connectionpool:\"GET /fulltext?format=json&q=MD&suggest=true HTTP/1.1\" 200 None\n",
      "DEBUG:root:        MD =  10 geonames [..=..]\n"
     ]
    },
    {
     "name": "stdout",
     "output_type": "stream",
     "text": [
      " Greenbelt\n",
      " : MD\n",
      "152 7\n",
      "Greenbelt MD"
     ]
    },
    {
     "name": "stderr",
     "output_type": "stream",
     "text": [
      "DEBUG:urllib3.connectionpool:\"GET /search?q=Greenbelt+MD&orderBy=relevance&style=FULL&username=humph&type=json&fuzzy=0.8&maxRows=5 HTTP/1.1\" 200 None\n",
      "DEBUG:urllib3.connectionpool:\"GET /rest/annotate?support=20&text=Greenbelt+MD&confidence=0.2 HTTP/1.1\" 200 None\n",
      "DEBUG:urllib3.connectionpool:\"GET /data/Greenbelt,_Maryland.json HTTP/1.1\" 200 37143\n",
      "DEBUG:urllib3.connectionpool:\"GET /data/Maryland.json HTTP/1.1\" 200 1091393\n",
      "DEBUG:root:   Message =  2 resources [.#]\n",
      "DEBUG:root:  LocField =  0 geonames []\n",
      "DEBUG:urllib3.connectionpool:\"GET /fulltext?format=json&q=Greenbelt+MD&suggest=true HTTP/1.1\" 200 None\n",
      "DEBUG:root:Greenbelt MD =  0 geonames []\n"
     ]
    },
    {
     "name": "stdout",
     "output_type": "stream",
     "text": [
      "\n",
      " :"
     ]
    },
    {
     "name": "stderr",
     "output_type": "stream",
     "text": [
      "DEBUG:urllib3.connectionpool:\"GET /fulltext?format=json&q=Greenbelt&suggest=true HTTP/1.1\" 200 None\n",
      "DEBUG:root: Greenbelt =  2 geonames [..]\n",
      "DEBUG:urllib3.connectionpool:\"GET /fulltext?format=json&q=MD&suggest=true HTTP/1.1\" 200 None\n",
      "DEBUG:root:        MD =  10 geonames [..=..]\n"
     ]
    },
    {
     "name": "stdout",
     "output_type": "stream",
     "text": [
      " Greenbelt\n",
      " : MD\n",
      "152"
     ]
    },
    {
     "name": "stderr",
     "output_type": "stream",
     "text": [
      "DEBUG:urllib3.connectionpool:\"GET /search?q=Greenbelt+MD&orderBy=relevance&style=FULL&username=humph&type=json&fuzzy=0.8&maxRows=5 HTTP/1.1\" 200 None\n",
      "DEBUG:urllib3.connectionpool:\"GET /rest/annotate?support=20&text=Greenbelt+MD&confidence=0.2 HTTP/1.1\" 200 None\n",
      "DEBUG:urllib3.connectionpool:\"GET /data/Greenbelt,_Maryland.json HTTP/1.1\" 200 37143\n",
      "DEBUG:urllib3.connectionpool:\"GET /data/Maryland.json HTTP/1.1\" 200 1091393\n",
      "DEBUG:root:   Message =  2 resources [.#]\n",
      "DEBUG:root:  LocField =  0 geonames []\n",
      "DEBUG:urllib3.connectionpool:\"GET /fulltext?format=json&q=Greenbelt+MD&suggest=true HTTP/1.1\" 200 None\n",
      "DEBUG:root:Greenbelt MD =  0 geonames []\n"
     ]
    },
    {
     "name": "stdout",
     "output_type": "stream",
     "text": [
      " 7\n",
      "Greenbelt MD\n",
      " :"
     ]
    },
    {
     "name": "stderr",
     "output_type": "stream",
     "text": [
      "DEBUG:urllib3.connectionpool:\"GET /fulltext?format=json&q=Greenbelt&suggest=true HTTP/1.1\" 200 None\n",
      "DEBUG:root: Greenbelt =  2 geonames [..]\n",
      "DEBUG:urllib3.connectionpool:\"GET /fulltext?format=json&q=MD&suggest=true HTTP/1.1\" 200 None\n",
      "DEBUG:root:        MD =  10 geonames [..=..]\n"
     ]
    },
    {
     "name": "stdout",
     "output_type": "stream",
     "text": [
      " Greenbelt\n",
      " : MD\n",
      "152 7\n",
      "Greenbelt MD"
     ]
    },
    {
     "name": "stderr",
     "output_type": "stream",
     "text": [
      "DEBUG:urllib3.connectionpool:\"GET /search?q=Greenbelt+MD&orderBy=relevance&style=FULL&username=humph&type=json&fuzzy=0.8&maxRows=5 HTTP/1.1\" 200 None\n",
      "DEBUG:urllib3.connectionpool:\"GET /rest/annotate?support=20&text=Greenbelt+MD&confidence=0.2 HTTP/1.1\" 200 None\n",
      "DEBUG:urllib3.connectionpool:\"GET /data/Greenbelt,_Maryland.json HTTP/1.1\" 200 37143\n",
      "DEBUG:urllib3.connectionpool:\"GET /data/Maryland.json HTTP/1.1\" 200 1091393\n",
      "DEBUG:root:   Message =  2 resources [.#]\n",
      "DEBUG:root:  LocField =  0 geonames []\n",
      "DEBUG:urllib3.connectionpool:\"GET /fulltext?format=json&q=Greenbelt+MD&suggest=true HTTP/1.1\" 200 None\n",
      "DEBUG:root:Greenbelt MD =  0 geonames []\n"
     ]
    },
    {
     "name": "stdout",
     "output_type": "stream",
     "text": [
      "\n",
      " :"
     ]
    },
    {
     "name": "stderr",
     "output_type": "stream",
     "text": [
      "DEBUG:urllib3.connectionpool:\"GET /fulltext?format=json&q=Greenbelt&suggest=true HTTP/1.1\" 200 None\n",
      "DEBUG:root: Greenbelt =  2 geonames [..]\n",
      "DEBUG:urllib3.connectionpool:\"GET /fulltext?format=json&q=MD&suggest=true HTTP/1.1\" 200 None\n",
      "DEBUG:root:        MD =  10 geonames [..=..]\n"
     ]
    },
    {
     "name": "stdout",
     "output_type": "stream",
     "text": [
      " Greenbelt\n",
      " : MD\n",
      "152"
     ]
    },
    {
     "name": "stderr",
     "output_type": "stream",
     "text": [
      "DEBUG:urllib3.connectionpool:\"GET /search?q=Greenbelt+MD&orderBy=relevance&style=FULL&username=humph&type=json&fuzzy=0.8&maxRows=5 HTTP/1.1\" 200 None\n",
      "DEBUG:urllib3.connectionpool:\"GET /rest/annotate?support=20&text=Greenbelt+MD&confidence=0.2 HTTP/1.1\" 200 None\n",
      "DEBUG:urllib3.connectionpool:\"GET /data/Greenbelt,_Maryland.json HTTP/1.1\" 200 37143\n",
      "DEBUG:urllib3.connectionpool:\"GET /data/Maryland.json HTTP/1.1\" 200 1091393\n",
      "DEBUG:root:   Message =  2 resources [.#]\n",
      "DEBUG:root:  LocField =  0 geonames []\n",
      "DEBUG:urllib3.connectionpool:\"GET /fulltext?format=json&q=Greenbelt+MD&suggest=true HTTP/1.1\" 200 None\n",
      "DEBUG:root:Greenbelt MD =  0 geonames []\n"
     ]
    },
    {
     "name": "stdout",
     "output_type": "stream",
     "text": [
      " 7\n",
      "Greenbelt MD\n",
      " :"
     ]
    },
    {
     "name": "stderr",
     "output_type": "stream",
     "text": [
      "DEBUG:urllib3.connectionpool:\"GET /fulltext?format=json&q=Greenbelt&suggest=true HTTP/1.1\" 200 None\n",
      "DEBUG:root: Greenbelt =  2 geonames [..]\n",
      "DEBUG:urllib3.connectionpool:\"GET /fulltext?format=json&q=MD&suggest=true HTTP/1.1\" 200 None\n",
      "DEBUG:root:        MD =  10 geonames [..=..]\n"
     ]
    },
    {
     "name": "stdout",
     "output_type": "stream",
     "text": [
      " Greenbelt\n",
      " : MD\n",
      "152 7\n",
      "Greenbelt MD"
     ]
    },
    {
     "name": "stderr",
     "output_type": "stream",
     "text": [
      "DEBUG:urllib3.connectionpool:\"GET /search?q=Greenbelt+MD&orderBy=relevance&style=FULL&username=humph&type=json&fuzzy=0.8&maxRows=5 HTTP/1.1\" 200 None\n",
      "DEBUG:urllib3.connectionpool:\"GET /rest/annotate?support=20&text=Greenbelt+MD&confidence=0.2 HTTP/1.1\" 200 None\n",
      "DEBUG:urllib3.connectionpool:\"GET /data/Greenbelt,_Maryland.json HTTP/1.1\" 200 37143\n",
      "DEBUG:urllib3.connectionpool:\"GET /data/Maryland.json HTTP/1.1\" 200 1091393\n",
      "DEBUG:root:   Message =  2 resources [.#]\n",
      "DEBUG:root:  LocField =  0 geonames []\n",
      "DEBUG:urllib3.connectionpool:\"GET /fulltext?format=json&q=Greenbelt+MD&suggest=true HTTP/1.1\" 200 None\n",
      "DEBUG:root:Greenbelt MD =  0 geonames []\n"
     ]
    },
    {
     "name": "stdout",
     "output_type": "stream",
     "text": [
      "\n",
      " :"
     ]
    },
    {
     "name": "stderr",
     "output_type": "stream",
     "text": [
      "DEBUG:urllib3.connectionpool:\"GET /fulltext?format=json&q=Greenbelt&suggest=true HTTP/1.1\" 200 None\n",
      "DEBUG:root: Greenbelt =  2 geonames [..]\n",
      "DEBUG:urllib3.connectionpool:\"GET /fulltext?format=json&q=MD&suggest=true HTTP/1.1\" 200 None\n",
      "DEBUG:root:        MD =  10 geonames [..=..]\n"
     ]
    },
    {
     "name": "stdout",
     "output_type": "stream",
     "text": [
      " Greenbelt\n",
      " : MD\n",
      "152"
     ]
    },
    {
     "name": "stderr",
     "output_type": "stream",
     "text": [
      "DEBUG:urllib3.connectionpool:\"GET /search?q=Greenbelt+MD&orderBy=relevance&style=FULL&username=humph&type=json&fuzzy=0.8&maxRows=5 HTTP/1.1\" 200 None\n",
      "DEBUG:urllib3.connectionpool:\"GET /rest/annotate?support=20&text=Greenbelt+MD&confidence=0.2 HTTP/1.1\" 200 None\n",
      "DEBUG:urllib3.connectionpool:\"GET /data/Greenbelt,_Maryland.json HTTP/1.1\" 200 37143\n",
      "DEBUG:urllib3.connectionpool:\"GET /data/Maryland.json HTTP/1.1\" 200 1091393\n",
      "DEBUG:root:   Message =  2 resources [.#]\n",
      "DEBUG:root:  LocField =  0 geonames []\n",
      "DEBUG:urllib3.connectionpool:\"GET /fulltext?format=json&q=Greenbelt+MD&suggest=true HTTP/1.1\" 200 None\n",
      "DEBUG:root:Greenbelt MD =  0 geonames []\n"
     ]
    },
    {
     "name": "stdout",
     "output_type": "stream",
     "text": [
      " 7\n",
      "Greenbelt MD\n",
      " :"
     ]
    },
    {
     "name": "stderr",
     "output_type": "stream",
     "text": [
      "DEBUG:urllib3.connectionpool:\"GET /fulltext?format=json&q=Greenbelt&suggest=true HTTP/1.1\" 200 None\n",
      "DEBUG:root: Greenbelt =  2 geonames [..]\n",
      "DEBUG:urllib3.connectionpool:\"GET /fulltext?format=json&q=MD&suggest=true HTTP/1.1\" 200 None\n",
      "DEBUG:root:        MD =  10 geonames [..=..]\n"
     ]
    },
    {
     "name": "stdout",
     "output_type": "stream",
     "text": [
      " Greenbelt\n",
      " : MD\n",
      "152 7\n",
      "Greenbelt MD"
     ]
    },
    {
     "name": "stderr",
     "output_type": "stream",
     "text": [
      "DEBUG:urllib3.connectionpool:\"GET /search?q=Greenbelt+MD&orderBy=relevance&style=FULL&username=humph&type=json&fuzzy=0.8&maxRows=5 HTTP/1.1\" 200 None\n",
      "DEBUG:urllib3.connectionpool:\"GET /rest/annotate?support=20&text=Greenbelt+MD&confidence=0.2 HTTP/1.1\" 200 None\n",
      "DEBUG:urllib3.connectionpool:\"GET /data/Greenbelt,_Maryland.json HTTP/1.1\" 200 37143\n",
      "DEBUG:urllib3.connectionpool:\"GET /data/Maryland.json HTTP/1.1\" 200 1091393\n",
      "DEBUG:root:   Message =  2 resources [.#]\n",
      "DEBUG:root:  LocField =  0 geonames []\n",
      "DEBUG:urllib3.connectionpool:\"GET /fulltext?format=json&q=Greenbelt+MD&suggest=true HTTP/1.1\" 200 None\n",
      "DEBUG:root:Greenbelt MD =  0 geonames []\n"
     ]
    },
    {
     "name": "stdout",
     "output_type": "stream",
     "text": [
      "\n",
      " :"
     ]
    },
    {
     "name": "stderr",
     "output_type": "stream",
     "text": [
      "DEBUG:urllib3.connectionpool:\"GET /fulltext?format=json&q=Greenbelt&suggest=true HTTP/1.1\" 200 None\n",
      "DEBUG:root: Greenbelt =  2 geonames [..]\n",
      "DEBUG:urllib3.connectionpool:\"GET /fulltext?format=json&q=MD&suggest=true HTTP/1.1\" 200 None\n",
      "DEBUG:root:        MD =  10 geonames [..=..]\n"
     ]
    },
    {
     "name": "stdout",
     "output_type": "stream",
     "text": [
      " Greenbelt\n",
      " : MD\n",
      "152"
     ]
    },
    {
     "name": "stderr",
     "output_type": "stream",
     "text": [
      "DEBUG:urllib3.connectionpool:\"GET /search?q=Greenbelt+MD&orderBy=relevance&style=FULL&username=humph&type=json&fuzzy=0.8&maxRows=5 HTTP/1.1\" 200 None\n",
      "DEBUG:urllib3.connectionpool:\"GET /rest/annotate?support=20&text=Greenbelt+MD&confidence=0.2 HTTP/1.1\" 200 None\n",
      "DEBUG:urllib3.connectionpool:\"GET /data/Greenbelt,_Maryland.json HTTP/1.1\" 200 37143\n",
      "DEBUG:urllib3.connectionpool:\"GET /data/Maryland.json HTTP/1.1\" 200 1091393\n",
      "DEBUG:root:   Message =  2 resources [.#]\n",
      "DEBUG:root:  LocField =  0 geonames []\n",
      "DEBUG:urllib3.connectionpool:\"GET /fulltext?format=json&q=Greenbelt+MD&suggest=true HTTP/1.1\" 200 None\n",
      "DEBUG:root:Greenbelt MD =  0 geonames []\n"
     ]
    },
    {
     "name": "stdout",
     "output_type": "stream",
     "text": [
      " 7\n",
      "Greenbelt MD\n",
      " :"
     ]
    },
    {
     "name": "stderr",
     "output_type": "stream",
     "text": [
      "DEBUG:urllib3.connectionpool:\"GET /fulltext?format=json&q=Greenbelt&suggest=true HTTP/1.1\" 200 None\n",
      "DEBUG:root: Greenbelt =  2 geonames [..]\n",
      "DEBUG:urllib3.connectionpool:\"GET /fulltext?format=json&q=MD&suggest=true HTTP/1.1\" 200 None\n",
      "DEBUG:root:        MD =  10 geonames [..=..]\n"
     ]
    },
    {
     "name": "stdout",
     "output_type": "stream",
     "text": [
      " Greenbelt\n",
      " : MD\n",
      "152"
     ]
    },
    {
     "name": "stderr",
     "output_type": "stream",
     "text": [
      "DEBUG:urllib3.connectionpool:\"GET /search?q=Greenbelt+MD&orderBy=relevance&style=FULL&username=humph&type=json&fuzzy=0.8&maxRows=5 HTTP/1.1\" 200 None\n",
      "DEBUG:urllib3.connectionpool:\"GET /rest/annotate?support=20&text=Greenbelt+MD&confidence=0.2 HTTP/1.1\" 200 None\n",
      "DEBUG:urllib3.connectionpool:\"GET /data/Greenbelt,_Maryland.json HTTP/1.1\" 200 37143\n",
      "DEBUG:urllib3.connectionpool:\"GET /data/Maryland.json HTTP/1.1\" 200 1091393\n",
      "DEBUG:root:   Message =  2 resources [.#]\n",
      "DEBUG:root:  LocField =  0 geonames []\n",
      "DEBUG:urllib3.connectionpool:\"GET /fulltext?format=json&q=Greenbelt+MD&suggest=true HTTP/1.1\" 200 None\n",
      "DEBUG:root:Greenbelt MD =  0 geonames []\n"
     ]
    },
    {
     "name": "stdout",
     "output_type": "stream",
     "text": [
      " 7\n",
      "Greenbelt MD\n",
      " :"
     ]
    },
    {
     "name": "stderr",
     "output_type": "stream",
     "text": [
      "DEBUG:urllib3.connectionpool:\"GET /fulltext?format=json&q=Greenbelt&suggest=true HTTP/1.1\" 200 None\n",
      "DEBUG:root: Greenbelt =  2 geonames [..]\n",
      "DEBUG:urllib3.connectionpool:\"GET /fulltext?format=json&q=MD&suggest=true HTTP/1.1\" 200 None\n",
      "DEBUG:root:        MD =  10 geonames [..=..]\n"
     ]
    },
    {
     "name": "stdout",
     "output_type": "stream",
     "text": [
      " Greenbelt\n",
      " : MD\n",
      "152 7\n",
      "Greenbelt MD"
     ]
    },
    {
     "name": "stderr",
     "output_type": "stream",
     "text": [
      "DEBUG:urllib3.connectionpool:\"GET /search?q=Greenbelt+MD&orderBy=relevance&style=FULL&username=humph&type=json&fuzzy=0.8&maxRows=5 HTTP/1.1\" 200 None\n",
      "DEBUG:urllib3.connectionpool:\"GET /rest/annotate?support=20&text=Greenbelt+MD&confidence=0.2 HTTP/1.1\" 200 None\n",
      "DEBUG:urllib3.connectionpool:\"GET /data/Greenbelt,_Maryland.json HTTP/1.1\" 200 37143\n",
      "DEBUG:urllib3.connectionpool:\"GET /data/Maryland.json HTTP/1.1\" 200 1091393\n",
      "DEBUG:root:   Message =  2 resources [.#]\n",
      "DEBUG:root:  LocField =  0 geonames []\n",
      "DEBUG:urllib3.connectionpool:\"GET /fulltext?format=json&q=Greenbelt+MD&suggest=true HTTP/1.1\" 200 None\n",
      "DEBUG:root:Greenbelt MD =  0 geonames []\n"
     ]
    },
    {
     "name": "stdout",
     "output_type": "stream",
     "text": [
      "\n",
      " :"
     ]
    },
    {
     "name": "stderr",
     "output_type": "stream",
     "text": [
      "DEBUG:urllib3.connectionpool:\"GET /fulltext?format=json&q=Greenbelt&suggest=true HTTP/1.1\" 200 None\n",
      "DEBUG:root: Greenbelt =  2 geonames [..]\n",
      "DEBUG:urllib3.connectionpool:\"GET /fulltext?format=json&q=MD&suggest=true HTTP/1.1\" 200 None\n",
      "DEBUG:root:        MD =  10 geonames [..=..]\n"
     ]
    },
    {
     "name": "stdout",
     "output_type": "stream",
     "text": [
      " Greenbelt\n",
      " : MD\n",
      "152 7\n",
      "Greenbelt MD"
     ]
    },
    {
     "name": "stderr",
     "output_type": "stream",
     "text": [
      "DEBUG:urllib3.connectionpool:\"GET /search?q=Greenbelt+MD&orderBy=relevance&style=FULL&username=humph&type=json&fuzzy=0.8&maxRows=5 HTTP/1.1\" 200 None\n",
      "DEBUG:urllib3.connectionpool:\"GET /rest/annotate?support=20&text=Greenbelt+MD&confidence=0.2 HTTP/1.1\" 200 None\n",
      "DEBUG:urllib3.connectionpool:\"GET /data/Greenbelt,_Maryland.json HTTP/1.1\" 200 37143\n",
      "DEBUG:urllib3.connectionpool:\"GET /data/Maryland.json HTTP/1.1\" 200 1091393\n",
      "DEBUG:root:   Message =  2 resources [.#]\n",
      "DEBUG:root:  LocField =  0 geonames []\n",
      "DEBUG:urllib3.connectionpool:\"GET /fulltext?format=json&q=Greenbelt+MD&suggest=true HTTP/1.1\" 200 None\n",
      "DEBUG:root:Greenbelt MD =  0 geonames []\n"
     ]
    },
    {
     "name": "stdout",
     "output_type": "stream",
     "text": [
      "\n",
      " :"
     ]
    },
    {
     "name": "stderr",
     "output_type": "stream",
     "text": [
      "DEBUG:urllib3.connectionpool:\"GET /fulltext?format=json&q=Greenbelt&suggest=true HTTP/1.1\" 200 None\n",
      "DEBUG:root: Greenbelt =  2 geonames [..]\n",
      "DEBUG:urllib3.connectionpool:\"GET /fulltext?format=json&q=MD&suggest=true HTTP/1.1\" 200 None\n",
      "DEBUG:root:        MD =  10 geonames [..=..]\n"
     ]
    },
    {
     "name": "stdout",
     "output_type": "stream",
     "text": [
      " Greenbelt\n",
      " : MD\n",
      "152"
     ]
    },
    {
     "name": "stderr",
     "output_type": "stream",
     "text": [
      "DEBUG:urllib3.connectionpool:\"GET /search?q=Greenbelt+MD&orderBy=relevance&style=FULL&username=humph&type=json&fuzzy=0.8&maxRows=5 HTTP/1.1\" 200 None\n",
      "DEBUG:urllib3.connectionpool:\"GET /rest/annotate?support=20&text=Greenbelt+MD&confidence=0.2 HTTP/1.1\" 200 None\n",
      "DEBUG:urllib3.connectionpool:\"GET /data/Greenbelt,_Maryland.json HTTP/1.1\" 200 37143\n",
      "DEBUG:urllib3.connectionpool:\"GET /data/Maryland.json HTTP/1.1\" 200 1091393\n",
      "DEBUG:root:   Message =  2 resources [.#]\n",
      "DEBUG:root:  LocField =  0 geonames []\n",
      "DEBUG:urllib3.connectionpool:\"GET /fulltext?format=json&q=Greenbelt+MD&suggest=true HTTP/1.1\" 200 None\n",
      "DEBUG:root:Greenbelt MD =  0 geonames []\n"
     ]
    },
    {
     "name": "stdout",
     "output_type": "stream",
     "text": [
      " 7\n",
      "Greenbelt MD\n",
      " :"
     ]
    },
    {
     "name": "stderr",
     "output_type": "stream",
     "text": [
      "DEBUG:urllib3.connectionpool:\"GET /fulltext?format=json&q=Greenbelt&suggest=true HTTP/1.1\" 200 None\n",
      "DEBUG:root: Greenbelt =  2 geonames [..]\n",
      "DEBUG:urllib3.connectionpool:\"GET /fulltext?format=json&q=MD&suggest=true HTTP/1.1\" 200 None\n",
      "DEBUG:root:        MD =  10 geonames [..=..]\n"
     ]
    },
    {
     "name": "stdout",
     "output_type": "stream",
     "text": [
      " Greenbelt\n",
      " : MD\n",
      "152 7\n",
      "Greenbelt MD"
     ]
    },
    {
     "name": "stderr",
     "output_type": "stream",
     "text": [
      "DEBUG:urllib3.connectionpool:\"GET /search?q=Greenbelt+MD&orderBy=relevance&style=FULL&username=humph&type=json&fuzzy=0.8&maxRows=5 HTTP/1.1\" 200 None\n",
      "DEBUG:urllib3.connectionpool:\"GET /rest/annotate?support=20&text=Greenbelt+MD&confidence=0.2 HTTP/1.1\" 200 None\n",
      "DEBUG:urllib3.connectionpool:\"GET /data/Greenbelt,_Maryland.json HTTP/1.1\" 200 37143\n",
      "DEBUG:urllib3.connectionpool:\"GET /data/Maryland.json HTTP/1.1\" 200 1091393\n",
      "DEBUG:root:   Message =  2 resources [.#]\n",
      "DEBUG:root:  LocField =  0 geonames []\n",
      "DEBUG:urllib3.connectionpool:\"GET /fulltext?format=json&q=Greenbelt+MD&suggest=true HTTP/1.1\" 200 None\n",
      "DEBUG:root:Greenbelt MD =  0 geonames []\n"
     ]
    },
    {
     "name": "stdout",
     "output_type": "stream",
     "text": [
      "\n",
      " :"
     ]
    },
    {
     "name": "stderr",
     "output_type": "stream",
     "text": [
      "DEBUG:urllib3.connectionpool:\"GET /fulltext?format=json&q=Greenbelt&suggest=true HTTP/1.1\" 200 None\n",
      "DEBUG:root: Greenbelt =  2 geonames [..]\n"
     ]
    },
    {
     "name": "stdout",
     "output_type": "stream",
     "text": [
      " Greenbelt\n",
      " :"
     ]
    },
    {
     "name": "stderr",
     "output_type": "stream",
     "text": [
      "DEBUG:urllib3.connectionpool:\"GET /fulltext?format=json&q=MD&suggest=true HTTP/1.1\" 200 None\n",
      "DEBUG:root:        MD =  10 geonames [..=..]\n",
      "DEBUG:urllib3.connectionpool:\"GET /search?q=Greenbelt+MD&orderBy=relevance&style=FULL&username=humph&type=json&fuzzy=0.8&maxRows=5 HTTP/1.1\" 200 None\n",
      "DEBUG:urllib3.connectionpool:\"GET /rest/annotate?support=20&text=Greenbelt+MD&confidence=0.2 HTTP/1.1\" 200 None\n",
      "DEBUG:urllib3.connectionpool:\"GET /data/Greenbelt,_Maryland.json HTTP/1.1\" 200 37143\n",
      "DEBUG:urllib3.connectionpool:\"GET /data/Maryland.json HTTP/1.1\" 200 1091393\n",
      "DEBUG:root:   Message =  2 resources [.#]\n",
      "DEBUG:root:  LocField =  0 geonames []\n",
      "DEBUG:urllib3.connectionpool:\"GET /fulltext?format=json&q=Greenbelt+MD&suggest=true HTTP/1.1\" 200 None\n",
      "DEBUG:root:Greenbelt MD =  0 geonames []\n"
     ]
    },
    {
     "name": "stdout",
     "output_type": "stream",
     "text": [
      " MD\n",
      "152 7\n",
      "Greenbelt MD\n",
      " :"
     ]
    },
    {
     "name": "stderr",
     "output_type": "stream",
     "text": [
      "DEBUG:urllib3.connectionpool:\"GET /fulltext?format=json&q=Greenbelt&suggest=true HTTP/1.1\" 200 None\n",
      "DEBUG:root: Greenbelt =  2 geonames [..]\n",
      "DEBUG:urllib3.connectionpool:\"GET /fulltext?format=json&q=MD&suggest=true HTTP/1.1\" 200 None\n",
      "DEBUG:root:        MD =  10 geonames [..=..]\n"
     ]
    },
    {
     "name": "stdout",
     "output_type": "stream",
     "text": [
      " Greenbelt\n",
      " : MD\n",
      "152"
     ]
    },
    {
     "name": "stderr",
     "output_type": "stream",
     "text": [
      "DEBUG:urllib3.connectionpool:\"GET /search?q=Greenbelt+MD&orderBy=relevance&style=FULL&username=humph&type=json&fuzzy=0.8&maxRows=5 HTTP/1.1\" 200 None\n",
      "DEBUG:urllib3.connectionpool:\"GET /rest/annotate?support=20&text=Greenbelt+MD&confidence=0.2 HTTP/1.1\" 200 None\n",
      "DEBUG:urllib3.connectionpool:\"GET /data/Greenbelt,_Maryland.json HTTP/1.1\" 200 37143\n",
      "DEBUG:urllib3.connectionpool:\"GET /data/Maryland.json HTTP/1.1\" 200 1091393\n",
      "DEBUG:root:   Message =  2 resources [.#]\n",
      "DEBUG:root:  LocField =  0 geonames []\n",
      "DEBUG:urllib3.connectionpool:\"GET /fulltext?format=json&q=Greenbelt+MD&suggest=true HTTP/1.1\" 200 None\n",
      "DEBUG:root:Greenbelt MD =  0 geonames []\n"
     ]
    },
    {
     "name": "stdout",
     "output_type": "stream",
     "text": [
      " 7\n",
      "Greenbelt MD\n",
      " :"
     ]
    },
    {
     "name": "stderr",
     "output_type": "stream",
     "text": [
      "DEBUG:urllib3.connectionpool:\"GET /fulltext?format=json&q=Greenbelt&suggest=true HTTP/1.1\" 200 None\n",
      "DEBUG:root: Greenbelt =  2 geonames [..]\n",
      "DEBUG:urllib3.connectionpool:\"GET /fulltext?format=json&q=MD&suggest=true HTTP/1.1\" 200 None\n",
      "DEBUG:root:        MD =  10 geonames [..=..]\n"
     ]
    },
    {
     "name": "stdout",
     "output_type": "stream",
     "text": [
      " Greenbelt\n",
      " : MD\n",
      "152 7\n",
      "Greenbelt MD"
     ]
    },
    {
     "name": "stderr",
     "output_type": "stream",
     "text": [
      "DEBUG:urllib3.connectionpool:\"GET /search?q=Greenbelt+MD&orderBy=relevance&style=FULL&username=humph&type=json&fuzzy=0.8&maxRows=5 HTTP/1.1\" 200 None\n",
      "DEBUG:urllib3.connectionpool:\"GET /rest/annotate?support=20&text=Greenbelt+MD&confidence=0.2 HTTP/1.1\" 200 None\n",
      "DEBUG:urllib3.connectionpool:\"GET /data/Greenbelt,_Maryland.json HTTP/1.1\" 200 37143\n",
      "DEBUG:urllib3.connectionpool:\"GET /data/Maryland.json HTTP/1.1\" 200 1091393\n",
      "DEBUG:root:   Message =  2 resources [.#]\n",
      "DEBUG:root:  LocField =  0 geonames []\n",
      "DEBUG:urllib3.connectionpool:\"GET /fulltext?format=json&q=Greenbelt+MD&suggest=true HTTP/1.1\" 200 None\n",
      "DEBUG:root:Greenbelt MD =  0 geonames []\n"
     ]
    },
    {
     "name": "stdout",
     "output_type": "stream",
     "text": [
      "\n",
      " :"
     ]
    },
    {
     "name": "stderr",
     "output_type": "stream",
     "text": [
      "DEBUG:urllib3.connectionpool:\"GET /fulltext?format=json&q=Greenbelt&suggest=true HTTP/1.1\" 200 None\n",
      "DEBUG:root: Greenbelt =  2 geonames [..]\n",
      "DEBUG:urllib3.connectionpool:\"GET /fulltext?format=json&q=MD&suggest=true HTTP/1.1\" 200 None\n",
      "DEBUG:root:        MD =  10 geonames [..=..]\n"
     ]
    },
    {
     "name": "stdout",
     "output_type": "stream",
     "text": [
      " Greenbelt\n",
      " : MD\n",
      "152 7\n",
      "Greenbelt MD"
     ]
    },
    {
     "name": "stderr",
     "output_type": "stream",
     "text": [
      "DEBUG:urllib3.connectionpool:\"GET /search?q=Greenbelt+MD&orderBy=relevance&style=FULL&username=humph&type=json&fuzzy=0.8&maxRows=5 HTTP/1.1\" 200 None\n",
      "DEBUG:urllib3.connectionpool:\"GET /rest/annotate?support=20&text=Greenbelt+MD&confidence=0.2 HTTP/1.1\" 200 None\n",
      "DEBUG:urllib3.connectionpool:\"GET /data/Greenbelt,_Maryland.json HTTP/1.1\" 200 37143\n",
      "DEBUG:urllib3.connectionpool:\"GET /data/Maryland.json HTTP/1.1\" 200 1091393\n",
      "DEBUG:root:   Message =  2 resources [.#]\n",
      "DEBUG:root:  LocField =  0 geonames []\n",
      "DEBUG:urllib3.connectionpool:\"GET /fulltext?format=json&q=Greenbelt+MD&suggest=true HTTP/1.1\" 200 None\n",
      "DEBUG:root:Greenbelt MD =  0 geonames []\n"
     ]
    },
    {
     "name": "stdout",
     "output_type": "stream",
     "text": [
      "\n",
      " :"
     ]
    },
    {
     "name": "stderr",
     "output_type": "stream",
     "text": [
      "DEBUG:urllib3.connectionpool:\"GET /fulltext?format=json&q=Greenbelt&suggest=true HTTP/1.1\" 200 None\n",
      "DEBUG:root: Greenbelt =  2 geonames [..]\n",
      "DEBUG:urllib3.connectionpool:\"GET /fulltext?format=json&q=MD&suggest=true HTTP/1.1\" 200 None\n",
      "DEBUG:root:        MD =  10 geonames [..=..]\n"
     ]
    },
    {
     "name": "stdout",
     "output_type": "stream",
     "text": [
      " Greenbelt\n",
      " : MD\n",
      "152 7\n",
      "Greenbelt MD"
     ]
    },
    {
     "name": "stderr",
     "output_type": "stream",
     "text": [
      "DEBUG:urllib3.connectionpool:\"GET /search?q=Greenbelt+MD&orderBy=relevance&style=FULL&username=humph&type=json&fuzzy=0.8&maxRows=5 HTTP/1.1\" 200 None\n",
      "DEBUG:urllib3.connectionpool:\"GET /rest/annotate?support=20&text=Greenbelt+MD&confidence=0.2 HTTP/1.1\" 200 None\n",
      "DEBUG:urllib3.connectionpool:\"GET /data/Greenbelt,_Maryland.json HTTP/1.1\" 200 37143\n",
      "DEBUG:urllib3.connectionpool:\"GET /data/Maryland.json HTTP/1.1\" 200 1091393\n",
      "DEBUG:root:   Message =  2 resources [.#]\n",
      "DEBUG:root:  LocField =  0 geonames []\n",
      "DEBUG:urllib3.connectionpool:\"GET /fulltext?format=json&q=Greenbelt+MD&suggest=true HTTP/1.1\" 200 None\n",
      "DEBUG:root:Greenbelt MD =  0 geonames []\n"
     ]
    },
    {
     "name": "stdout",
     "output_type": "stream",
     "text": [
      "\n",
      " :"
     ]
    },
    {
     "name": "stderr",
     "output_type": "stream",
     "text": [
      "DEBUG:urllib3.connectionpool:\"GET /fulltext?format=json&q=Greenbelt&suggest=true HTTP/1.1\" 200 None\n",
      "DEBUG:root: Greenbelt =  2 geonames [..]\n",
      "DEBUG:urllib3.connectionpool:\"GET /fulltext?format=json&q=MD&suggest=true HTTP/1.1\" 200 None\n",
      "DEBUG:root:        MD =  10 geonames [..=..]\n"
     ]
    },
    {
     "name": "stdout",
     "output_type": "stream",
     "text": [
      " Greenbelt\n",
      " : MD\n",
      "152 7\n",
      "Greenbelt MD"
     ]
    },
    {
     "name": "stderr",
     "output_type": "stream",
     "text": [
      "DEBUG:urllib3.connectionpool:\"GET /search?q=Greenbelt+MD&orderBy=relevance&style=FULL&username=humph&type=json&fuzzy=0.8&maxRows=5 HTTP/1.1\" 200 None\n",
      "DEBUG:urllib3.connectionpool:\"GET /rest/annotate?support=20&text=Greenbelt+MD&confidence=0.2 HTTP/1.1\" 200 None\n",
      "DEBUG:urllib3.connectionpool:\"GET /data/Greenbelt,_Maryland.json HTTP/1.1\" 200 37143\n",
      "DEBUG:urllib3.connectionpool:\"GET /data/Maryland.json HTTP/1.1\" 200 1091393\n",
      "DEBUG:root:   Message =  2 resources [.#]\n",
      "DEBUG:root:  LocField =  0 geonames []\n",
      "DEBUG:urllib3.connectionpool:\"GET /fulltext?format=json&q=Greenbelt+MD&suggest=true HTTP/1.1\" 200 None\n",
      "DEBUG:root:Greenbelt MD =  0 geonames []\n"
     ]
    },
    {
     "name": "stdout",
     "output_type": "stream",
     "text": [
      "\n",
      " :"
     ]
    },
    {
     "name": "stderr",
     "output_type": "stream",
     "text": [
      "DEBUG:urllib3.connectionpool:\"GET /fulltext?format=json&q=Greenbelt&suggest=true HTTP/1.1\" 200 None\n",
      "DEBUG:root: Greenbelt =  2 geonames [..]\n",
      "DEBUG:urllib3.connectionpool:\"GET /fulltext?format=json&q=MD&suggest=true HTTP/1.1\" 200 None\n",
      "DEBUG:root:        MD =  10 geonames [..=..]\n"
     ]
    },
    {
     "name": "stdout",
     "output_type": "stream",
     "text": [
      " Greenbelt\n",
      " : MD\n",
      "152 7\n",
      "Greenbelt MD"
     ]
    },
    {
     "name": "stderr",
     "output_type": "stream",
     "text": [
      "DEBUG:urllib3.connectionpool:\"GET /search?q=Greenbelt+MD&orderBy=relevance&style=FULL&username=humph&type=json&fuzzy=0.8&maxRows=5 HTTP/1.1\" 200 None\n",
      "DEBUG:urllib3.connectionpool:\"GET /rest/annotate?support=20&text=Greenbelt+MD&confidence=0.2 HTTP/1.1\" 200 None\n",
      "DEBUG:urllib3.connectionpool:\"GET /data/Greenbelt,_Maryland.json HTTP/1.1\" 200 37143\n",
      "DEBUG:urllib3.connectionpool:\"GET /data/Maryland.json HTTP/1.1\" 200 1091393\n",
      "DEBUG:root:   Message =  2 resources [.#]\n",
      "DEBUG:root:  LocField =  0 geonames []\n",
      "DEBUG:urllib3.connectionpool:\"GET /fulltext?format=json&q=Greenbelt+MD&suggest=true HTTP/1.1\" 200 None\n",
      "DEBUG:root:Greenbelt MD =  0 geonames []\n"
     ]
    },
    {
     "name": "stdout",
     "output_type": "stream",
     "text": [
      "\n",
      " :"
     ]
    },
    {
     "name": "stderr",
     "output_type": "stream",
     "text": [
      "DEBUG:urllib3.connectionpool:\"GET /fulltext?format=json&q=Greenbelt&suggest=true HTTP/1.1\" 200 None\n",
      "DEBUG:root: Greenbelt =  2 geonames [..]\n",
      "DEBUG:urllib3.connectionpool:\"GET /fulltext?format=json&q=MD&suggest=true HTTP/1.1\" 200 None\n",
      "DEBUG:root:        MD =  10 geonames [..=..]\n"
     ]
    },
    {
     "name": "stdout",
     "output_type": "stream",
     "text": [
      " Greenbelt\n",
      " : MD\n",
      "152 7\n",
      "Greenbelt MD"
     ]
    },
    {
     "name": "stderr",
     "output_type": "stream",
     "text": [
      "DEBUG:urllib3.connectionpool:\"GET /search?q=Greenbelt+MD&orderBy=relevance&style=FULL&username=humph&type=json&fuzzy=0.8&maxRows=5 HTTP/1.1\" 200 None\n",
      "DEBUG:urllib3.connectionpool:\"GET /rest/annotate?support=20&text=Greenbelt+MD&confidence=0.2 HTTP/1.1\" 200 None\n",
      "DEBUG:urllib3.connectionpool:\"GET /data/Greenbelt,_Maryland.json HTTP/1.1\" 200 37143\n",
      "DEBUG:urllib3.connectionpool:\"GET /data/Maryland.json HTTP/1.1\" 200 1091393\n",
      "DEBUG:root:   Message =  2 resources [.#]\n",
      "DEBUG:root:  LocField =  0 geonames []\n",
      "DEBUG:urllib3.connectionpool:\"GET /fulltext?format=json&q=Greenbelt+MD&suggest=true HTTP/1.1\" 200 None\n",
      "DEBUG:root:Greenbelt MD =  0 geonames []\n"
     ]
    },
    {
     "name": "stdout",
     "output_type": "stream",
     "text": [
      "\n",
      " :"
     ]
    },
    {
     "name": "stderr",
     "output_type": "stream",
     "text": [
      "DEBUG:urllib3.connectionpool:\"GET /fulltext?format=json&q=Greenbelt&suggest=true HTTP/1.1\" 200 None\n",
      "DEBUG:root: Greenbelt =  2 geonames [..]\n",
      "DEBUG:urllib3.connectionpool:\"GET /fulltext?format=json&q=MD&suggest=true HTTP/1.1\" 200 None\n",
      "DEBUG:root:        MD =  10 geonames [..=..]\n"
     ]
    },
    {
     "name": "stdout",
     "output_type": "stream",
     "text": [
      " Greenbelt\n",
      " : MD\n",
      "152 7\n",
      "Greenbelt MD"
     ]
    },
    {
     "name": "stderr",
     "output_type": "stream",
     "text": [
      "DEBUG:urllib3.connectionpool:\"GET /search?q=Greenbelt+MD&orderBy=relevance&style=FULL&username=humph&type=json&fuzzy=0.8&maxRows=5 HTTP/1.1\" 200 None\n",
      "DEBUG:urllib3.connectionpool:\"GET /rest/annotate?support=20&text=Greenbelt+MD&confidence=0.2 HTTP/1.1\" 200 None\n",
      "DEBUG:urllib3.connectionpool:\"GET /data/Greenbelt,_Maryland.json HTTP/1.1\" 200 37143\n",
      "DEBUG:urllib3.connectionpool:\"GET /data/Maryland.json HTTP/1.1\" 200 1091393\n",
      "DEBUG:root:   Message =  2 resources [.#]\n",
      "DEBUG:root:  LocField =  0 geonames []\n",
      "DEBUG:urllib3.connectionpool:\"GET /fulltext?format=json&q=Greenbelt+MD&suggest=true HTTP/1.1\" 200 None\n",
      "DEBUG:root:Greenbelt MD =  0 geonames []\n"
     ]
    },
    {
     "name": "stdout",
     "output_type": "stream",
     "text": [
      "\n",
      " :"
     ]
    },
    {
     "name": "stderr",
     "output_type": "stream",
     "text": [
      "DEBUG:urllib3.connectionpool:\"GET /fulltext?format=json&q=Greenbelt&suggest=true HTTP/1.1\" 200 None\n",
      "DEBUG:root: Greenbelt =  2 geonames [..]\n",
      "DEBUG:urllib3.connectionpool:\"GET /fulltext?format=json&q=MD&suggest=true HTTP/1.1\" 200 None\n",
      "DEBUG:root:        MD =  10 geonames [..=..]\n"
     ]
    },
    {
     "name": "stdout",
     "output_type": "stream",
     "text": [
      " Greenbelt\n",
      " : MD\n",
      "152 7\n",
      "Greenbelt MD"
     ]
    },
    {
     "name": "stderr",
     "output_type": "stream",
     "text": [
      "DEBUG:urllib3.connectionpool:\"GET /search?q=Greenbelt+MD&orderBy=relevance&style=FULL&username=humph&type=json&fuzzy=0.8&maxRows=5 HTTP/1.1\" 200 None\n",
      "DEBUG:urllib3.connectionpool:\"GET /rest/annotate?support=20&text=Greenbelt+MD&confidence=0.2 HTTP/1.1\" 200 None\n",
      "DEBUG:urllib3.connectionpool:\"GET /data/Greenbelt,_Maryland.json HTTP/1.1\" 200 37143\n",
      "DEBUG:urllib3.connectionpool:\"GET /data/Maryland.json HTTP/1.1\" 200 1091393\n",
      "DEBUG:root:   Message =  2 resources [.#]\n",
      "DEBUG:root:  LocField =  0 geonames []\n",
      "DEBUG:urllib3.connectionpool:\"GET /fulltext?format=json&q=Greenbelt+MD&suggest=true HTTP/1.1\" 200 None\n",
      "DEBUG:root:Greenbelt MD =  0 geonames []\n"
     ]
    },
    {
     "name": "stdout",
     "output_type": "stream",
     "text": [
      "\n",
      " :"
     ]
    },
    {
     "name": "stderr",
     "output_type": "stream",
     "text": [
      "DEBUG:urllib3.connectionpool:\"GET /fulltext?format=json&q=Greenbelt&suggest=true HTTP/1.1\" 200 None\n",
      "DEBUG:root: Greenbelt =  2 geonames [..]\n",
      "DEBUG:urllib3.connectionpool:\"GET /fulltext?format=json&q=MD&suggest=true HTTP/1.1\" 200 None\n",
      "DEBUG:root:        MD =  10 geonames [..=..]\n"
     ]
    },
    {
     "name": "stdout",
     "output_type": "stream",
     "text": [
      " Greenbelt\n",
      " : MD\n",
      "152 7\n",
      "Greenbelt MD"
     ]
    },
    {
     "name": "stderr",
     "output_type": "stream",
     "text": [
      "DEBUG:urllib3.connectionpool:\"GET /search?q=Greenbelt+MD&orderBy=relevance&style=FULL&username=humph&type=json&fuzzy=0.8&maxRows=5 HTTP/1.1\" 200 None\n",
      "DEBUG:urllib3.connectionpool:\"GET /rest/annotate?support=20&text=Greenbelt+MD&confidence=0.2 HTTP/1.1\" 200 None\n",
      "DEBUG:urllib3.connectionpool:\"GET /data/Greenbelt,_Maryland.json HTTP/1.1\" 200 37143\n",
      "DEBUG:urllib3.connectionpool:\"GET /data/Maryland.json HTTP/1.1\" 200 1091393\n",
      "DEBUG:root:   Message =  2 resources [.#]\n",
      "DEBUG:root:  LocField =  0 geonames []\n",
      "DEBUG:urllib3.connectionpool:\"GET /fulltext?format=json&q=Greenbelt+MD&suggest=true HTTP/1.1\" 200 None\n",
      "DEBUG:root:Greenbelt MD =  0 geonames []\n"
     ]
    },
    {
     "name": "stdout",
     "output_type": "stream",
     "text": [
      "\n",
      " :"
     ]
    },
    {
     "name": "stderr",
     "output_type": "stream",
     "text": [
      "DEBUG:urllib3.connectionpool:\"GET /fulltext?format=json&q=Greenbelt&suggest=true HTTP/1.1\" 200 None\n",
      "DEBUG:root: Greenbelt =  2 geonames [..]\n",
      "DEBUG:urllib3.connectionpool:\"GET /fulltext?format=json&q=MD&suggest=true HTTP/1.1\" 200 None\n",
      "DEBUG:root:        MD =  10 geonames [..=..]\n"
     ]
    },
    {
     "name": "stdout",
     "output_type": "stream",
     "text": [
      " Greenbelt\n",
      " : MD\n",
      "152 7\n",
      "Greenbelt MD"
     ]
    },
    {
     "name": "stderr",
     "output_type": "stream",
     "text": [
      "DEBUG:urllib3.connectionpool:\"GET /search?q=Greenbelt+MD&orderBy=relevance&style=FULL&username=humph&type=json&fuzzy=0.8&maxRows=5 HTTP/1.1\" 200 None\n",
      "DEBUG:urllib3.connectionpool:\"GET /rest/annotate?support=20&text=Greenbelt+MD&confidence=0.2 HTTP/1.1\" 200 None\n",
      "DEBUG:urllib3.connectionpool:\"GET /data/Greenbelt,_Maryland.json HTTP/1.1\" 200 37143\n",
      "DEBUG:urllib3.connectionpool:\"GET /data/Maryland.json HTTP/1.1\" 200 1091393\n",
      "DEBUG:root:   Message =  2 resources [.#]\n",
      "DEBUG:root:  LocField =  0 geonames []\n",
      "DEBUG:urllib3.connectionpool:\"GET /fulltext?format=json&q=Greenbelt+MD&suggest=true HTTP/1.1\" 200 None\n",
      "DEBUG:root:Greenbelt MD =  0 geonames []\n"
     ]
    },
    {
     "name": "stdout",
     "output_type": "stream",
     "text": [
      "\n",
      " :"
     ]
    },
    {
     "name": "stderr",
     "output_type": "stream",
     "text": [
      "DEBUG:urllib3.connectionpool:\"GET /fulltext?format=json&q=Greenbelt&suggest=true HTTP/1.1\" 200 None\n",
      "DEBUG:root: Greenbelt =  2 geonames [..]\n",
      "DEBUG:urllib3.connectionpool:\"GET /fulltext?format=json&q=MD&suggest=true HTTP/1.1\" 200 None\n",
      "DEBUG:root:        MD =  10 geonames [..=..]\n"
     ]
    },
    {
     "name": "stdout",
     "output_type": "stream",
     "text": [
      " Greenbelt\n",
      " : MD\n",
      "152 7\n",
      "Greenbelt MD"
     ]
    },
    {
     "name": "stderr",
     "output_type": "stream",
     "text": [
      "DEBUG:urllib3.connectionpool:\"GET /search?q=Greenbelt+MD&orderBy=relevance&style=FULL&username=humph&type=json&fuzzy=0.8&maxRows=5 HTTP/1.1\" 200 None\n",
      "DEBUG:urllib3.connectionpool:\"GET /rest/annotate?support=20&text=Greenbelt+MD&confidence=0.2 HTTP/1.1\" 200 None\n",
      "DEBUG:urllib3.connectionpool:\"GET /data/Greenbelt,_Maryland.json HTTP/1.1\" 200 37143\n",
      "DEBUG:urllib3.connectionpool:\"GET /data/Maryland.json HTTP/1.1\" 200 1091393\n",
      "DEBUG:root:   Message =  2 resources [.#]\n",
      "DEBUG:root:  LocField =  0 geonames []\n",
      "DEBUG:urllib3.connectionpool:\"GET /fulltext?format=json&q=Greenbelt+MD&suggest=true HTTP/1.1\" 200 None\n",
      "DEBUG:root:Greenbelt MD =  0 geonames []\n"
     ]
    },
    {
     "name": "stdout",
     "output_type": "stream",
     "text": [
      "\n",
      " :"
     ]
    },
    {
     "name": "stderr",
     "output_type": "stream",
     "text": [
      "DEBUG:urllib3.connectionpool:\"GET /fulltext?format=json&q=Greenbelt&suggest=true HTTP/1.1\" 200 None\n",
      "DEBUG:root: Greenbelt =  2 geonames [..]\n",
      "DEBUG:urllib3.connectionpool:\"GET /fulltext?format=json&q=MD&suggest=true HTTP/1.1\" 200 None\n",
      "DEBUG:root:        MD =  10 geonames [..=..]\n"
     ]
    },
    {
     "name": "stdout",
     "output_type": "stream",
     "text": [
      " Greenbelt\n",
      " : MD\n",
      "152 7\n",
      "Greenbelt MD"
     ]
    },
    {
     "name": "stderr",
     "output_type": "stream",
     "text": [
      "DEBUG:urllib3.connectionpool:\"GET /search?q=Greenbelt+MD&orderBy=relevance&style=FULL&username=humph&type=json&fuzzy=0.8&maxRows=5 HTTP/1.1\" 200 None\n",
      "DEBUG:urllib3.connectionpool:\"GET /rest/annotate?support=20&text=Greenbelt+MD&confidence=0.2 HTTP/1.1\" 200 None\n",
      "DEBUG:urllib3.connectionpool:\"GET /data/Greenbelt,_Maryland.json HTTP/1.1\" 200 37143\n",
      "DEBUG:urllib3.connectionpool:\"GET /data/Maryland.json HTTP/1.1\" 200 1091393\n",
      "DEBUG:root:   Message =  2 resources [.#]\n",
      "DEBUG:root:  LocField =  0 geonames []\n",
      "DEBUG:urllib3.connectionpool:\"GET /fulltext?format=json&q=Greenbelt+MD&suggest=true HTTP/1.1\" 200 None\n",
      "DEBUG:root:Greenbelt MD =  0 geonames []\n"
     ]
    },
    {
     "name": "stdout",
     "output_type": "stream",
     "text": [
      "\n",
      " :"
     ]
    },
    {
     "name": "stderr",
     "output_type": "stream",
     "text": [
      "DEBUG:urllib3.connectionpool:\"GET /fulltext?format=json&q=Greenbelt&suggest=true HTTP/1.1\" 200 None\n",
      "DEBUG:root: Greenbelt =  2 geonames [..]\n",
      "DEBUG:urllib3.connectionpool:\"GET /fulltext?format=json&q=MD&suggest=true HTTP/1.1\" 200 None\n",
      "DEBUG:root:        MD =  10 geonames [..=..]\n"
     ]
    },
    {
     "name": "stdout",
     "output_type": "stream",
     "text": [
      " Greenbelt\n",
      " : MD\n",
      "152"
     ]
    },
    {
     "name": "stderr",
     "output_type": "stream",
     "text": [
      "DEBUG:urllib3.connectionpool:\"GET /search?q=Greenbelt+MD&orderBy=relevance&style=FULL&username=humph&type=json&fuzzy=0.8&maxRows=5 HTTP/1.1\" 200 None\n",
      "DEBUG:urllib3.connectionpool:\"GET /rest/annotate?support=20&text=Greenbelt+MD&confidence=0.2 HTTP/1.1\" 200 None\n",
      "DEBUG:urllib3.connectionpool:\"GET /data/Greenbelt,_Maryland.json HTTP/1.1\" 200 37143\n",
      "DEBUG:urllib3.connectionpool:\"GET /data/Maryland.json HTTP/1.1\" 200 1091393\n",
      "DEBUG:root:   Message =  2 resources [.#]\n",
      "DEBUG:root:  LocField =  0 geonames []\n",
      "DEBUG:urllib3.connectionpool:\"GET /fulltext?format=json&q=Greenbelt+MD&suggest=true HTTP/1.1\" 200 None\n",
      "DEBUG:root:Greenbelt MD =  0 geonames []\n"
     ]
    },
    {
     "name": "stdout",
     "output_type": "stream",
     "text": [
      " 7\n",
      "Greenbelt MD\n",
      " :"
     ]
    },
    {
     "name": "stderr",
     "output_type": "stream",
     "text": [
      "DEBUG:urllib3.connectionpool:\"GET /fulltext?format=json&q=Greenbelt&suggest=true HTTP/1.1\" 200 None\n",
      "DEBUG:root: Greenbelt =  2 geonames [..]\n",
      "DEBUG:urllib3.connectionpool:\"GET /fulltext?format=json&q=MD&suggest=true HTTP/1.1\" 200 None\n",
      "DEBUG:root:        MD =  10 geonames [..=..]\n"
     ]
    },
    {
     "name": "stdout",
     "output_type": "stream",
     "text": [
      " Greenbelt\n",
      " : MD\n",
      "152 7\n"
     ]
    }
   ],
   "source": [
    "cursor = col.find({'geo': {'$ne': None}})\n",
    "\n",
    "geonames = LocFieldIndicator(config)\n",
    "gisgraphy = GISLocFieldIndicator(config)\n",
    "\n",
    "geoav = 0\n",
    "gisav = 0\n",
    "count = 0\n",
    "\n",
    "allocid = 0\n",
    "for doc in cursor:\n",
    "    print(doc['user']['location'])\n",
    "    geo = geonames.get_loc(doc['user']['location'])\n",
    "    gis = gisgraphy.get_loc(doc['user']['location'])\n",
    "    print(len(geo), len(gis))\n",
    "    \n",
    "    point = (doc[\"geo\"][\"coordinates\"][1], doc[\"geo\"][\"coordinates\"][0])\n",
    "    geoav += get_distance(get_centre(geo), point)\n",
    "    gisav += get_distance(get_centre(gis), point)\n",
    "    count += 1\n",
    "    if count > 100:\n",
    "        break"
   ]
  },
  {
   "cell_type": "code",
   "execution_count": null,
   "metadata": {
    "collapsed": false
   },
   "outputs": [],
   "source": [
    "print (geoav / count, gisav / count)"
   ]
  },
  {
   "cell_type": "code",
   "execution_count": null,
   "metadata": {
    "collapsed": true
   },
   "outputs": [],
   "source": []
  }
 ],
 "metadata": {
  "kernelspec": {
   "display_name": "Python 3",
   "language": "python",
   "name": "python3"
  },
  "language_info": {
   "codemirror_mode": {
    "name": "ipython",
    "version": 3
   },
   "file_extension": ".py",
   "mimetype": "text/x-python",
   "name": "python",
   "nbconvert_exporter": "python",
   "pygments_lexer": "ipython3",
   "version": "3.4.3"
  }
 },
 "nbformat": 4,
 "nbformat_minor": 0
}
