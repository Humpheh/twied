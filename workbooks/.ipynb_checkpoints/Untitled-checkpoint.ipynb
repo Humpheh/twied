{
 "cells": [
  {
   "cell_type": "code",
   "execution_count": 1,
   "metadata": {
    "collapsed": false
   },
   "outputs": [],
   "source": [
    "import sys\n",
    "sys.path.append(\"D:/ds/code/\")\n",
    "sys.path.append(\"D:/ds/code/implementation\")\n",
    "\n",
    "from implementation.multiind.indicators import *"
   ]
  },
  {
   "cell_type": "code",
   "execution_count": 2,
   "metadata": {
    "collapsed": false
   },
   "outputs": [
    {
     "name": "stderr",
     "output_type": "stream",
     "text": [
      "INFO:root:-----------\n",
      "2016-02-21 22:52:29,188 [MainThread ] INFO    - -----------\n",
      "INFO:root:Initialised logging for: C:\\Users\\Humphrey\\Anaconda3\\lib\\site-packages\\ipykernel\\__main__.py 13092\n",
      "2016-02-21 22:52:29,190 [MainThread ] INFO    - Initialised logging for: C:\\Users\\Humphrey\\Anaconda3\\lib\\site-packages\\ipykernel\\__main__.py 13092\n",
      "INFO:root:-----------\n",
      "2016-02-21 22:52:29,191 [MainThread ] INFO    - -----------\n",
      "INFO:root:Connecting to MongoDB...\n",
      "2016-02-21 22:52:29,193 [MainThread ] INFO    - Connecting to MongoDB...\n",
      "INFO:root:Connected to MongoDB.\n",
      "2016-02-21 22:52:29,198 [MainThread ] INFO    - Connected to MongoDB.\n"
     ]
    }
   ],
   "source": [
    "import sys\n",
    "import logging\n",
    "\n",
    "from configparser import NoOptionError\n",
    "\n",
    "from pymongo import MongoClient\n",
    "import twieds\n",
    "\n",
    "config = twieds.setup(\"../implementation/logs/mi_alloc.log\", \"../implementation/settings/locinf.ini\")\n",
    "\n",
    "# connect to the MongoDB\n",
    "logging.info(\"Connecting to MongoDB...\")\n",
    "client = MongoClient(config.get(\"mongo\", \"address\"), config.getint(\"mongo\", \"port\"))\n",
    "logging.info(\"Connected to MongoDB.\")\n",
    "\n",
    "# select the database and collection based off config\n",
    "try:\n",
    "    db = client[config.get(\"mongo\", \"database\")]\n",
    "    col = db[\"geotweets\"]  # config.get(\"mongo\", \"collection\")]\n",
    "except NoOptionError:\n",
    "    logging.critical(\"Cannot connect to MongoDB database and collection. Config incorrect?\")\n",
    "    sys.exit()"
   ]
  },
  {
   "cell_type": "code",
   "execution_count": 3,
   "metadata": {
    "collapsed": true
   },
   "outputs": [],
   "source": [
    "from Polygon import Polygon\n",
    "from Polygon import Error as PolygonError\n",
    "from geopy.distance import vincenty\n",
    "\n",
    "def get_centre(polys):\n",
    "    p = Polygon()\n",
    "    for i in polys:\n",
    "        p.addContour(i[0])\n",
    "\n",
    "    try:\n",
    "        return p.center()\n",
    "    except PolygonError:\n",
    "        return None\n",
    "    \n",
    "def get_distance(centre, real):\n",
    "    return vincenty((centre[1], centre[0]), (real[1], real[0])).km"
   ]
  },
  {
   "cell_type": "code",
   "execution_count": 4,
   "metadata": {
    "collapsed": false
   },
   "outputs": [
    {
     "name": "stderr",
     "output_type": "stream",
     "text": [
      "INFO:urllib3.connectionpool:Starting new HTTP connection (1): api.geonames.org\n",
      "2016-02-21 22:52:30,207 [MainThread ] INFO    - Starting new HTTP connection (1): api.geonames.org\n",
      "DEBUG:urllib3.connectionpool:\"GET /search?username=humph&fuzzy=0.8&orderBy=relevance&type=json&q=Greenbelt+MD HTTP/1.1\" 200 None\n",
      "INFO:urllib3.connectionpool:Starting new HTTP connection (1): spotlight.sztaki.hu\n",
      "2016-02-21 22:52:30,386 [MainThread ] INFO    - Starting new HTTP connection (1): spotlight.sztaki.hu\n",
      "DEBUG:urllib3.connectionpool:\"GET /rest/annotate?support=20&text=Greenbelt+MD&confidence=0.2 HTTP/1.1\" 200 None\n",
      "INFO:urllib3.connectionpool:Starting new HTTP connection (1): dbpedia.org\n",
      "2016-02-21 22:52:30,561 [MainThread ] INFO    - Starting new HTTP connection (1): dbpedia.org\n",
      "DEBUG:urllib3.connectionpool:\"GET /data/Greenbelt,_Maryland.json HTTP/1.1\" 200 37143\n",
      "DEBUG:urllib3.connectionpool:\"GET /data/Maryland.json HTTP/1.1\" 200 1091393\n",
      "DEBUG:root:   Message =  2 resources [.#]\n",
      "DEBUG:root:  LocField =  0 geonames []\n",
      "INFO:urllib3.connectionpool:Starting new HTTP connection (1): localhost\n",
      "2016-02-21 22:52:32,823 [MainThread ] INFO    - Starting new HTTP connection (1): localhost\n",
      "DEBUG:urllib3.connectionpool:\"GET /fulltext?format=json&suggest=true&q=Greenbelt+MD HTTP/1.1\" 200 None\n",
      "DEBUG:root:Greenbelt MD =  0 geonames []\n"
     ]
    },
    {
     "name": "stdout",
     "output_type": "stream",
     "text": [
      "Greenbelt MD\n",
      " :"
     ]
    },
    {
     "name": "stderr",
     "output_type": "stream",
     "text": [
      "DEBUG:urllib3.connectionpool:\"GET /fulltext?format=json&suggest=true&q=Greenbelt HTTP/1.1\" 200 None\n",
      "DEBUG:root: Greenbelt =  2 geonames [.]\n",
      "DEBUG:urllib3.connectionpool:\"GET /fulltext?format=json&suggest=true&q=MD HTTP/1.1\" 200 None\n",
      "DEBUG:root:        MD =  10 geonames [.]\n"
     ]
    },
    {
     "name": "stdout",
     "output_type": "stream",
     "text": [
      " Greenbelt\n",
      " : MD\n",
      "152 2\n"
     ]
    },
    {
     "ename": "NameError",
     "evalue": "name 'gisav' is not defined",
     "output_type": "error",
     "traceback": [
      "\u001b[1;31m---------------------------------------------------------------------------\u001b[0m",
      "\u001b[1;31mNameError\u001b[0m                                 Traceback (most recent call last)",
      "\u001b[1;32m<ipython-input-4-e642306009b9>\u001b[0m in \u001b[0;36m<module>\u001b[1;34m()\u001b[0m\n\u001b[0;32m     17\u001b[0m     \u001b[0mpoint\u001b[0m \u001b[1;33m=\u001b[0m \u001b[1;33m(\u001b[0m\u001b[0mdoc\u001b[0m\u001b[1;33m[\u001b[0m\u001b[1;34m\"geo\"\u001b[0m\u001b[1;33m]\u001b[0m\u001b[1;33m[\u001b[0m\u001b[1;34m\"coordinates\"\u001b[0m\u001b[1;33m]\u001b[0m\u001b[1;33m[\u001b[0m\u001b[1;36m1\u001b[0m\u001b[1;33m]\u001b[0m\u001b[1;33m,\u001b[0m \u001b[0mdoc\u001b[0m\u001b[1;33m[\u001b[0m\u001b[1;34m\"geo\"\u001b[0m\u001b[1;33m]\u001b[0m\u001b[1;33m[\u001b[0m\u001b[1;34m\"coordinates\"\u001b[0m\u001b[1;33m]\u001b[0m\u001b[1;33m[\u001b[0m\u001b[1;36m0\u001b[0m\u001b[1;33m]\u001b[0m\u001b[1;33m)\u001b[0m\u001b[1;33m\u001b[0m\u001b[0m\n\u001b[0;32m     18\u001b[0m     \u001b[0mgeoav\u001b[0m \u001b[1;33m+=\u001b[0m \u001b[0mget_distance\u001b[0m\u001b[1;33m(\u001b[0m\u001b[0mget_centre\u001b[0m\u001b[1;33m(\u001b[0m\u001b[0mgeo\u001b[0m\u001b[1;33m)\u001b[0m\u001b[1;33m,\u001b[0m \u001b[0mpoint\u001b[0m\u001b[1;33m)\u001b[0m\u001b[1;33m\u001b[0m\u001b[0m\n\u001b[1;32m---> 19\u001b[1;33m     \u001b[0mgisav\u001b[0m \u001b[1;33m+=\u001b[0m \u001b[0mget_distance\u001b[0m\u001b[1;33m(\u001b[0m\u001b[0mget_centre\u001b[0m\u001b[1;33m(\u001b[0m\u001b[0mgis\u001b[0m\u001b[1;33m)\u001b[0m\u001b[1;33m,\u001b[0m \u001b[0mpoint\u001b[0m\u001b[1;33m)\u001b[0m\u001b[1;33m\u001b[0m\u001b[0m\n\u001b[0m\u001b[0;32m     20\u001b[0m     \u001b[0mcount\u001b[0m \u001b[1;33m+=\u001b[0m \u001b[1;36m1\u001b[0m\u001b[1;33m\u001b[0m\u001b[0m\n\u001b[0;32m     21\u001b[0m     \u001b[1;32mif\u001b[0m \u001b[0mcount\u001b[0m \u001b[1;33m>\u001b[0m \u001b[1;36m100\u001b[0m\u001b[1;33m:\u001b[0m\u001b[1;33m\u001b[0m\u001b[0m\n",
      "\u001b[1;31mNameError\u001b[0m: name 'gisav' is not defined"
     ]
    }
   ],
   "source": [
    "cursor = col.find({'geo': {'$ne': None}})\n",
    "\n",
    "geonames = LocFieldIndicator(config)\n",
    "gisgraphy = GISLocFieldIndicator(config)\n",
    "\n",
    "geoav = 0\n",
    "gisav = 0\n",
    "count = 0\n",
    "\n",
    "allocid = 0\n",
    "for doc in cursor:\n",
    "    print(doc['user']['location'])\n",
    "    geo = geonames.get_loc(doc['user']['location'])\n",
    "    gis = gisgraphy.get_loc(doc['user']['location'])\n",
    "    print(len(geo), len(gis))\n",
    "    \n",
    "    point = (doc[\"geo\"][\"coordinates\"][1], doc[\"geo\"][\"coordinates\"][0])\n",
    "    geoav += get_distance(get_centre(geo), point)\n",
    "    gisav += get_distance(get_centre(gis), point)\n",
    "    count += 1\n",
    "    if count > 100:\n",
    "        break"
   ]
  },
  {
   "cell_type": "code",
   "execution_count": null,
   "metadata": {
    "collapsed": false
   },
   "outputs": [],
   "source": [
    "print(geo)"
   ]
  }
 ],
 "metadata": {
  "kernelspec": {
   "display_name": "Python 3",
   "language": "python",
   "name": "python3"
  },
  "language_info": {
   "codemirror_mode": {
    "name": "ipython",
    "version": 3
   },
   "file_extension": ".py",
   "mimetype": "text/x-python",
   "name": "python",
   "nbconvert_exporter": "python",
   "pygments_lexer": "ipython3",
   "version": "3.4.3"
  }
 },
 "nbformat": 4,
 "nbformat_minor": 0
}
