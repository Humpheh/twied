{
 "cells": [
  {
   "cell_type": "code",
   "execution_count": 1,
   "metadata": {
    "collapsed": false
   },
   "outputs": [
    {
     "name": "stdout",
     "output_type": "stream",
     "text": [
      "Populating the interactive namespace from numpy and matplotlib\n"
     ]
    }
   ],
   "source": [
    "% pylab inline\n",
    "figsize(10, 8)\n",
    "\n",
    "import sys\n",
    "sys.path.append(\"D:/ds/twicol\")"
   ]
  },
  {
   "cell_type": "code",
   "execution_count": null,
   "metadata": {
    "collapsed": true
   },
   "outputs": [],
   "source": [
    "from pymongo import MongoClient\n",
    "from Polygon import Polygon\n",
    "from Polygon import Error as PolygonError\n",
    "\n",
    "from geopy.distance import vincenty\n",
    "\n",
    "# connect to mongodb\n",
    "client = MongoClient(\"localhost\", 27017)\n",
    "db = client[\"twitter\"]\n",
    "\n",
    "# get the tweet cursor\n",
    "cursor = db.inftweets.find()\n",
    "\n",
    "for doc in cursor:\n",
    "    gotpoly = False\n",
    "    try:\n",
    "        # get the poly\n",
    "        poly = eval(doc[\"locinf\"][\"mi\"][\"poly\"])\n",
    "\n",
    "        centres = []\n",
    "\n",
    "        p = Polygon()\n",
    "        for i in poly:\n",
    "            p.addContour(i)\n",
    "\n",
    "        center = p.center()\n",
    "        gotpoly = True\n",
    "    except PolygonError:\n",
    "        center = None\n",
    "        \n",
    "    data = {\n",
    "        'tweetid': doc['_id'],\n",
    "        'timestamp': doc['timestamp_obj'],\n",
    "        'centre': center,\n",
    "        'realgeo': doc['geo'],\n",
    "        'gotpoly': gotpoly\n",
    "    }\n",
    "        \n",
    "    db.ptweets.insert_one(data)\n",
    "            "
   ]
  }
 ],
 "metadata": {
  "kernelspec": {
   "display_name": "Python 3",
   "language": "python",
   "name": "python3"
  },
  "language_info": {
   "codemirror_mode": {
    "name": "ipython",
    "version": 3
   },
   "file_extension": ".py",
   "mimetype": "text/x-python",
   "name": "python",
   "nbconvert_exporter": "python",
   "pygments_lexer": "ipython3",
   "version": "3.4.3"
  }
 },
 "nbformat": 4,
 "nbformat_minor": 0
}
