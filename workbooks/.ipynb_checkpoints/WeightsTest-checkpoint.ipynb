{
 "cells": [
  {
   "cell_type": "code",
   "execution_count": 1,
   "metadata": {
    "collapsed": false
   },
   "outputs": [
    {
     "name": "stdout",
     "output_type": "stream",
     "text": [
      "Populating the interactive namespace from numpy and matplotlib\n"
     ]
    }
   ],
   "source": [
    "% pylab inline\n",
    "figsize(10, 8)\n",
    "\n",
    "import sys\n",
    "sys.path.append(\"/Users/humphreyshotton/ds/twicol\")"
   ]
  },
  {
   "cell_type": "code",
   "execution_count": 4,
   "metadata": {
    "collapsed": false
   },
   "outputs": [
    {
     "name": "stdout",
     "output_type": "stream",
     "text": [
      "Processed 1000\n",
      "Processed 2000\n",
      "Processed 3000\n",
      "Processed 4000\n",
      "Processed 5000\n",
      "Processed 6000\n",
      "Processed 7000\n",
      "Processed 8000\n",
      "Processed 9000\n",
      "Processed 10000\n",
      "Processed 11000\n",
      "Processed 12000\n",
      "Processed 13000\n",
      "Processed 14000\n",
      "Processed 15000\n",
      "Processed 16000\n",
      "Processed 17000\n",
      "Processed 18000\n",
      "Processed 19000\n",
      "Processed 20000\n",
      "Processed 21000\n",
      "Processed 22000\n",
      "Processed 23000\n",
      "Processed 24000\n",
      "Processed 25000\n",
      "Processed 26000\n",
      "Processed 27000\n",
      "Processed 28000\n",
      "Processed 29000\n",
      "Processed 30000\n",
      "Processed 31000\n",
      "Processed 32000\n",
      "Processed 33000\n",
      "Processed 34000\n",
      "Processed 35000\n",
      "Processed 36000\n",
      "Processed 37000\n",
      "Processed 38000\n",
      "Processed 39000\n",
      "Processed 40000\n",
      "Processed 41000\n",
      "Processed 42000\n",
      "Processed 43000\n",
      "Processed 44000\n",
      "Processed 45000\n",
      "Processed 46000\n",
      "Processed 47000\n",
      "Processed 48000\n",
      "Processed 49000\n"
     ]
    }
   ],
   "source": [
    "from pymongo import MongoClient\n",
    "from Polygon import Polygon\n",
    "from Polygon import Error as PolygonError\n",
    "\n",
    "from geopy.distance import vincenty\n",
    "\n",
    "# connect to mongodb\n",
    "client = MongoClient(\"192.168.2\", 27017)\n",
    "db = client[\"twitter\"]\n",
    "\n",
    "# get the tweet cursor\n",
    "cursor = db.geotweets.find({'locinf.mi.test': {'$ne': None}})\n",
    "\n",
    "def get_poly(doc):\n",
    "    # get the poly\n",
    "    try:\n",
    "        poly = eval(doc[\"locinf\"][\"mi\"][\"test\"][\"poly\"])\n",
    "    except KeyError:\n",
    "        return None, None\n",
    "        \n",
    "    centres = []\n",
    "    \n",
    "    p = Polygon()\n",
    "    for i in poly:\n",
    "        p.addContour(i)\n",
    "\n",
    "    try:\n",
    "        center = p.center()\n",
    "    except PolygonError:\n",
    "        return None, None\n",
    "    \n",
    "    return p, center\n",
    "\n",
    "uname = []\n",
    "infos = []\n",
    "totalcount = 0\n",
    "count = 0\n",
    "nocount = 0\n",
    "\n",
    "for doc in cursor:\n",
    "    totalcount += 1\n",
    "    if doc[\"geo\"] is None:\n",
    "        continue\n",
    "\n",
    "    # get the real point\n",
    "    point = (doc[\"geo\"][\"coordinates\"][1], doc[\"geo\"][\"coordinates\"][0])\n",
    "    # get the poly and the centre\n",
    "    poly, center = get_poly(doc)\n",
    "    \n",
    "    if poly is None:\n",
    "        nocount += 1\n",
    "        continue\n",
    "\n",
    "    distance = vincenty((point[1], point[0]), (center[1], center[0])).km\n",
    "    \n",
    "    info = [\n",
    "        distance,\n",
    "        poly.area(),\n",
    "        doc[\"locinf\"][\"mi\"][\"test\"][\"weight\"],\n",
    "        doc[\"locinf\"][\"mi\"][\"test\"][\"len\"][\"polys\"],\n",
    "        doc[\"locinf\"][\"mi\"][\"test\"][\"len\"][\"inds\"],   \n",
    "    ]\n",
    "    uname.append(doc[\"user\"][\"screen_name\"])\n",
    "    infos.append(info)\n",
    "    \n",
    "    count += 1\n",
    "    if count % 1000 == 0:\n",
    "        print(\"Processed\", count)\n"
   ]
  },
  {
   "cell_type": "code",
   "execution_count": 11,
   "metadata": {
    "collapsed": false
   },
   "outputs": [
    {
     "data": {
      "text/plain": [
       "array([  4.94879503e+03,   3.69274187e+00,   2.38272793e+00,\n",
       "         6.00000000e+00,   3.00000000e+00])"
      ]
     },
     "execution_count": 11,
     "metadata": {},
     "output_type": "execute_result"
    }
   ],
   "source": [
    "X = asarray(infos)\n",
    "X[0]"
   ]
  },
  {
   "cell_type": "code",
   "execution_count": 14,
   "metadata": {
    "collapsed": false
   },
   "outputs": [],
   "source": [
    "def func(x, w):\n",
    "    return sum([x[i+1] * w[i] for i in range(len(w))])\n",
    "                \n",
    "def err(x, w):\n",
    "    return func(x, w) - x[0]\n",
    "\n",
    "def opt(w):\n",
    "    return sum([err(x, w) for x in X])   "
   ]
  },
  {
   "cell_type": "code",
   "execution_count": 17,
   "metadata": {
    "collapsed": false
   },
   "outputs": [
    {
     "data": {
      "text/plain": [
       "(array([  4.94879503e+03,   2.63795327e+00,   1.73675015e+03, ...,\n",
       "          2.59111998e+00,   4.70922355e+00,   3.61356919e+02]),\n",
       " array([  4.94879503e+03,   3.69274187e+00,   2.38272793e+00,\n",
       "          6.00000000e+00,   3.00000000e+00]),\n",
       " array([ 2.63795327,  0.04702387,  2.07      ,  6.        ,  3.        ]))"
      ]
     },
     "execution_count": 17,
     "metadata": {},
     "output_type": "execute_result"
    }
   ],
   "source": [
    "w = [1, 1, 1, 1]\n",
    "plot(X[:,0], "
   ]
  },
  {
   "cell_type": "code",
   "execution_count": null,
   "metadata": {
    "collapsed": true
   },
   "outputs": [],
   "source": [
    "import scipy.optimize\n",
    " \n",
    "func(X[0], [1,1,1,1])\n",
    "   \n",
    "# use the optimize function\n",
    "xopt = scipy.optimize.fmin(func=e1, x0=[0.5, 1])\n",
    "print(\"Weights:\", xopt)"
   ]
  }
 ],
 "metadata": {
  "kernelspec": {
   "display_name": "Python 3",
   "language": "python",
   "name": "python3"
  },
  "language_info": {
   "codemirror_mode": {
    "name": "ipython",
    "version": 3
   },
   "file_extension": ".py",
   "mimetype": "text/x-python",
   "name": "python",
   "nbconvert_exporter": "python",
   "pygments_lexer": "ipython3",
   "version": "3.4.4"
  }
 },
 "nbformat": 4,
 "nbformat_minor": 0
}
