{
 "cells": [
  {
   "cell_type": "code",
   "execution_count": 1,
   "metadata": {
    "collapsed": false
   },
   "outputs": [
    {
     "name": "stdout",
     "output_type": "stream",
     "text": [
      "Populating the interactive namespace from numpy and matplotlib\n"
     ]
    }
   ],
   "source": [
    "% pylab inline\n",
    "figsize(10, 8)\n",
    "\n",
    "import sys\n",
    "sys.path.append(\"D:/ds/twicol\")"
   ]
  },
  {
   "cell_type": "code",
   "execution_count": null,
   "metadata": {
    "collapsed": true
   },
   "outputs": [],
   "source": [
    "from pymongo import MongoClient\n",
    "from Polygon import Polygon\n",
    "from Polygon import Error as PolygonError\n",
    "\n",
    "from geopy.distance import vincenty\n",
    "\n",
    "# connect to mongodb\n",
    "client = MongoClient(\"localhost\", 27017)\n",
    "db = client[\"twitter\"]\n",
    "\n",
    "# get the tweet cursor\n",
    "cursor = db.inftweets.find()\n",
    "\n",
    "dates = []\n",
    "polys = []\n",
    "count = 0\n",
    "\n",
    "for doc in cursor:\n",
    "    dates.append(doc['timestamp_obj'])\n",
    "    polys.append()\n",
    "    \n",
    "    count += 1\n",
    "    if count % 10000:\n",
    "        print(count)"
   ]
  }
 ],
 "metadata": {
  "kernelspec": {
   "display_name": "Python 3",
   "language": "python",
   "name": "python3"
  },
  "language_info": {
   "codemirror_mode": {
    "name": "ipython",
    "version": 3
   },
   "file_extension": ".py",
   "mimetype": "text/x-python",
   "name": "python",
   "nbconvert_exporter": "python",
   "pygments_lexer": "ipython3",
   "version": "3.4.3"
  }
 },
 "nbformat": 4,
 "nbformat_minor": 0
}
